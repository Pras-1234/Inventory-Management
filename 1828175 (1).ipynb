{
  "nbformat": 4,
  "nbformat_minor": 0,
  "metadata": {
    "kernelspec": {
      "display_name": "Python 3",
      "language": "python",
      "name": "python3"
    },
    "language_info": {
      "codemirror_mode": {
        "name": "ipython",
        "version": 3
      },
      "file_extension": ".py",
      "mimetype": "text/x-python",
      "name": "python",
      "nbconvert_exporter": "python",
      "pygments_lexer": "ipython3",
      "version": "3.7.6-final"
    },
    "colab": {
      "name": "1828175.ipynb",
      "provenance": []
    }
  },
  "cells": [
    {
      "cell_type": "code",
      "metadata": {
        "id": "vDgDGDCbzTxV"
      },
      "source": [
        "#importing necessary library\n",
        "import numpy as np\n",
        "import pandas as pd\n",
        "import matplotlib.pyplot as plt\n",
        "import seaborn as sns\n",
        "from sklearn.model_selection import train_test_split\n",
        "import datetime"
      ],
      "execution_count": 694,
      "outputs": []
    },
    {
      "cell_type": "markdown",
      "metadata": {
        "id": "k89o0fttzTxb"
      },
      "source": [
        "## Data Gathering"
      ]
    },
    {
      "cell_type": "code",
      "metadata": {
        "id": "l5NttjMDzTxc"
      },
      "source": [
        "# Reading the dataset as a dataframe to work upon\n",
        "data=pd.read_csv(\"1828175.csv\")"
      ],
      "execution_count": 695,
      "outputs": []
    },
    {
      "cell_type": "code",
      "metadata": {
        "colab": {
          "base_uri": "https://localhost:8080/",
          "height": 316
        },
        "id": "Nc6gDlRXzTxc",
        "outputId": "5e6d3dc4-2954-45d3-b6ea-c01cf335b89c"
      },
      "source": [
        "data.head()"
      ],
      "execution_count": 696,
      "outputs": [
        {
          "output_type": "execute_result",
          "data": {
            "text/html": [
              "<div>\n",
              "<style scoped>\n",
              "    .dataframe tbody tr th:only-of-type {\n",
              "        vertical-align: middle;\n",
              "    }\n",
              "\n",
              "    .dataframe tbody tr th {\n",
              "        vertical-align: top;\n",
              "    }\n",
              "\n",
              "    .dataframe thead th {\n",
              "        text-align: right;\n",
              "    }\n",
              "</style>\n",
              "<table border=\"1\" class=\"dataframe\">\n",
              "  <thead>\n",
              "    <tr style=\"text-align: right;\">\n",
              "      <th></th>\n",
              "      <th>business_code</th>\n",
              "      <th>cust_number</th>\n",
              "      <th>name_customer</th>\n",
              "      <th>clear_date</th>\n",
              "      <th>buisness_year</th>\n",
              "      <th>doc_id</th>\n",
              "      <th>posting_date</th>\n",
              "      <th>document_create_date</th>\n",
              "      <th>document_create_date.1</th>\n",
              "      <th>due_in_date</th>\n",
              "      <th>invoice_currency</th>\n",
              "      <th>document type</th>\n",
              "      <th>posting_id</th>\n",
              "      <th>area_business</th>\n",
              "      <th>total_open_amount</th>\n",
              "      <th>baseline_create_date</th>\n",
              "      <th>cust_payment_terms</th>\n",
              "      <th>invoice_id</th>\n",
              "      <th>isOpen</th>\n",
              "    </tr>\n",
              "  </thead>\n",
              "  <tbody>\n",
              "    <tr>\n",
              "      <th>0</th>\n",
              "      <td>U001</td>\n",
              "      <td>0200714710</td>\n",
              "      <td>SYSCO  systems</td>\n",
              "      <td>2019-02-19 00:00:00</td>\n",
              "      <td>2019.0</td>\n",
              "      <td>1.928711e+09</td>\n",
              "      <td>2019-02-01</td>\n",
              "      <td>20190130</td>\n",
              "      <td>20190201</td>\n",
              "      <td>20190216.0</td>\n",
              "      <td>USD</td>\n",
              "      <td>RV</td>\n",
              "      <td>1.0</td>\n",
              "      <td>NaN</td>\n",
              "      <td>92.43</td>\n",
              "      <td>20190201.0</td>\n",
              "      <td>NAA8</td>\n",
              "      <td>1.928711e+09</td>\n",
              "      <td>0</td>\n",
              "    </tr>\n",
              "    <tr>\n",
              "      <th>1</th>\n",
              "      <td>U001</td>\n",
              "      <td>0200726979</td>\n",
              "      <td>BJ'S  trust</td>\n",
              "      <td>2019-01-29 00:00:00</td>\n",
              "      <td>2019.0</td>\n",
              "      <td>1.928622e+09</td>\n",
              "      <td>2019-01-14</td>\n",
              "      <td>20190114</td>\n",
              "      <td>20190114</td>\n",
              "      <td>20190129.0</td>\n",
              "      <td>USD</td>\n",
              "      <td>RV</td>\n",
              "      <td>1.0</td>\n",
              "      <td>NaN</td>\n",
              "      <td>178.22</td>\n",
              "      <td>20190114.0</td>\n",
              "      <td>NAA8</td>\n",
              "      <td>1.928622e+09</td>\n",
              "      <td>0</td>\n",
              "    </tr>\n",
              "    <tr>\n",
              "      <th>2</th>\n",
              "      <td>U001</td>\n",
              "      <td>0200126819</td>\n",
              "      <td>MCLANE co</td>\n",
              "      <td>2020-02-21 00:00:00</td>\n",
              "      <td>2020.0</td>\n",
              "      <td>1.930407e+09</td>\n",
              "      <td>2020-01-23</td>\n",
              "      <td>20200116</td>\n",
              "      <td>20200123</td>\n",
              "      <td>20200207.0</td>\n",
              "      <td>USD</td>\n",
              "      <td>RV</td>\n",
              "      <td>1.0</td>\n",
              "      <td>NaN</td>\n",
              "      <td>655.00</td>\n",
              "      <td>20200123.0</td>\n",
              "      <td>NAA8</td>\n",
              "      <td>1.930407e+09</td>\n",
              "      <td>0</td>\n",
              "    </tr>\n",
              "    <tr>\n",
              "      <th>3</th>\n",
              "      <td>U001</td>\n",
              "      <td>0200763229</td>\n",
              "      <td>MAINES associates</td>\n",
              "      <td>2019-09-18 00:00:00</td>\n",
              "      <td>2019.0</td>\n",
              "      <td>1.929823e+09</td>\n",
              "      <td>2019-09-03</td>\n",
              "      <td>20190903</td>\n",
              "      <td>20190903</td>\n",
              "      <td>20190918.0</td>\n",
              "      <td>USD</td>\n",
              "      <td>RV</td>\n",
              "      <td>1.0</td>\n",
              "      <td>NaN</td>\n",
              "      <td>15170.56</td>\n",
              "      <td>20190903.0</td>\n",
              "      <td>NAA8</td>\n",
              "      <td>1.929823e+09</td>\n",
              "      <td>0</td>\n",
              "    </tr>\n",
              "    <tr>\n",
              "      <th>4</th>\n",
              "      <td>U001</td>\n",
              "      <td>CCU013</td>\n",
              "      <td>KRAFT F llc</td>\n",
              "      <td>2019-03-29 00:00:00</td>\n",
              "      <td>2019.0</td>\n",
              "      <td>1.928750e+09</td>\n",
              "      <td>2019-02-06</td>\n",
              "      <td>20190206</td>\n",
              "      <td>20190206</td>\n",
              "      <td>20190206.0</td>\n",
              "      <td>USD</td>\n",
              "      <td>RV</td>\n",
              "      <td>1.0</td>\n",
              "      <td>NaN</td>\n",
              "      <td>9488.50</td>\n",
              "      <td>20190206.0</td>\n",
              "      <td>NAX2</td>\n",
              "      <td>1.928750e+09</td>\n",
              "      <td>0</td>\n",
              "    </tr>\n",
              "  </tbody>\n",
              "</table>\n",
              "</div>"
            ],
            "text/plain": [
              "  business_code cust_number  ...    invoice_id isOpen\n",
              "0          U001  0200714710  ...  1.928711e+09      0\n",
              "1          U001  0200726979  ...  1.928622e+09      0\n",
              "2          U001  0200126819  ...  1.930407e+09      0\n",
              "3          U001  0200763229  ...  1.929823e+09      0\n",
              "4          U001      CCU013  ...  1.928750e+09      0\n",
              "\n",
              "[5 rows x 19 columns]"
            ]
          },
          "metadata": {
            "tags": []
          },
          "execution_count": 696
        }
      ]
    },
    {
      "cell_type": "code",
      "metadata": {
        "colab": {
          "base_uri": "https://localhost:8080/"
        },
        "id": "aclHOvFTzTxe",
        "outputId": "a5e69c9a-0b47-41f3-995c-cfcb980bb3d6"
      },
      "source": [
        "data.info()"
      ],
      "execution_count": 697,
      "outputs": [
        {
          "output_type": "stream",
          "text": [
            "<class 'pandas.core.frame.DataFrame'>\n",
            "RangeIndex: 50000 entries, 0 to 49999\n",
            "Data columns (total 19 columns):\n",
            " #   Column                  Non-Null Count  Dtype  \n",
            "---  ------                  --------------  -----  \n",
            " 0   business_code           50000 non-null  object \n",
            " 1   cust_number             50000 non-null  object \n",
            " 2   name_customer           50000 non-null  object \n",
            " 3   clear_date              46039 non-null  object \n",
            " 4   buisness_year           50000 non-null  float64\n",
            " 5   doc_id                  50000 non-null  float64\n",
            " 6   posting_date            50000 non-null  object \n",
            " 7   document_create_date    50000 non-null  int64  \n",
            " 8   document_create_date.1  50000 non-null  int64  \n",
            " 9   due_in_date             50000 non-null  float64\n",
            " 10  invoice_currency        50000 non-null  object \n",
            " 11  document type           50000 non-null  object \n",
            " 12  posting_id              50000 non-null  float64\n",
            " 13  area_business           0 non-null      float64\n",
            " 14  total_open_amount       50000 non-null  float64\n",
            " 15  baseline_create_date    50000 non-null  float64\n",
            " 16  cust_payment_terms      50000 non-null  object \n",
            " 17  invoice_id              49996 non-null  float64\n",
            " 18  isOpen                  50000 non-null  int64  \n",
            "dtypes: float64(8), int64(3), object(8)\n",
            "memory usage: 7.2+ MB\n"
          ],
          "name": "stdout"
        }
      ]
    },
    {
      "cell_type": "markdown",
      "metadata": {
        "id": "ZCOLzMV8zTxe"
      },
      "source": [
        "**Inference** We can see that the variable like clear_date and due_in_date are not in correct format so we need to convert it to datetime format."
      ]
    },
    {
      "cell_type": "code",
      "metadata": {
        "id": "aa9zT6bZzTxe"
      },
      "source": [
        "# coverting 'clear_date' to datetime format.\n",
        "data['clear_date']=pd.to_datetime(data['clear_date'])\n",
        "#'due_in_date' is in float but so we need to format it to datetime format.\n",
        "data['due_in_date']=data['due_in_date'].apply(lambda x: pd.to_datetime(str(x), format='%Y%m%d'))\n",
        "#'document_create_date.1' is in integer so we need to format it to datetime format.\n",
        "data['document_create_date.1']=data['document_create_date.1'].apply(lambda x: pd.to_datetime(str(x), format='%Y%m%d'))"
      ],
      "execution_count": 698,
      "outputs": []
    },
    {
      "cell_type": "code",
      "metadata": {
        "colab": {
          "base_uri": "https://localhost:8080/",
          "height": 249
        },
        "id": "JcyxQi0NzTxf",
        "outputId": "9b839516-3c01-4bf0-c890-938586864dc1"
      },
      "source": [
        "data.head() #one can observe the above column are converted to datetime format"
      ],
      "execution_count": 699,
      "outputs": [
        {
          "output_type": "execute_result",
          "data": {
            "text/html": [
              "<div>\n",
              "<style scoped>\n",
              "    .dataframe tbody tr th:only-of-type {\n",
              "        vertical-align: middle;\n",
              "    }\n",
              "\n",
              "    .dataframe tbody tr th {\n",
              "        vertical-align: top;\n",
              "    }\n",
              "\n",
              "    .dataframe thead th {\n",
              "        text-align: right;\n",
              "    }\n",
              "</style>\n",
              "<table border=\"1\" class=\"dataframe\">\n",
              "  <thead>\n",
              "    <tr style=\"text-align: right;\">\n",
              "      <th></th>\n",
              "      <th>business_code</th>\n",
              "      <th>cust_number</th>\n",
              "      <th>name_customer</th>\n",
              "      <th>clear_date</th>\n",
              "      <th>buisness_year</th>\n",
              "      <th>doc_id</th>\n",
              "      <th>posting_date</th>\n",
              "      <th>document_create_date</th>\n",
              "      <th>document_create_date.1</th>\n",
              "      <th>due_in_date</th>\n",
              "      <th>invoice_currency</th>\n",
              "      <th>document type</th>\n",
              "      <th>posting_id</th>\n",
              "      <th>area_business</th>\n",
              "      <th>total_open_amount</th>\n",
              "      <th>baseline_create_date</th>\n",
              "      <th>cust_payment_terms</th>\n",
              "      <th>invoice_id</th>\n",
              "      <th>isOpen</th>\n",
              "    </tr>\n",
              "  </thead>\n",
              "  <tbody>\n",
              "    <tr>\n",
              "      <th>0</th>\n",
              "      <td>U001</td>\n",
              "      <td>0200714710</td>\n",
              "      <td>SYSCO  systems</td>\n",
              "      <td>2019-02-19</td>\n",
              "      <td>2019.0</td>\n",
              "      <td>1.928711e+09</td>\n",
              "      <td>2019-02-01</td>\n",
              "      <td>20190130</td>\n",
              "      <td>2019-02-01</td>\n",
              "      <td>2019-02-16</td>\n",
              "      <td>USD</td>\n",
              "      <td>RV</td>\n",
              "      <td>1.0</td>\n",
              "      <td>NaN</td>\n",
              "      <td>92.43</td>\n",
              "      <td>20190201.0</td>\n",
              "      <td>NAA8</td>\n",
              "      <td>1.928711e+09</td>\n",
              "      <td>0</td>\n",
              "    </tr>\n",
              "    <tr>\n",
              "      <th>1</th>\n",
              "      <td>U001</td>\n",
              "      <td>0200726979</td>\n",
              "      <td>BJ'S  trust</td>\n",
              "      <td>2019-01-29</td>\n",
              "      <td>2019.0</td>\n",
              "      <td>1.928622e+09</td>\n",
              "      <td>2019-01-14</td>\n",
              "      <td>20190114</td>\n",
              "      <td>2019-01-14</td>\n",
              "      <td>2019-01-29</td>\n",
              "      <td>USD</td>\n",
              "      <td>RV</td>\n",
              "      <td>1.0</td>\n",
              "      <td>NaN</td>\n",
              "      <td>178.22</td>\n",
              "      <td>20190114.0</td>\n",
              "      <td>NAA8</td>\n",
              "      <td>1.928622e+09</td>\n",
              "      <td>0</td>\n",
              "    </tr>\n",
              "    <tr>\n",
              "      <th>2</th>\n",
              "      <td>U001</td>\n",
              "      <td>0200126819</td>\n",
              "      <td>MCLANE co</td>\n",
              "      <td>2020-02-21</td>\n",
              "      <td>2020.0</td>\n",
              "      <td>1.930407e+09</td>\n",
              "      <td>2020-01-23</td>\n",
              "      <td>20200116</td>\n",
              "      <td>2020-01-23</td>\n",
              "      <td>2020-02-07</td>\n",
              "      <td>USD</td>\n",
              "      <td>RV</td>\n",
              "      <td>1.0</td>\n",
              "      <td>NaN</td>\n",
              "      <td>655.00</td>\n",
              "      <td>20200123.0</td>\n",
              "      <td>NAA8</td>\n",
              "      <td>1.930407e+09</td>\n",
              "      <td>0</td>\n",
              "    </tr>\n",
              "    <tr>\n",
              "      <th>3</th>\n",
              "      <td>U001</td>\n",
              "      <td>0200763229</td>\n",
              "      <td>MAINES associates</td>\n",
              "      <td>2019-09-18</td>\n",
              "      <td>2019.0</td>\n",
              "      <td>1.929823e+09</td>\n",
              "      <td>2019-09-03</td>\n",
              "      <td>20190903</td>\n",
              "      <td>2019-09-03</td>\n",
              "      <td>2019-09-18</td>\n",
              "      <td>USD</td>\n",
              "      <td>RV</td>\n",
              "      <td>1.0</td>\n",
              "      <td>NaN</td>\n",
              "      <td>15170.56</td>\n",
              "      <td>20190903.0</td>\n",
              "      <td>NAA8</td>\n",
              "      <td>1.929823e+09</td>\n",
              "      <td>0</td>\n",
              "    </tr>\n",
              "    <tr>\n",
              "      <th>4</th>\n",
              "      <td>U001</td>\n",
              "      <td>CCU013</td>\n",
              "      <td>KRAFT F llc</td>\n",
              "      <td>2019-03-29</td>\n",
              "      <td>2019.0</td>\n",
              "      <td>1.928750e+09</td>\n",
              "      <td>2019-02-06</td>\n",
              "      <td>20190206</td>\n",
              "      <td>2019-02-06</td>\n",
              "      <td>2019-02-06</td>\n",
              "      <td>USD</td>\n",
              "      <td>RV</td>\n",
              "      <td>1.0</td>\n",
              "      <td>NaN</td>\n",
              "      <td>9488.50</td>\n",
              "      <td>20190206.0</td>\n",
              "      <td>NAX2</td>\n",
              "      <td>1.928750e+09</td>\n",
              "      <td>0</td>\n",
              "    </tr>\n",
              "  </tbody>\n",
              "</table>\n",
              "</div>"
            ],
            "text/plain": [
              "  business_code cust_number  ...    invoice_id isOpen\n",
              "0          U001  0200714710  ...  1.928711e+09      0\n",
              "1          U001  0200726979  ...  1.928622e+09      0\n",
              "2          U001  0200126819  ...  1.930407e+09      0\n",
              "3          U001  0200763229  ...  1.929823e+09      0\n",
              "4          U001      CCU013  ...  1.928750e+09      0\n",
              "\n",
              "[5 rows x 19 columns]"
            ]
          },
          "metadata": {
            "tags": []
          },
          "execution_count": 699
        }
      ]
    },
    {
      "cell_type": "code",
      "metadata": {
        "colab": {
          "base_uri": "https://localhost:8080/"
        },
        "id": "oXN9v8przTxg",
        "outputId": "9b799a7f-4b66-445e-b20e-38c465122272"
      },
      "source": [
        "# delay= clear_date - due_in_date\n",
        "data['delay']=data['clear_date']-data['due_in_date']\n",
        "data['delay']# validating if it is comming correct or not"
      ],
      "execution_count": 700,
      "outputs": [
        {
          "output_type": "execute_result",
          "data": {
            "text/plain": [
              "0        3 days\n",
              "1        0 days\n",
              "2       14 days\n",
              "3        0 days\n",
              "4       51 days\n",
              "          ...  \n",
              "49995       NaT\n",
              "49996       NaT\n",
              "49997       NaT\n",
              "49998       NaT\n",
              "49999       NaT\n",
              "Name: delay, Length: 50000, dtype: timedelta64[ns]"
            ]
          },
          "metadata": {
            "tags": []
          },
          "execution_count": 700
        }
      ]
    },
    {
      "cell_type": "markdown",
      "metadata": {
        "id": "Wn12FzCozTxg"
      },
      "source": [
        "**Inference** after gathering data and observing the PRS document we came to conclusion that we are not provided with the target variable we need to derive it by making a new column 'delay'."
      ]
    },
    {
      "cell_type": "code",
      "metadata": {
        "colab": {
          "base_uri": "https://localhost:8080/",
          "height": 282
        },
        "id": "xuHgKR5ozTxg",
        "outputId": "caa3f57d-05f2-4cae-c23f-b67d4635f984"
      },
      "source": [
        "#we need to sort the data according to its creation date .\n",
        "data.sort_values(by=['document_create_date.1'],inplace=True)\n",
        "data.head()"
      ],
      "execution_count": 701,
      "outputs": [
        {
          "output_type": "execute_result",
          "data": {
            "text/html": [
              "<div>\n",
              "<style scoped>\n",
              "    .dataframe tbody tr th:only-of-type {\n",
              "        vertical-align: middle;\n",
              "    }\n",
              "\n",
              "    .dataframe tbody tr th {\n",
              "        vertical-align: top;\n",
              "    }\n",
              "\n",
              "    .dataframe thead th {\n",
              "        text-align: right;\n",
              "    }\n",
              "</style>\n",
              "<table border=\"1\" class=\"dataframe\">\n",
              "  <thead>\n",
              "    <tr style=\"text-align: right;\">\n",
              "      <th></th>\n",
              "      <th>business_code</th>\n",
              "      <th>cust_number</th>\n",
              "      <th>name_customer</th>\n",
              "      <th>clear_date</th>\n",
              "      <th>buisness_year</th>\n",
              "      <th>doc_id</th>\n",
              "      <th>posting_date</th>\n",
              "      <th>document_create_date</th>\n",
              "      <th>document_create_date.1</th>\n",
              "      <th>due_in_date</th>\n",
              "      <th>invoice_currency</th>\n",
              "      <th>document type</th>\n",
              "      <th>posting_id</th>\n",
              "      <th>area_business</th>\n",
              "      <th>total_open_amount</th>\n",
              "      <th>baseline_create_date</th>\n",
              "      <th>cust_payment_terms</th>\n",
              "      <th>invoice_id</th>\n",
              "      <th>isOpen</th>\n",
              "      <th>delay</th>\n",
              "    </tr>\n",
              "  </thead>\n",
              "  <tbody>\n",
              "    <tr>\n",
              "      <th>3987</th>\n",
              "      <td>CA02</td>\n",
              "      <td>0100054173</td>\n",
              "      <td>DIA corporation</td>\n",
              "      <td>2019-09-25</td>\n",
              "      <td>2019.0</td>\n",
              "      <td>9.500000e+09</td>\n",
              "      <td>2019-03-29</td>\n",
              "      <td>20190329</td>\n",
              "      <td>2018-12-21</td>\n",
              "      <td>2018-12-31</td>\n",
              "      <td>CAD</td>\n",
              "      <td>X2</td>\n",
              "      <td>1.0</td>\n",
              "      <td>NaN</td>\n",
              "      <td>255.00</td>\n",
              "      <td>20181221.0</td>\n",
              "      <td>CA10</td>\n",
              "      <td>NaN</td>\n",
              "      <td>0</td>\n",
              "      <td>268 days</td>\n",
              "    </tr>\n",
              "    <tr>\n",
              "      <th>28512</th>\n",
              "      <td>U001</td>\n",
              "      <td>0200726979</td>\n",
              "      <td>BJ'S</td>\n",
              "      <td>2019-01-15</td>\n",
              "      <td>2019.0</td>\n",
              "      <td>1.928538e+09</td>\n",
              "      <td>2018-12-30</td>\n",
              "      <td>20181229</td>\n",
              "      <td>2018-12-30</td>\n",
              "      <td>2019-01-14</td>\n",
              "      <td>USD</td>\n",
              "      <td>RV</td>\n",
              "      <td>1.0</td>\n",
              "      <td>NaN</td>\n",
              "      <td>139.69</td>\n",
              "      <td>20181230.0</td>\n",
              "      <td>NAA8</td>\n",
              "      <td>1.928538e+09</td>\n",
              "      <td>0</td>\n",
              "      <td>1 days</td>\n",
              "    </tr>\n",
              "    <tr>\n",
              "      <th>23669</th>\n",
              "      <td>U001</td>\n",
              "      <td>0200769623</td>\n",
              "      <td>WAL-MAR associates</td>\n",
              "      <td>2019-01-09</td>\n",
              "      <td>2019.0</td>\n",
              "      <td>1.928538e+09</td>\n",
              "      <td>2018-12-30</td>\n",
              "      <td>20181229</td>\n",
              "      <td>2018-12-30</td>\n",
              "      <td>2019-01-14</td>\n",
              "      <td>USD</td>\n",
              "      <td>RV</td>\n",
              "      <td>1.0</td>\n",
              "      <td>NaN</td>\n",
              "      <td>882.33</td>\n",
              "      <td>20181230.0</td>\n",
              "      <td>NAH4</td>\n",
              "      <td>1.928538e+09</td>\n",
              "      <td>0</td>\n",
              "      <td>-5 days</td>\n",
              "    </tr>\n",
              "    <tr>\n",
              "      <th>38468</th>\n",
              "      <td>U001</td>\n",
              "      <td>0200726979</td>\n",
              "      <td>BJ'S  foundation</td>\n",
              "      <td>2019-01-15</td>\n",
              "      <td>2019.0</td>\n",
              "      <td>1.928537e+09</td>\n",
              "      <td>2018-12-30</td>\n",
              "      <td>20181229</td>\n",
              "      <td>2018-12-30</td>\n",
              "      <td>2019-01-14</td>\n",
              "      <td>USD</td>\n",
              "      <td>RV</td>\n",
              "      <td>1.0</td>\n",
              "      <td>NaN</td>\n",
              "      <td>146.25</td>\n",
              "      <td>20181230.0</td>\n",
              "      <td>NAA8</td>\n",
              "      <td>1.928537e+09</td>\n",
              "      <td>0</td>\n",
              "      <td>1 days</td>\n",
              "    </tr>\n",
              "    <tr>\n",
              "      <th>38432</th>\n",
              "      <td>U001</td>\n",
              "      <td>0200769623</td>\n",
              "      <td>WAL-MAR us</td>\n",
              "      <td>2019-01-09</td>\n",
              "      <td>2019.0</td>\n",
              "      <td>1.928533e+09</td>\n",
              "      <td>2018-12-30</td>\n",
              "      <td>20181229</td>\n",
              "      <td>2018-12-30</td>\n",
              "      <td>2019-01-14</td>\n",
              "      <td>USD</td>\n",
              "      <td>RV</td>\n",
              "      <td>1.0</td>\n",
              "      <td>NaN</td>\n",
              "      <td>21202.06</td>\n",
              "      <td>20181230.0</td>\n",
              "      <td>NAH4</td>\n",
              "      <td>1.928533e+09</td>\n",
              "      <td>0</td>\n",
              "      <td>-5 days</td>\n",
              "    </tr>\n",
              "  </tbody>\n",
              "</table>\n",
              "</div>"
            ],
            "text/plain": [
              "      business_code cust_number  ... isOpen    delay\n",
              "3987           CA02  0100054173  ...      0 268 days\n",
              "28512          U001  0200726979  ...      0   1 days\n",
              "23669          U001  0200769623  ...      0  -5 days\n",
              "38468          U001  0200726979  ...      0   1 days\n",
              "38432          U001  0200769623  ...      0  -5 days\n",
              "\n",
              "[5 rows x 20 columns]"
            ]
          },
          "metadata": {
            "tags": []
          },
          "execution_count": 701
        }
      ]
    },
    {
      "cell_type": "markdown",
      "metadata": {
        "id": "hRvL69R-zTxh"
      },
      "source": [
        "##  Splitiing the data"
      ]
    },
    {
      "cell_type": "markdown",
      "metadata": {
        "id": "akbnR8AUzTxh"
      },
      "source": [
        "Here we will split the data into 4 parts in the following way:\n",
        "1. test set in which will contain all the values where the clear_date column is null.\n",
        "2. train set which will be used to train our machine learning model.\n",
        "3. val1 which will be used for hyperparameter tuning of our model.\n",
        "4. val2 which will act as a local tester and we will know how our model is performing by this set."
      ]
    },
    {
      "cell_type": "code",
      "metadata": {
        "colab": {
          "base_uri": "https://localhost:8080/"
        },
        "id": "b_GMXFdczTxi",
        "outputId": "aabe6981-2844-470f-859c-12ee3008fdcf"
      },
      "source": [
        "data.isnull().sum() #viewing how many values are null and in which column"
      ],
      "execution_count": 702,
      "outputs": [
        {
          "output_type": "execute_result",
          "data": {
            "text/plain": [
              "business_code                 0\n",
              "cust_number                   0\n",
              "name_customer                 0\n",
              "clear_date                 3961\n",
              "buisness_year                 0\n",
              "doc_id                        0\n",
              "posting_date                  0\n",
              "document_create_date          0\n",
              "document_create_date.1        0\n",
              "due_in_date                   0\n",
              "invoice_currency              0\n",
              "document type                 0\n",
              "posting_id                    0\n",
              "area_business             50000\n",
              "total_open_amount             0\n",
              "baseline_create_date          0\n",
              "cust_payment_terms            0\n",
              "invoice_id                    4\n",
              "isOpen                        0\n",
              "delay                      3961\n",
              "dtype: int64"
            ]
          },
          "metadata": {
            "tags": []
          },
          "execution_count": 702
        }
      ]
    },
    {
      "cell_type": "markdown",
      "metadata": {
        "id": "RzIgphVrzTxi"
      },
      "source": [
        "**Inference** We can observe that we have a total of 4434 rows in which clear_date is null and these columns will be our test set"
      ]
    },
    {
      "cell_type": "code",
      "metadata": {
        "colab": {
          "base_uri": "https://localhost:8080/",
          "height": 472
        },
        "id": "5fasFC_pzTxi",
        "outputId": "07394113-2633-4956-be25-cccc9e524e2f"
      },
      "source": [
        "#making test_set in which the clear_date column is null. \n",
        "# Split 1.\n",
        "test_set=data[(data['clear_date'].isnull())]\n",
        "test_set"
      ],
      "execution_count": 843,
      "outputs": [
        {
          "output_type": "execute_result",
          "data": {
            "text/html": [
              "<div>\n",
              "<style scoped>\n",
              "    .dataframe tbody tr th:only-of-type {\n",
              "        vertical-align: middle;\n",
              "    }\n",
              "\n",
              "    .dataframe tbody tr th {\n",
              "        vertical-align: top;\n",
              "    }\n",
              "\n",
              "    .dataframe thead th {\n",
              "        text-align: right;\n",
              "    }\n",
              "</style>\n",
              "<table border=\"1\" class=\"dataframe\">\n",
              "  <thead>\n",
              "    <tr style=\"text-align: right;\">\n",
              "      <th></th>\n",
              "      <th>business_code</th>\n",
              "      <th>cust_number</th>\n",
              "      <th>name_customer</th>\n",
              "      <th>clear_date</th>\n",
              "      <th>buisness_year</th>\n",
              "      <th>doc_id</th>\n",
              "      <th>posting_date</th>\n",
              "      <th>document_create_date</th>\n",
              "      <th>document_create_date.1</th>\n",
              "      <th>due_in_date</th>\n",
              "      <th>invoice_currency</th>\n",
              "      <th>document type</th>\n",
              "      <th>posting_id</th>\n",
              "      <th>area_business</th>\n",
              "      <th>total_open_amount</th>\n",
              "      <th>baseline_create_date</th>\n",
              "      <th>cust_payment_terms</th>\n",
              "      <th>invoice_id</th>\n",
              "      <th>isOpen</th>\n",
              "      <th>delay</th>\n",
              "    </tr>\n",
              "  </thead>\n",
              "  <tbody>\n",
              "    <tr>\n",
              "      <th>46643</th>\n",
              "      <td>U001</td>\n",
              "      <td>0200705742</td>\n",
              "      <td>DOT co</td>\n",
              "      <td>NaT</td>\n",
              "      <td>2020.0</td>\n",
              "      <td>1.930578e+09</td>\n",
              "      <td>2020-02-27</td>\n",
              "      <td>20200227</td>\n",
              "      <td>2020-02-27</td>\n",
              "      <td>2020-03-30</td>\n",
              "      <td>USD</td>\n",
              "      <td>RV</td>\n",
              "      <td>1.0</td>\n",
              "      <td>NaN</td>\n",
              "      <td>14465.24</td>\n",
              "      <td>20200227.0</td>\n",
              "      <td>NA32</td>\n",
              "      <td>1.930578e+09</td>\n",
              "      <td>1</td>\n",
              "      <td>NaT</td>\n",
              "    </tr>\n",
              "    <tr>\n",
              "      <th>49615</th>\n",
              "      <td>U001</td>\n",
              "      <td>CCCA02</td>\n",
              "      <td>KRAFT  trust</td>\n",
              "      <td>NaT</td>\n",
              "      <td>2020.0</td>\n",
              "      <td>1.930571e+09</td>\n",
              "      <td>2020-02-27</td>\n",
              "      <td>20200225</td>\n",
              "      <td>2020-02-27</td>\n",
              "      <td>2020-04-02</td>\n",
              "      <td>USD</td>\n",
              "      <td>RV</td>\n",
              "      <td>1.0</td>\n",
              "      <td>NaN</td>\n",
              "      <td>29376.00</td>\n",
              "      <td>20200227.0</td>\n",
              "      <td>NAG2</td>\n",
              "      <td>1.930571e+09</td>\n",
              "      <td>1</td>\n",
              "      <td>NaT</td>\n",
              "    </tr>\n",
              "    <tr>\n",
              "      <th>47527</th>\n",
              "      <td>U001</td>\n",
              "      <td>0200290370</td>\n",
              "      <td>BARGAIN  associates</td>\n",
              "      <td>NaT</td>\n",
              "      <td>2020.0</td>\n",
              "      <td>1.930577e+09</td>\n",
              "      <td>2020-02-27</td>\n",
              "      <td>20200227</td>\n",
              "      <td>2020-02-27</td>\n",
              "      <td>2020-03-13</td>\n",
              "      <td>USD</td>\n",
              "      <td>RV</td>\n",
              "      <td>1.0</td>\n",
              "      <td>NaN</td>\n",
              "      <td>16462.80</td>\n",
              "      <td>20200227.0</td>\n",
              "      <td>NAA8</td>\n",
              "      <td>1.930577e+09</td>\n",
              "      <td>1</td>\n",
              "      <td>NaT</td>\n",
              "    </tr>\n",
              "    <tr>\n",
              "      <th>47285</th>\n",
              "      <td>U001</td>\n",
              "      <td>0200799367</td>\n",
              "      <td>MCL us</td>\n",
              "      <td>NaT</td>\n",
              "      <td>2020.0</td>\n",
              "      <td>1.930549e+09</td>\n",
              "      <td>2020-02-27</td>\n",
              "      <td>20200220</td>\n",
              "      <td>2020-02-27</td>\n",
              "      <td>2020-03-13</td>\n",
              "      <td>USD</td>\n",
              "      <td>RV</td>\n",
              "      <td>1.0</td>\n",
              "      <td>NaN</td>\n",
              "      <td>9975.34</td>\n",
              "      <td>20200227.0</td>\n",
              "      <td>NAA8</td>\n",
              "      <td>1.930549e+09</td>\n",
              "      <td>1</td>\n",
              "      <td>NaT</td>\n",
              "    </tr>\n",
              "    <tr>\n",
              "      <th>49321</th>\n",
              "      <td>U001</td>\n",
              "      <td>0200561861</td>\n",
              "      <td>CO co</td>\n",
              "      <td>NaT</td>\n",
              "      <td>2020.0</td>\n",
              "      <td>1.930567e+09</td>\n",
              "      <td>2020-02-27</td>\n",
              "      <td>20200225</td>\n",
              "      <td>2020-02-27</td>\n",
              "      <td>2020-03-13</td>\n",
              "      <td>USD</td>\n",
              "      <td>RV</td>\n",
              "      <td>1.0</td>\n",
              "      <td>NaN</td>\n",
              "      <td>32979.53</td>\n",
              "      <td>20200227.0</td>\n",
              "      <td>NAA8</td>\n",
              "      <td>1.930567e+09</td>\n",
              "      <td>1</td>\n",
              "      <td>NaT</td>\n",
              "    </tr>\n",
              "    <tr>\n",
              "      <th>...</th>\n",
              "      <td>...</td>\n",
              "      <td>...</td>\n",
              "      <td>...</td>\n",
              "      <td>...</td>\n",
              "      <td>...</td>\n",
              "      <td>...</td>\n",
              "      <td>...</td>\n",
              "      <td>...</td>\n",
              "      <td>...</td>\n",
              "      <td>...</td>\n",
              "      <td>...</td>\n",
              "      <td>...</td>\n",
              "      <td>...</td>\n",
              "      <td>...</td>\n",
              "      <td>...</td>\n",
              "      <td>...</td>\n",
              "      <td>...</td>\n",
              "      <td>...</td>\n",
              "      <td>...</td>\n",
              "      <td>...</td>\n",
              "    </tr>\n",
              "    <tr>\n",
              "      <th>47947</th>\n",
              "      <td>U001</td>\n",
              "      <td>0200765011</td>\n",
              "      <td>MAINES associates</td>\n",
              "      <td>NaT</td>\n",
              "      <td>2020.0</td>\n",
              "      <td>1.930904e+09</td>\n",
              "      <td>2020-05-14</td>\n",
              "      <td>20200515</td>\n",
              "      <td>2020-05-14</td>\n",
              "      <td>2020-05-29</td>\n",
              "      <td>USD</td>\n",
              "      <td>RV</td>\n",
              "      <td>1.0</td>\n",
              "      <td>NaN</td>\n",
              "      <td>28049.25</td>\n",
              "      <td>20200514.0</td>\n",
              "      <td>NAA8</td>\n",
              "      <td>1.930904e+09</td>\n",
              "      <td>1</td>\n",
              "      <td>NaT</td>\n",
              "    </tr>\n",
              "    <tr>\n",
              "      <th>47295</th>\n",
              "      <td>CA02</td>\n",
              "      <td>0140104392</td>\n",
              "      <td>FLANAG trust</td>\n",
              "      <td>NaT</td>\n",
              "      <td>2020.0</td>\n",
              "      <td>2.960634e+09</td>\n",
              "      <td>2020-05-15</td>\n",
              "      <td>20200515</td>\n",
              "      <td>2020-05-15</td>\n",
              "      <td>2020-05-27</td>\n",
              "      <td>CAD</td>\n",
              "      <td>RV</td>\n",
              "      <td>1.0</td>\n",
              "      <td>NaN</td>\n",
              "      <td>5607.95</td>\n",
              "      <td>20200517.0</td>\n",
              "      <td>CA10</td>\n",
              "      <td>2.960634e+09</td>\n",
              "      <td>1</td>\n",
              "      <td>NaT</td>\n",
              "    </tr>\n",
              "    <tr>\n",
              "      <th>47452</th>\n",
              "      <td>U001</td>\n",
              "      <td>100030964</td>\n",
              "      <td>NATURA llc</td>\n",
              "      <td>NaT</td>\n",
              "      <td>2020.0</td>\n",
              "      <td>1.930898e+09</td>\n",
              "      <td>2020-05-16</td>\n",
              "      <td>20200513</td>\n",
              "      <td>2020-05-16</td>\n",
              "      <td>2020-05-31</td>\n",
              "      <td>USD</td>\n",
              "      <td>RV</td>\n",
              "      <td>1.0</td>\n",
              "      <td>NaN</td>\n",
              "      <td>14698.55</td>\n",
              "      <td>20200516.0</td>\n",
              "      <td>NAA8</td>\n",
              "      <td>1.930898e+09</td>\n",
              "      <td>1</td>\n",
              "      <td>NaT</td>\n",
              "    </tr>\n",
              "    <tr>\n",
              "      <th>48236</th>\n",
              "      <td>U001</td>\n",
              "      <td>0200763229</td>\n",
              "      <td>MAINES in</td>\n",
              "      <td>NaT</td>\n",
              "      <td>2020.0</td>\n",
              "      <td>1.930915e+09</td>\n",
              "      <td>2020-05-18</td>\n",
              "      <td>20200518</td>\n",
              "      <td>2020-05-18</td>\n",
              "      <td>2020-06-02</td>\n",
              "      <td>USD</td>\n",
              "      <td>RV</td>\n",
              "      <td>1.0</td>\n",
              "      <td>NaN</td>\n",
              "      <td>21362.82</td>\n",
              "      <td>20200518.0</td>\n",
              "      <td>NAA8</td>\n",
              "      <td>1.930915e+09</td>\n",
              "      <td>1</td>\n",
              "      <td>NaT</td>\n",
              "    </tr>\n",
              "    <tr>\n",
              "      <th>46534</th>\n",
              "      <td>U001</td>\n",
              "      <td>0200769556</td>\n",
              "      <td>SHAM</td>\n",
              "      <td>NaT</td>\n",
              "      <td>2020.0</td>\n",
              "      <td>1.930915e+09</td>\n",
              "      <td>2020-05-20</td>\n",
              "      <td>20200519</td>\n",
              "      <td>2020-05-20</td>\n",
              "      <td>2020-06-04</td>\n",
              "      <td>USD</td>\n",
              "      <td>RV</td>\n",
              "      <td>1.0</td>\n",
              "      <td>NaN</td>\n",
              "      <td>35442.45</td>\n",
              "      <td>20200520.0</td>\n",
              "      <td>NAA8</td>\n",
              "      <td>1.930915e+09</td>\n",
              "      <td>1</td>\n",
              "      <td>NaT</td>\n",
              "    </tr>\n",
              "  </tbody>\n",
              "</table>\n",
              "<p>3961 rows × 20 columns</p>\n",
              "</div>"
            ],
            "text/plain": [
              "      business_code cust_number  ... isOpen delay\n",
              "46643          U001  0200705742  ...      1   NaT\n",
              "49615          U001      CCCA02  ...      1   NaT\n",
              "47527          U001  0200290370  ...      1   NaT\n",
              "47285          U001  0200799367  ...      1   NaT\n",
              "49321          U001  0200561861  ...      1   NaT\n",
              "...             ...         ...  ...    ...   ...\n",
              "47947          U001  0200765011  ...      1   NaT\n",
              "47295          CA02  0140104392  ...      1   NaT\n",
              "47452          U001   100030964  ...      1   NaT\n",
              "48236          U001  0200763229  ...      1   NaT\n",
              "46534          U001  0200769556  ...      1   NaT\n",
              "\n",
              "[3961 rows x 20 columns]"
            ]
          },
          "metadata": {
            "tags": []
          },
          "execution_count": 843
        }
      ]
    },
    {
      "cell_type": "code",
      "metadata": {
        "id": "S4AdIUvrzTxj"
      },
      "source": [
        "# this is the data remaining after making test set.\n",
        "train=data[~(data['clear_date'].isnull())]"
      ],
      "execution_count": 704,
      "outputs": []
    },
    {
      "cell_type": "code",
      "metadata": {
        "colab": {
          "base_uri": "https://localhost:8080/",
          "height": 506
        },
        "id": "wa0OQZkGzTxj",
        "outputId": "7df8ae54-e540-44bc-f4b7-5d1e1acdde71"
      },
      "source": [
        "train"
      ],
      "execution_count": 705,
      "outputs": [
        {
          "output_type": "execute_result",
          "data": {
            "text/html": [
              "<div>\n",
              "<style scoped>\n",
              "    .dataframe tbody tr th:only-of-type {\n",
              "        vertical-align: middle;\n",
              "    }\n",
              "\n",
              "    .dataframe tbody tr th {\n",
              "        vertical-align: top;\n",
              "    }\n",
              "\n",
              "    .dataframe thead th {\n",
              "        text-align: right;\n",
              "    }\n",
              "</style>\n",
              "<table border=\"1\" class=\"dataframe\">\n",
              "  <thead>\n",
              "    <tr style=\"text-align: right;\">\n",
              "      <th></th>\n",
              "      <th>business_code</th>\n",
              "      <th>cust_number</th>\n",
              "      <th>name_customer</th>\n",
              "      <th>clear_date</th>\n",
              "      <th>buisness_year</th>\n",
              "      <th>doc_id</th>\n",
              "      <th>posting_date</th>\n",
              "      <th>document_create_date</th>\n",
              "      <th>document_create_date.1</th>\n",
              "      <th>due_in_date</th>\n",
              "      <th>invoice_currency</th>\n",
              "      <th>document type</th>\n",
              "      <th>posting_id</th>\n",
              "      <th>area_business</th>\n",
              "      <th>total_open_amount</th>\n",
              "      <th>baseline_create_date</th>\n",
              "      <th>cust_payment_terms</th>\n",
              "      <th>invoice_id</th>\n",
              "      <th>isOpen</th>\n",
              "      <th>delay</th>\n",
              "    </tr>\n",
              "  </thead>\n",
              "  <tbody>\n",
              "    <tr>\n",
              "      <th>3987</th>\n",
              "      <td>CA02</td>\n",
              "      <td>0100054173</td>\n",
              "      <td>DIA corporation</td>\n",
              "      <td>2019-09-25</td>\n",
              "      <td>2019.0</td>\n",
              "      <td>9.500000e+09</td>\n",
              "      <td>2019-03-29</td>\n",
              "      <td>20190329</td>\n",
              "      <td>2018-12-21</td>\n",
              "      <td>2018-12-31</td>\n",
              "      <td>CAD</td>\n",
              "      <td>X2</td>\n",
              "      <td>1.0</td>\n",
              "      <td>NaN</td>\n",
              "      <td>255.00</td>\n",
              "      <td>20181221.0</td>\n",
              "      <td>CA10</td>\n",
              "      <td>NaN</td>\n",
              "      <td>0</td>\n",
              "      <td>268 days</td>\n",
              "    </tr>\n",
              "    <tr>\n",
              "      <th>28512</th>\n",
              "      <td>U001</td>\n",
              "      <td>0200726979</td>\n",
              "      <td>BJ'S</td>\n",
              "      <td>2019-01-15</td>\n",
              "      <td>2019.0</td>\n",
              "      <td>1.928538e+09</td>\n",
              "      <td>2018-12-30</td>\n",
              "      <td>20181229</td>\n",
              "      <td>2018-12-30</td>\n",
              "      <td>2019-01-14</td>\n",
              "      <td>USD</td>\n",
              "      <td>RV</td>\n",
              "      <td>1.0</td>\n",
              "      <td>NaN</td>\n",
              "      <td>139.69</td>\n",
              "      <td>20181230.0</td>\n",
              "      <td>NAA8</td>\n",
              "      <td>1.928538e+09</td>\n",
              "      <td>0</td>\n",
              "      <td>1 days</td>\n",
              "    </tr>\n",
              "    <tr>\n",
              "      <th>23669</th>\n",
              "      <td>U001</td>\n",
              "      <td>0200769623</td>\n",
              "      <td>WAL-MAR associates</td>\n",
              "      <td>2019-01-09</td>\n",
              "      <td>2019.0</td>\n",
              "      <td>1.928538e+09</td>\n",
              "      <td>2018-12-30</td>\n",
              "      <td>20181229</td>\n",
              "      <td>2018-12-30</td>\n",
              "      <td>2019-01-14</td>\n",
              "      <td>USD</td>\n",
              "      <td>RV</td>\n",
              "      <td>1.0</td>\n",
              "      <td>NaN</td>\n",
              "      <td>882.33</td>\n",
              "      <td>20181230.0</td>\n",
              "      <td>NAH4</td>\n",
              "      <td>1.928538e+09</td>\n",
              "      <td>0</td>\n",
              "      <td>-5 days</td>\n",
              "    </tr>\n",
              "    <tr>\n",
              "      <th>38468</th>\n",
              "      <td>U001</td>\n",
              "      <td>0200726979</td>\n",
              "      <td>BJ'S  foundation</td>\n",
              "      <td>2019-01-15</td>\n",
              "      <td>2019.0</td>\n",
              "      <td>1.928537e+09</td>\n",
              "      <td>2018-12-30</td>\n",
              "      <td>20181229</td>\n",
              "      <td>2018-12-30</td>\n",
              "      <td>2019-01-14</td>\n",
              "      <td>USD</td>\n",
              "      <td>RV</td>\n",
              "      <td>1.0</td>\n",
              "      <td>NaN</td>\n",
              "      <td>146.25</td>\n",
              "      <td>20181230.0</td>\n",
              "      <td>NAA8</td>\n",
              "      <td>1.928537e+09</td>\n",
              "      <td>0</td>\n",
              "      <td>1 days</td>\n",
              "    </tr>\n",
              "    <tr>\n",
              "      <th>38432</th>\n",
              "      <td>U001</td>\n",
              "      <td>0200769623</td>\n",
              "      <td>WAL-MAR us</td>\n",
              "      <td>2019-01-09</td>\n",
              "      <td>2019.0</td>\n",
              "      <td>1.928533e+09</td>\n",
              "      <td>2018-12-30</td>\n",
              "      <td>20181229</td>\n",
              "      <td>2018-12-30</td>\n",
              "      <td>2019-01-14</td>\n",
              "      <td>USD</td>\n",
              "      <td>RV</td>\n",
              "      <td>1.0</td>\n",
              "      <td>NaN</td>\n",
              "      <td>21202.06</td>\n",
              "      <td>20181230.0</td>\n",
              "      <td>NAH4</td>\n",
              "      <td>1.928533e+09</td>\n",
              "      <td>0</td>\n",
              "      <td>-5 days</td>\n",
              "    </tr>\n",
              "    <tr>\n",
              "      <th>...</th>\n",
              "      <td>...</td>\n",
              "      <td>...</td>\n",
              "      <td>...</td>\n",
              "      <td>...</td>\n",
              "      <td>...</td>\n",
              "      <td>...</td>\n",
              "      <td>...</td>\n",
              "      <td>...</td>\n",
              "      <td>...</td>\n",
              "      <td>...</td>\n",
              "      <td>...</td>\n",
              "      <td>...</td>\n",
              "      <td>...</td>\n",
              "      <td>...</td>\n",
              "      <td>...</td>\n",
              "      <td>...</td>\n",
              "      <td>...</td>\n",
              "      <td>...</td>\n",
              "      <td>...</td>\n",
              "      <td>...</td>\n",
              "    </tr>\n",
              "    <tr>\n",
              "      <th>6552</th>\n",
              "      <td>U001</td>\n",
              "      <td>0200103402</td>\n",
              "      <td>LIT systems</td>\n",
              "      <td>2020-03-12</td>\n",
              "      <td>2020.0</td>\n",
              "      <td>1.930572e+09</td>\n",
              "      <td>2020-02-26</td>\n",
              "      <td>20200226</td>\n",
              "      <td>2020-02-26</td>\n",
              "      <td>2020-03-12</td>\n",
              "      <td>USD</td>\n",
              "      <td>RV</td>\n",
              "      <td>1.0</td>\n",
              "      <td>NaN</td>\n",
              "      <td>11224.73</td>\n",
              "      <td>20200226.0</td>\n",
              "      <td>NAA8</td>\n",
              "      <td>1.930572e+09</td>\n",
              "      <td>0</td>\n",
              "      <td>0 days</td>\n",
              "    </tr>\n",
              "    <tr>\n",
              "      <th>2166</th>\n",
              "      <td>U001</td>\n",
              "      <td>0200418007</td>\n",
              "      <td>AM us</td>\n",
              "      <td>2020-03-13</td>\n",
              "      <td>2020.0</td>\n",
              "      <td>1.930548e+09</td>\n",
              "      <td>2020-02-27</td>\n",
              "      <td>20200220</td>\n",
              "      <td>2020-02-27</td>\n",
              "      <td>2020-03-13</td>\n",
              "      <td>USD</td>\n",
              "      <td>RV</td>\n",
              "      <td>1.0</td>\n",
              "      <td>NaN</td>\n",
              "      <td>4171.53</td>\n",
              "      <td>20200227.0</td>\n",
              "      <td>NAA8</td>\n",
              "      <td>1.930548e+09</td>\n",
              "      <td>0</td>\n",
              "      <td>0 days</td>\n",
              "    </tr>\n",
              "    <tr>\n",
              "      <th>6496</th>\n",
              "      <td>CA02</td>\n",
              "      <td>0140106408</td>\n",
              "      <td>WAL-M foundation</td>\n",
              "      <td>2020-03-18</td>\n",
              "      <td>2020.0</td>\n",
              "      <td>2.960617e+09</td>\n",
              "      <td>2020-02-27</td>\n",
              "      <td>20200227</td>\n",
              "      <td>2020-02-27</td>\n",
              "      <td>2020-03-09</td>\n",
              "      <td>CAD</td>\n",
              "      <td>RV</td>\n",
              "      <td>1.0</td>\n",
              "      <td>NaN</td>\n",
              "      <td>12740.33</td>\n",
              "      <td>20200228.0</td>\n",
              "      <td>CA10</td>\n",
              "      <td>2.960617e+09</td>\n",
              "      <td>0</td>\n",
              "      <td>9 days</td>\n",
              "    </tr>\n",
              "    <tr>\n",
              "      <th>29053</th>\n",
              "      <td>U001</td>\n",
              "      <td>0200762950</td>\n",
              "      <td>HAR systems</td>\n",
              "      <td>2020-03-13</td>\n",
              "      <td>2020.0</td>\n",
              "      <td>1.930579e+09</td>\n",
              "      <td>2020-02-27</td>\n",
              "      <td>20200227</td>\n",
              "      <td>2020-02-27</td>\n",
              "      <td>2020-03-13</td>\n",
              "      <td>USD</td>\n",
              "      <td>RV</td>\n",
              "      <td>1.0</td>\n",
              "      <td>NaN</td>\n",
              "      <td>17377.54</td>\n",
              "      <td>20200227.0</td>\n",
              "      <td>NAA8</td>\n",
              "      <td>1.930579e+09</td>\n",
              "      <td>0</td>\n",
              "      <td>0 days</td>\n",
              "    </tr>\n",
              "    <tr>\n",
              "      <th>7988</th>\n",
              "      <td>CA02</td>\n",
              "      <td>0140106408</td>\n",
              "      <td>WAL-M systems</td>\n",
              "      <td>2020-03-18</td>\n",
              "      <td>2020.0</td>\n",
              "      <td>2.960617e+09</td>\n",
              "      <td>2020-02-27</td>\n",
              "      <td>20200227</td>\n",
              "      <td>2020-02-27</td>\n",
              "      <td>2020-03-09</td>\n",
              "      <td>CAD</td>\n",
              "      <td>RV</td>\n",
              "      <td>1.0</td>\n",
              "      <td>NaN</td>\n",
              "      <td>16811.94</td>\n",
              "      <td>20200228.0</td>\n",
              "      <td>CA10</td>\n",
              "      <td>2.960617e+09</td>\n",
              "      <td>0</td>\n",
              "      <td>9 days</td>\n",
              "    </tr>\n",
              "  </tbody>\n",
              "</table>\n",
              "<p>46039 rows × 20 columns</p>\n",
              "</div>"
            ],
            "text/plain": [
              "      business_code cust_number  ... isOpen    delay\n",
              "3987           CA02  0100054173  ...      0 268 days\n",
              "28512          U001  0200726979  ...      0   1 days\n",
              "23669          U001  0200769623  ...      0  -5 days\n",
              "38468          U001  0200726979  ...      0   1 days\n",
              "38432          U001  0200769623  ...      0  -5 days\n",
              "...             ...         ...  ...    ...      ...\n",
              "6552           U001  0200103402  ...      0   0 days\n",
              "2166           U001  0200418007  ...      0   0 days\n",
              "6496           CA02  0140106408  ...      0   9 days\n",
              "29053          U001  0200762950  ...      0   0 days\n",
              "7988           CA02  0140106408  ...      0   9 days\n",
              "\n",
              "[46039 rows x 20 columns]"
            ]
          },
          "metadata": {
            "tags": []
          },
          "execution_count": 705
        }
      ]
    },
    {
      "cell_type": "code",
      "metadata": {
        "colab": {
          "base_uri": "https://localhost:8080/"
        },
        "id": "4cFpIrrUzTxj",
        "outputId": "a218aa09-71d0-4dff-b03e-fec14ecf3b25"
      },
      "source": [
        "import datetime as dt\n",
        "train['delay'] = train['delay'].dt.days.astype('int64')"
      ],
      "execution_count": 706,
      "outputs": [
        {
          "output_type": "stream",
          "text": [
            "/usr/local/lib/python3.6/dist-packages/ipykernel_launcher.py:2: SettingWithCopyWarning: \n",
            "A value is trying to be set on a copy of a slice from a DataFrame.\n",
            "Try using .loc[row_indexer,col_indexer] = value instead\n",
            "\n",
            "See the caveats in the documentation: https://pandas.pydata.org/pandas-docs/stable/user_guide/indexing.html#returning-a-view-versus-a-copy\n",
            "  \n"
          ],
          "name": "stderr"
        }
      ]
    },
    {
      "cell_type": "code",
      "metadata": {
        "colab": {
          "base_uri": "https://localhost:8080/",
          "height": 52
        },
        "id": "HDTddNMJzTxk",
        "outputId": "05905691-1801-4d2a-a074-2bc7b11ffd01"
      },
      "source": [
        "'''#making of two dataframes one has features named as x and another has target variable delay as y.\n",
        "y=rest_set['delay']\n",
        "x=rest_set.drop('delay',inplace=False,axis=1)\n",
        "#checking shape of each dataframe\n",
        "x.shape,y.shape,rest_set.shape'''"
      ],
      "execution_count": 707,
      "outputs": [
        {
          "output_type": "execute_result",
          "data": {
            "application/vnd.google.colaboratory.intrinsic+json": {
              "type": "string"
            },
            "text/plain": [
              "\"#making of two dataframes one has features named as x and another has target variable delay as y.\\ny=rest_set['delay']\\nx=rest_set.drop('delay',inplace=False,axis=1)\\n#checking shape of each dataframe\\nx.shape,y.shape,rest_set.shape\""
            ]
          },
          "metadata": {
            "tags": []
          },
          "execution_count": 707
        }
      ]
    },
    {
      "cell_type": "code",
      "metadata": {
        "colab": {
          "base_uri": "https://localhost:8080/",
          "height": 69
        },
        "id": "tEqS0cX5zTxk",
        "outputId": "b8f92f84-89b3-42aa-98d9-e1797c035d42"
      },
      "source": [
        "'''#spliting the data into train and test with training data being 70% and 30% for testing.\n",
        "#split 2\n",
        "x_train,x_test,y_train,y_test=train_test_split(x,y,shuffle=False,test_size=0.3,random_state=0)\n",
        "#checking the shape confirms the data is splited correctly in 70,30 percent for train and test respectively\n",
        "x_train.shape,x_test.shape,y_train.shape,y_test.shape'''"
      ],
      "execution_count": 708,
      "outputs": [
        {
          "output_type": "execute_result",
          "data": {
            "application/vnd.google.colaboratory.intrinsic+json": {
              "type": "string"
            },
            "text/plain": [
              "'#spliting the data into train and test with training data being 70% and 30% for testing.\\n#split 2\\nx_train,x_test,y_train,y_test=train_test_split(x,y,shuffle=False,test_size=0.3,random_state=0)\\n#checking the shape confirms the data is splited correctly in 70,30 percent for train and test respectively\\nx_train.shape,x_test.shape,y_train.shape,y_test.shape'"
            ]
          },
          "metadata": {
            "tags": []
          },
          "execution_count": 708
        }
      ]
    },
    {
      "cell_type": "code",
      "metadata": {
        "colab": {
          "base_uri": "https://localhost:8080/",
          "height": 69
        },
        "id": "qjBGrwrWzTxl",
        "outputId": "f431273a-2d5b-408a-a96e-84cd3ed8faff"
      },
      "source": [
        "'''#here the testing part is again splited into two sets val1 for hyperparameter tuning and val2 for model testing in \n",
        "# equal amount i.e 50 % each which is 15% of total data.\n",
        "# This is split 3 and 4.\n",
        "x_val1,x_val2,y_val1,y_val2=train_test_split(x_test,y_test,shuffle=False,test_size=0.5,random_state=0)\n",
        "x_val1.shape,x_val2.shape,y_val1.shape,y_val2.shape'''"
      ],
      "execution_count": 709,
      "outputs": [
        {
          "output_type": "execute_result",
          "data": {
            "application/vnd.google.colaboratory.intrinsic+json": {
              "type": "string"
            },
            "text/plain": [
              "'#here the testing part is again splited into two sets val1 for hyperparameter tuning and val2 for model testing in \\n# equal amount i.e 50 % each which is 15% of total data.\\n# This is split 3 and 4.\\nx_val1,x_val2,y_val1,y_val2=train_test_split(x_test,y_test,shuffle=False,test_size=0.5,random_state=0)\\nx_val1.shape,x_val2.shape,y_val1.shape,y_val2.shape'"
            ]
          },
          "metadata": {
            "tags": []
          },
          "execution_count": 709
        }
      ]
    },
    {
      "cell_type": "code",
      "metadata": {
        "colab": {
          "base_uri": "https://localhost:8080/",
          "height": 35
        },
        "id": "VTthVLlFzTxl",
        "outputId": "f9ddd2dd-e145-4d3a-ea58-d161e83500b4"
      },
      "source": [
        "'''train=pd.concat([x_train,y_train],axis=1)\n",
        "val1=pd.concat([x_val1,y_val1],axis=1)\n",
        "val2=pd.concat([x_val2,y_val2],axis=1)'''"
      ],
      "execution_count": 710,
      "outputs": [
        {
          "output_type": "execute_result",
          "data": {
            "application/vnd.google.colaboratory.intrinsic+json": {
              "type": "string"
            },
            "text/plain": [
              "'train=pd.concat([x_train,y_train],axis=1)\\nval1=pd.concat([x_val1,y_val1],axis=1)\\nval2=pd.concat([x_val2,y_val2],axis=1)'"
            ]
          },
          "metadata": {
            "tags": []
          },
          "execution_count": 710
        }
      ]
    },
    {
      "cell_type": "code",
      "metadata": {
        "colab": {
          "base_uri": "https://localhost:8080/"
        },
        "id": "SvvsuhGdzTxm",
        "outputId": "22e44f26-a77b-4c8b-9816-9236f641577f"
      },
      "source": [
        "train.shape#,val1.shape,val2.shape"
      ],
      "execution_count": 711,
      "outputs": [
        {
          "output_type": "execute_result",
          "data": {
            "text/plain": [
              "(46039, 20)"
            ]
          },
          "metadata": {
            "tags": []
          },
          "execution_count": 711
        }
      ]
    },
    {
      "cell_type": "markdown",
      "metadata": {
        "id": "_I-2zIsizTxm"
      },
      "source": [
        ""
      ]
    },
    {
      "cell_type": "markdown",
      "metadata": {
        "id": "X9a-bcFszTxm"
      },
      "source": [
        "## Data Preprocessing"
      ]
    },
    {
      "cell_type": "markdown",
      "metadata": {
        "id": "Db-fCLStzTxm"
      },
      "source": [
        "### Constant Feature Removal"
      ]
    },
    {
      "cell_type": "code",
      "metadata": {
        "colab": {
          "base_uri": "https://localhost:8080/"
        },
        "id": "NXSr3rGHzTxn",
        "outputId": "8f4d0dc1-3201-4bfd-a749-192bb20df7d3"
      },
      "source": [
        "# as it can be seen posting_id is constant throughout the data hence it is a constant feature and is of no use in our \n",
        "# model so we can remove it.\n",
        "data['posting_id'].unique()\n"
      ],
      "execution_count": 712,
      "outputs": [
        {
          "output_type": "execute_result",
          "data": {
            "text/plain": [
              "array([1.])"
            ]
          },
          "metadata": {
            "tags": []
          },
          "execution_count": 712
        }
      ]
    },
    {
      "cell_type": "code",
      "metadata": {
        "id": "ufp0rgHezTxn"
      },
      "source": [
        "#test_set.drop('posting_id', inplace=True, axis =1)"
      ],
      "execution_count": 713,
      "outputs": []
    },
    {
      "cell_type": "code",
      "metadata": {
        "colab": {
          "base_uri": "https://localhost:8080/"
        },
        "id": "T24hmtk9zTxn",
        "outputId": "10631ed9-3efa-4143-e52e-9d9ac741c26d"
      },
      "source": [
        "train.drop('posting_id', inplace=True, axis =1)\n",
        "#val1.drop('posting_id', inplace=True, axis =1)\n",
        "#val2.drop('posting_id', inplace=True, axis =1)"
      ],
      "execution_count": 714,
      "outputs": [
        {
          "output_type": "stream",
          "text": [
            "/usr/local/lib/python3.6/dist-packages/pandas/core/frame.py:4174: SettingWithCopyWarning: \n",
            "A value is trying to be set on a copy of a slice from a DataFrame\n",
            "\n",
            "See the caveats in the documentation: https://pandas.pydata.org/pandas-docs/stable/user_guide/indexing.html#returning-a-view-versus-a-copy\n",
            "  errors=errors,\n"
          ],
          "name": "stderr"
        }
      ]
    },
    {
      "cell_type": "code",
      "metadata": {
        "colab": {
          "base_uri": "https://localhost:8080/"
        },
        "id": "eV_i9NGbzTxn",
        "outputId": "5e20ac24-0627-46cb-a396-bb05adbe385a"
      },
      "source": [
        "train.shape # ,val1.shape,val2.shape"
      ],
      "execution_count": 715,
      "outputs": [
        {
          "output_type": "execute_result",
          "data": {
            "text/plain": [
              "(46039, 19)"
            ]
          },
          "metadata": {
            "tags": []
          },
          "execution_count": 715
        }
      ]
    },
    {
      "cell_type": "markdown",
      "metadata": {
        "id": "9fdhDQngzTxo"
      },
      "source": [
        "**Inference** We have removed posting_id from all our different datasets after splitting as it has constant value througout the data and provide no usefull information."
      ]
    },
    {
      "cell_type": "code",
      "metadata": {
        "colab": {
          "base_uri": "https://localhost:8080/"
        },
        "id": "uQ7Z7cP2zTxo",
        "outputId": "ad5630d5-588a-4eec-9a7d-f30aae7f4edc"
      },
      "source": [
        "data['area_business'].unique()"
      ],
      "execution_count": 716,
      "outputs": [
        {
          "output_type": "execute_result",
          "data": {
            "text/plain": [
              "array([nan])"
            ]
          },
          "metadata": {
            "tags": []
          },
          "execution_count": 716
        }
      ]
    },
    {
      "cell_type": "code",
      "metadata": {
        "colab": {
          "base_uri": "https://localhost:8080/"
        },
        "id": "pylUL2FbzTxo",
        "outputId": "c458533e-4d46-4331-8089-e039720abf88"
      },
      "source": [
        "train.drop('area_business', inplace=True, axis =1)\n",
        "#val1.drop('area_business', inplace=True, axis =1)\n",
        "#val2.drop('area_business', inplace=True, axis =1)\n",
        "#train.shape,val1.shape,val2.shape"
      ],
      "execution_count": 717,
      "outputs": [
        {
          "output_type": "stream",
          "text": [
            "/usr/local/lib/python3.6/dist-packages/pandas/core/frame.py:4174: SettingWithCopyWarning: \n",
            "A value is trying to be set on a copy of a slice from a DataFrame\n",
            "\n",
            "See the caveats in the documentation: https://pandas.pydata.org/pandas-docs/stable/user_guide/indexing.html#returning-a-view-versus-a-copy\n",
            "  errors=errors,\n"
          ],
          "name": "stderr"
        }
      ]
    },
    {
      "cell_type": "markdown",
      "metadata": {
        "id": "njymGusIzTxp"
      },
      "source": [
        "### Duplicate Column removal\n",
        " 1. As document_create_date and document_create_date.1 is almost similar with .1 version being more normalised one so we will drop the 1st one "
      ]
    },
    {
      "cell_type": "code",
      "metadata": {
        "colab": {
          "base_uri": "https://localhost:8080/"
        },
        "id": "uUagEvzizTxp",
        "outputId": "412e381e-9d20-465a-88a2-150fc72a287c"
      },
      "source": [
        "train.drop('document_create_date', inplace=True, axis =1)\n",
        "#val1.drop('document_create_date', inplace=True, axis =1)\n",
        "#val2.drop('document_create_date', inplace=True, axis =1)\n",
        "#train.shape,val1.shape,val2.shape"
      ],
      "execution_count": 718,
      "outputs": [
        {
          "output_type": "stream",
          "text": [
            "/usr/local/lib/python3.6/dist-packages/pandas/core/frame.py:4174: SettingWithCopyWarning: \n",
            "A value is trying to be set on a copy of a slice from a DataFrame\n",
            "\n",
            "See the caveats in the documentation: https://pandas.pydata.org/pandas-docs/stable/user_guide/indexing.html#returning-a-view-versus-a-copy\n",
            "  errors=errors,\n"
          ],
          "name": "stderr"
        }
      ]
    },
    {
      "cell_type": "code",
      "metadata": {
        "colab": {
          "base_uri": "https://localhost:8080/"
        },
        "id": "AEvWTy-ozTxp",
        "outputId": "79c75dd3-8636-4294-8611-bb2612c6a02c"
      },
      "source": [
        "train['isOpen'].unique()"
      ],
      "execution_count": 719,
      "outputs": [
        {
          "output_type": "execute_result",
          "data": {
            "text/plain": [
              "array([0])"
            ]
          },
          "metadata": {
            "tags": []
          },
          "execution_count": 719
        }
      ]
    },
    {
      "cell_type": "markdown",
      "metadata": {
        "id": "JtWuJNIdzTxq"
      },
      "source": [
        "### Unuseful Column Removal"
      ]
    },
    {
      "cell_type": "code",
      "metadata": {
        "colab": {
          "base_uri": "https://localhost:8080/"
        },
        "id": "O0L7nvg-zTxq",
        "outputId": "af15ee54-5441-4432-f131-2ff8236f3259"
      },
      "source": [
        "train.drop('isOpen', inplace=True, axis =1)\n",
        "#val1.drop('isOpen', inplace=True, axis =1)\n",
        "#val2.drop('isOpen', inplace=True, axis =1)\n",
        "train.shape#,val1.shape,val2.shape"
      ],
      "execution_count": 720,
      "outputs": [
        {
          "output_type": "stream",
          "text": [
            "/usr/local/lib/python3.6/dist-packages/pandas/core/frame.py:4174: SettingWithCopyWarning: \n",
            "A value is trying to be set on a copy of a slice from a DataFrame\n",
            "\n",
            "See the caveats in the documentation: https://pandas.pydata.org/pandas-docs/stable/user_guide/indexing.html#returning-a-view-versus-a-copy\n",
            "  errors=errors,\n"
          ],
          "name": "stderr"
        },
        {
          "output_type": "execute_result",
          "data": {
            "text/plain": [
              "(46039, 16)"
            ]
          },
          "metadata": {
            "tags": []
          },
          "execution_count": 720
        }
      ]
    },
    {
      "cell_type": "code",
      "metadata": {
        "colab": {
          "base_uri": "https://localhost:8080/"
        },
        "id": "qhMEbxqozTxq",
        "outputId": "e66120a5-6391-47fe-d94f-fe5377cce40b"
      },
      "source": [
        "train.drop('invoice_id', inplace=True, axis =1)\n",
        "#val1.drop('invoice_id', inplace=True, axis =1)\n",
        "#val2.drop('invoice_id', inplace=True, axis =1)\n",
        "train.shape#,val1.shape,val2.shape"
      ],
      "execution_count": 721,
      "outputs": [
        {
          "output_type": "stream",
          "text": [
            "/usr/local/lib/python3.6/dist-packages/pandas/core/frame.py:4174: SettingWithCopyWarning: \n",
            "A value is trying to be set on a copy of a slice from a DataFrame\n",
            "\n",
            "See the caveats in the documentation: https://pandas.pydata.org/pandas-docs/stable/user_guide/indexing.html#returning-a-view-versus-a-copy\n",
            "  errors=errors,\n"
          ],
          "name": "stderr"
        },
        {
          "output_type": "execute_result",
          "data": {
            "text/plain": [
              "(46039, 15)"
            ]
          },
          "metadata": {
            "tags": []
          },
          "execution_count": 721
        }
      ]
    },
    {
      "cell_type": "code",
      "metadata": {
        "colab": {
          "base_uri": "https://localhost:8080/"
        },
        "id": "YSo-i7LmzTxr",
        "outputId": "df232ca5-2ed5-4727-ea64-9b3ca883aeb4"
      },
      "source": [
        "train.drop('baseline_create_date', inplace=True, axis =1)\n",
        "#val1.drop('baseline_create_date', inplace=True, axis =1)\n",
        "#val2.drop('baseline_create_date', inplace=True, axis =1)\n",
        "train.shape#,val1.shape,val2.shape"
      ],
      "execution_count": 722,
      "outputs": [
        {
          "output_type": "stream",
          "text": [
            "/usr/local/lib/python3.6/dist-packages/pandas/core/frame.py:4174: SettingWithCopyWarning: \n",
            "A value is trying to be set on a copy of a slice from a DataFrame\n",
            "\n",
            "See the caveats in the documentation: https://pandas.pydata.org/pandas-docs/stable/user_guide/indexing.html#returning-a-view-versus-a-copy\n",
            "  errors=errors,\n"
          ],
          "name": "stderr"
        },
        {
          "output_type": "execute_result",
          "data": {
            "text/plain": [
              "(46039, 14)"
            ]
          },
          "metadata": {
            "tags": []
          },
          "execution_count": 722
        }
      ]
    },
    {
      "cell_type": "markdown",
      "metadata": {
        "id": "O4yYxOOGzTxr"
      },
      "source": [
        "## Exploratory Data Analysis"
      ]
    },
    {
      "cell_type": "markdown",
      "metadata": {
        "id": "IZQUMOyHzTxr"
      },
      "source": [
        "### Univariate Analysis\n"
      ]
    },
    {
      "cell_type": "code",
      "metadata": {
        "colab": {
          "base_uri": "https://localhost:8080/",
          "height": 0
        },
        "id": "Iof4z1vizTxr",
        "outputId": "84984217-f74f-4530-927c-05fe17eb881a"
      },
      "source": [
        "train.describe()"
      ],
      "execution_count": 723,
      "outputs": [
        {
          "output_type": "execute_result",
          "data": {
            "text/html": [
              "<div>\n",
              "<style scoped>\n",
              "    .dataframe tbody tr th:only-of-type {\n",
              "        vertical-align: middle;\n",
              "    }\n",
              "\n",
              "    .dataframe tbody tr th {\n",
              "        vertical-align: top;\n",
              "    }\n",
              "\n",
              "    .dataframe thead th {\n",
              "        text-align: right;\n",
              "    }\n",
              "</style>\n",
              "<table border=\"1\" class=\"dataframe\">\n",
              "  <thead>\n",
              "    <tr style=\"text-align: right;\">\n",
              "      <th></th>\n",
              "      <th>buisness_year</th>\n",
              "      <th>doc_id</th>\n",
              "      <th>total_open_amount</th>\n",
              "      <th>delay</th>\n",
              "    </tr>\n",
              "  </thead>\n",
              "  <tbody>\n",
              "    <tr>\n",
              "      <th>count</th>\n",
              "      <td>46039.000000</td>\n",
              "      <td>4.603900e+04</td>\n",
              "      <td>46039.000000</td>\n",
              "      <td>46039.000000</td>\n",
              "    </tr>\n",
              "    <tr>\n",
              "      <th>mean</th>\n",
              "      <td>2019.131019</td>\n",
              "      <td>2.013603e+09</td>\n",
              "      <td>32208.407347</td>\n",
              "      <td>0.781707</td>\n",
              "    </tr>\n",
              "    <tr>\n",
              "      <th>std</th>\n",
              "      <td>0.337425</td>\n",
              "      <td>2.878465e+08</td>\n",
              "      <td>39885.854270</td>\n",
              "      <td>10.988403</td>\n",
              "    </tr>\n",
              "    <tr>\n",
              "      <th>min</th>\n",
              "      <td>2019.000000</td>\n",
              "      <td>1.928490e+09</td>\n",
              "      <td>0.630000</td>\n",
              "      <td>-89.000000</td>\n",
              "    </tr>\n",
              "    <tr>\n",
              "      <th>25%</th>\n",
              "      <td>2019.000000</td>\n",
              "      <td>1.929166e+09</td>\n",
              "      <td>4583.860000</td>\n",
              "      <td>-3.000000</td>\n",
              "    </tr>\n",
              "    <tr>\n",
              "      <th>50%</th>\n",
              "      <td>2019.000000</td>\n",
              "      <td>1.929725e+09</td>\n",
              "      <td>17166.110000</td>\n",
              "      <td>0.000000</td>\n",
              "    </tr>\n",
              "    <tr>\n",
              "      <th>75%</th>\n",
              "      <td>2019.000000</td>\n",
              "      <td>1.930209e+09</td>\n",
              "      <td>46654.365000</td>\n",
              "      <td>2.000000</td>\n",
              "    </tr>\n",
              "    <tr>\n",
              "      <th>max</th>\n",
              "      <td>2020.000000</td>\n",
              "      <td>9.500000e+09</td>\n",
              "      <td>729645.920000</td>\n",
              "      <td>287.000000</td>\n",
              "    </tr>\n",
              "  </tbody>\n",
              "</table>\n",
              "</div>"
            ],
            "text/plain": [
              "       buisness_year        doc_id  total_open_amount         delay\n",
              "count   46039.000000  4.603900e+04       46039.000000  46039.000000\n",
              "mean     2019.131019  2.013603e+09       32208.407347      0.781707\n",
              "std         0.337425  2.878465e+08       39885.854270     10.988403\n",
              "min      2019.000000  1.928490e+09           0.630000    -89.000000\n",
              "25%      2019.000000  1.929166e+09        4583.860000     -3.000000\n",
              "50%      2019.000000  1.929725e+09       17166.110000      0.000000\n",
              "75%      2019.000000  1.930209e+09       46654.365000      2.000000\n",
              "max      2020.000000  9.500000e+09      729645.920000    287.000000"
            ]
          },
          "metadata": {
            "tags": []
          },
          "execution_count": 723
        }
      ]
    },
    {
      "cell_type": "code",
      "metadata": {
        "colab": {
          "base_uri": "https://localhost:8080/",
          "height": 0
        },
        "id": "kKwYKbypzTxs",
        "outputId": "e9f846e9-c0aa-4f10-9d05-9734dc43d3ca"
      },
      "source": [
        "train.describe(include=np.object)"
      ],
      "execution_count": 724,
      "outputs": [
        {
          "output_type": "execute_result",
          "data": {
            "text/html": [
              "<div>\n",
              "<style scoped>\n",
              "    .dataframe tbody tr th:only-of-type {\n",
              "        vertical-align: middle;\n",
              "    }\n",
              "\n",
              "    .dataframe tbody tr th {\n",
              "        vertical-align: top;\n",
              "    }\n",
              "\n",
              "    .dataframe thead th {\n",
              "        text-align: right;\n",
              "    }\n",
              "</style>\n",
              "<table border=\"1\" class=\"dataframe\">\n",
              "  <thead>\n",
              "    <tr style=\"text-align: right;\">\n",
              "      <th></th>\n",
              "      <th>business_code</th>\n",
              "      <th>cust_number</th>\n",
              "      <th>name_customer</th>\n",
              "      <th>posting_date</th>\n",
              "      <th>invoice_currency</th>\n",
              "      <th>document type</th>\n",
              "      <th>cust_payment_terms</th>\n",
              "    </tr>\n",
              "  </thead>\n",
              "  <tbody>\n",
              "    <tr>\n",
              "      <th>count</th>\n",
              "      <td>46039</td>\n",
              "      <td>46039</td>\n",
              "      <td>46039</td>\n",
              "      <td>46039</td>\n",
              "      <td>46039</td>\n",
              "      <td>46039</td>\n",
              "      <td>46039</td>\n",
              "    </tr>\n",
              "    <tr>\n",
              "      <th>unique</th>\n",
              "      <td>6</td>\n",
              "      <td>1429</td>\n",
              "      <td>4187</td>\n",
              "      <td>422</td>\n",
              "      <td>2</td>\n",
              "      <td>2</td>\n",
              "      <td>74</td>\n",
              "    </tr>\n",
              "    <tr>\n",
              "      <th>top</th>\n",
              "      <td>U001</td>\n",
              "      <td>0200769623</td>\n",
              "      <td>WAL-MAR corp</td>\n",
              "      <td>2019-03-08</td>\n",
              "      <td>USD</td>\n",
              "      <td>RV</td>\n",
              "      <td>NAA8</td>\n",
              "    </tr>\n",
              "    <tr>\n",
              "      <th>freq</th>\n",
              "      <td>41575</td>\n",
              "      <td>10398</td>\n",
              "      <td>1050</td>\n",
              "      <td>194</td>\n",
              "      <td>42358</td>\n",
              "      <td>46035</td>\n",
              "      <td>18503</td>\n",
              "    </tr>\n",
              "  </tbody>\n",
              "</table>\n",
              "</div>"
            ],
            "text/plain": [
              "       business_code cust_number  ... document type cust_payment_terms\n",
              "count          46039       46039  ...         46039              46039\n",
              "unique             6        1429  ...             2                 74\n",
              "top             U001  0200769623  ...            RV               NAA8\n",
              "freq           41575       10398  ...         46035              18503\n",
              "\n",
              "[4 rows x 7 columns]"
            ]
          },
          "metadata": {
            "tags": []
          },
          "execution_count": 724
        }
      ]
    },
    {
      "cell_type": "code",
      "metadata": {
        "colab": {
          "base_uri": "https://localhost:8080/",
          "height": 0
        },
        "id": "F69rvfTizTxs",
        "outputId": "f7e9a662-ca74-43aa-8025-c6840653998c"
      },
      "source": [
        "train.head()"
      ],
      "execution_count": 725,
      "outputs": [
        {
          "output_type": "execute_result",
          "data": {
            "text/html": [
              "<div>\n",
              "<style scoped>\n",
              "    .dataframe tbody tr th:only-of-type {\n",
              "        vertical-align: middle;\n",
              "    }\n",
              "\n",
              "    .dataframe tbody tr th {\n",
              "        vertical-align: top;\n",
              "    }\n",
              "\n",
              "    .dataframe thead th {\n",
              "        text-align: right;\n",
              "    }\n",
              "</style>\n",
              "<table border=\"1\" class=\"dataframe\">\n",
              "  <thead>\n",
              "    <tr style=\"text-align: right;\">\n",
              "      <th></th>\n",
              "      <th>business_code</th>\n",
              "      <th>cust_number</th>\n",
              "      <th>name_customer</th>\n",
              "      <th>clear_date</th>\n",
              "      <th>buisness_year</th>\n",
              "      <th>doc_id</th>\n",
              "      <th>posting_date</th>\n",
              "      <th>document_create_date.1</th>\n",
              "      <th>due_in_date</th>\n",
              "      <th>invoice_currency</th>\n",
              "      <th>document type</th>\n",
              "      <th>total_open_amount</th>\n",
              "      <th>cust_payment_terms</th>\n",
              "      <th>delay</th>\n",
              "    </tr>\n",
              "  </thead>\n",
              "  <tbody>\n",
              "    <tr>\n",
              "      <th>3987</th>\n",
              "      <td>CA02</td>\n",
              "      <td>0100054173</td>\n",
              "      <td>DIA corporation</td>\n",
              "      <td>2019-09-25</td>\n",
              "      <td>2019.0</td>\n",
              "      <td>9.500000e+09</td>\n",
              "      <td>2019-03-29</td>\n",
              "      <td>2018-12-21</td>\n",
              "      <td>2018-12-31</td>\n",
              "      <td>CAD</td>\n",
              "      <td>X2</td>\n",
              "      <td>255.00</td>\n",
              "      <td>CA10</td>\n",
              "      <td>268</td>\n",
              "    </tr>\n",
              "    <tr>\n",
              "      <th>28512</th>\n",
              "      <td>U001</td>\n",
              "      <td>0200726979</td>\n",
              "      <td>BJ'S</td>\n",
              "      <td>2019-01-15</td>\n",
              "      <td>2019.0</td>\n",
              "      <td>1.928538e+09</td>\n",
              "      <td>2018-12-30</td>\n",
              "      <td>2018-12-30</td>\n",
              "      <td>2019-01-14</td>\n",
              "      <td>USD</td>\n",
              "      <td>RV</td>\n",
              "      <td>139.69</td>\n",
              "      <td>NAA8</td>\n",
              "      <td>1</td>\n",
              "    </tr>\n",
              "    <tr>\n",
              "      <th>23669</th>\n",
              "      <td>U001</td>\n",
              "      <td>0200769623</td>\n",
              "      <td>WAL-MAR associates</td>\n",
              "      <td>2019-01-09</td>\n",
              "      <td>2019.0</td>\n",
              "      <td>1.928538e+09</td>\n",
              "      <td>2018-12-30</td>\n",
              "      <td>2018-12-30</td>\n",
              "      <td>2019-01-14</td>\n",
              "      <td>USD</td>\n",
              "      <td>RV</td>\n",
              "      <td>882.33</td>\n",
              "      <td>NAH4</td>\n",
              "      <td>-5</td>\n",
              "    </tr>\n",
              "    <tr>\n",
              "      <th>38468</th>\n",
              "      <td>U001</td>\n",
              "      <td>0200726979</td>\n",
              "      <td>BJ'S  foundation</td>\n",
              "      <td>2019-01-15</td>\n",
              "      <td>2019.0</td>\n",
              "      <td>1.928537e+09</td>\n",
              "      <td>2018-12-30</td>\n",
              "      <td>2018-12-30</td>\n",
              "      <td>2019-01-14</td>\n",
              "      <td>USD</td>\n",
              "      <td>RV</td>\n",
              "      <td>146.25</td>\n",
              "      <td>NAA8</td>\n",
              "      <td>1</td>\n",
              "    </tr>\n",
              "    <tr>\n",
              "      <th>38432</th>\n",
              "      <td>U001</td>\n",
              "      <td>0200769623</td>\n",
              "      <td>WAL-MAR us</td>\n",
              "      <td>2019-01-09</td>\n",
              "      <td>2019.0</td>\n",
              "      <td>1.928533e+09</td>\n",
              "      <td>2018-12-30</td>\n",
              "      <td>2018-12-30</td>\n",
              "      <td>2019-01-14</td>\n",
              "      <td>USD</td>\n",
              "      <td>RV</td>\n",
              "      <td>21202.06</td>\n",
              "      <td>NAH4</td>\n",
              "      <td>-5</td>\n",
              "    </tr>\n",
              "  </tbody>\n",
              "</table>\n",
              "</div>"
            ],
            "text/plain": [
              "      business_code cust_number  ... cust_payment_terms delay\n",
              "3987           CA02  0100054173  ...               CA10   268\n",
              "28512          U001  0200726979  ...               NAA8     1\n",
              "23669          U001  0200769623  ...               NAH4    -5\n",
              "38468          U001  0200726979  ...               NAA8     1\n",
              "38432          U001  0200769623  ...               NAH4    -5\n",
              "\n",
              "[5 rows x 14 columns]"
            ]
          },
          "metadata": {
            "tags": []
          },
          "execution_count": 725
        }
      ]
    },
    {
      "cell_type": "code",
      "metadata": {
        "colab": {
          "base_uri": "https://localhost:8080/",
          "height": 0
        },
        "id": "UiAbz9yVzTxs",
        "outputId": "509f963e-2481-4192-bd6b-e196cfc11de5"
      },
      "source": [
        "sns.distplot(train['total_open_amount'])\n",
        "train['total_open_amount'].describe()"
      ],
      "execution_count": 726,
      "outputs": [
        {
          "output_type": "stream",
          "text": [
            "/usr/local/lib/python3.6/dist-packages/seaborn/distributions.py:2557: FutureWarning: `distplot` is a deprecated function and will be removed in a future version. Please adapt your code to use either `displot` (a figure-level function with similar flexibility) or `histplot` (an axes-level function for histograms).\n",
            "  warnings.warn(msg, FutureWarning)\n"
          ],
          "name": "stderr"
        },
        {
          "output_type": "execute_result",
          "data": {
            "text/plain": [
              "count     46039.000000\n",
              "mean      32208.407347\n",
              "std       39885.854270\n",
              "min           0.630000\n",
              "25%        4583.860000\n",
              "50%       17166.110000\n",
              "75%       46654.365000\n",
              "max      729645.920000\n",
              "Name: total_open_amount, dtype: float64"
            ]
          },
          "metadata": {
            "tags": []
          },
          "execution_count": 726
        },
        {
          "output_type": "display_data",
          "data": {
            "image/png": "[encoded data removed]",
            "text/plain": [
              "<Figure size 432x288 with 1 Axes>"
            ]
          },
          "metadata": {
            "tags": [],
            "needs_background": "light"
          }
        }
      ]
    },
    {
      "cell_type": "markdown",
      "metadata": {
        "id": "5CUzOp30zTxt"
      },
      "source": [
        "**Inference** We get some stats like --Data is skewed towards left\n",
        "\n",
        "max value of open amount is - 32201<br>\n",
        "75% - 46238<br>\n",
        "median - 17079<br>\n",
        "min - 1<br>\n",
        "mean - 32201<br>"
      ]
    },
    {
      "cell_type": "code",
      "metadata": {
        "colab": {
          "base_uri": "https://localhost:8080/",
          "height": 0
        },
        "id": "EzmdsrUBzTxt",
        "outputId": "109d8b59-412b-48d4-ea3d-0657caa13233"
      },
      "source": [
        "sns.boxplot(train.total_open_amount, orient = 'v')\n"
      ],
      "execution_count": 727,
      "outputs": [
        {
          "output_type": "stream",
          "text": [
            "/usr/local/lib/python3.6/dist-packages/seaborn/_decorators.py:43: FutureWarning: Pass the following variable as a keyword arg: x. From version 0.12, the only valid positional argument will be `data`, and passing other arguments without an explicit keyword will result in an error or misinterpretation.\n",
            "  FutureWarning\n",
            "/usr/local/lib/python3.6/dist-packages/seaborn/_core.py:1319: UserWarning: Vertical orientation ignored with only `x` specified.\n",
            "  warnings.warn(single_var_warning.format(\"Vertical\", \"x\"))\n"
          ],
          "name": "stderr"
        },
        {
          "output_type": "execute_result",
          "data": {
            "text/plain": [
              "<matplotlib.axes._subplots.AxesSubplot at 0x7fbad2ef1dd8>"
            ]
          },
          "metadata": {
            "tags": []
          },
          "execution_count": 727
        },
        {
          "output_type": "display_data",
          "data": {
            "image/png": "[encoded data removed]",
            "text/plain": [
              "<Figure size 432x288 with 1 Axes>"
            ]
          },
          "metadata": {
            "tags": [],
            "needs_background": "light"
          }
        }
      ]
    },
    {
      "cell_type": "code",
      "metadata": {
        "colab": {
          "base_uri": "https://localhost:8080/",
          "height": 0
        },
        "id": "maCUxhTIzTxt",
        "outputId": "9e973a58-3448-4c80-b3ba-0ced0a7964c8"
      },
      "source": [
        "sns.boxplot(train.total_open_amount, orient = 'v',showfliers= False)"
      ],
      "execution_count": 728,
      "outputs": [
        {
          "output_type": "stream",
          "text": [
            "/usr/local/lib/python3.6/dist-packages/seaborn/_decorators.py:43: FutureWarning: Pass the following variable as a keyword arg: x. From version 0.12, the only valid positional argument will be `data`, and passing other arguments without an explicit keyword will result in an error or misinterpretation.\n",
            "  FutureWarning\n",
            "/usr/local/lib/python3.6/dist-packages/seaborn/_core.py:1319: UserWarning: Vertical orientation ignored with only `x` specified.\n",
            "  warnings.warn(single_var_warning.format(\"Vertical\", \"x\"))\n"
          ],
          "name": "stderr"
        },
        {
          "output_type": "execute_result",
          "data": {
            "text/plain": [
              "<matplotlib.axes._subplots.AxesSubplot at 0x7fbad35cf7b8>"
            ]
          },
          "metadata": {
            "tags": []
          },
          "execution_count": 728
        },
        {
          "output_type": "display_data",
          "data": {
            "image/png": "[encoded data removed]",
            "text/plain": [
              "<Figure size 432x288 with 1 Axes>"
            ]
          },
          "metadata": {
            "tags": [],
            "needs_background": "light"
          }
        }
      ]
    },
    {
      "cell_type": "code",
      "metadata": {
        "colab": {
          "base_uri": "https://localhost:8080/",
          "height": 0
        },
        "id": "oR3JlKKGzTxu",
        "outputId": "d3e4e3a9-4b2e-44c5-a34e-edcd12006fcf"
      },
      "source": [
        "plt.figure(figsize=(18,3))\n",
        "sns.distplot(train['delay'])\n",
        "train['delay'].describe()\n"
      ],
      "execution_count": 729,
      "outputs": [
        {
          "output_type": "stream",
          "text": [
            "/usr/local/lib/python3.6/dist-packages/seaborn/distributions.py:2557: FutureWarning: `distplot` is a deprecated function and will be removed in a future version. Please adapt your code to use either `displot` (a figure-level function with similar flexibility) or `histplot` (an axes-level function for histograms).\n",
            "  warnings.warn(msg, FutureWarning)\n"
          ],
          "name": "stderr"
        },
        {
          "output_type": "execute_result",
          "data": {
            "text/plain": [
              "count    46039.000000\n",
              "mean         0.781707\n",
              "std         10.988403\n",
              "min        -89.000000\n",
              "25%         -3.000000\n",
              "50%          0.000000\n",
              "75%          2.000000\n",
              "max        287.000000\n",
              "Name: delay, dtype: float64"
            ]
          },
          "metadata": {
            "tags": []
          },
          "execution_count": 729
        },
        {
          "output_type": "display_data",
          "data": {
            "image/png": "[encoded data removed]",
            "text/plain": [
              "<Figure size 1296x216 with 1 Axes>"
            ]
          },
          "metadata": {
            "tags": [],
            "needs_background": "light"
          }
        }
      ]
    },
    {
      "cell_type": "code",
      "metadata": {
        "colab": {
          "base_uri": "https://localhost:8080/",
          "height": 0
        },
        "id": "L998wNvmzTxu",
        "outputId": "3c7cc2fb-5305-4e40-ec38-40ad0e0517b6"
      },
      "source": [
        "\n",
        "sns.boxplot(train.delay, orient = 'v')"
      ],
      "execution_count": 730,
      "outputs": [
        {
          "output_type": "stream",
          "text": [
            "/usr/local/lib/python3.6/dist-packages/seaborn/_decorators.py:43: FutureWarning: Pass the following variable as a keyword arg: x. From version 0.12, the only valid positional argument will be `data`, and passing other arguments without an explicit keyword will result in an error or misinterpretation.\n",
            "  FutureWarning\n",
            "/usr/local/lib/python3.6/dist-packages/seaborn/_core.py:1319: UserWarning: Vertical orientation ignored with only `x` specified.\n",
            "  warnings.warn(single_var_warning.format(\"Vertical\", \"x\"))\n"
          ],
          "name": "stderr"
        },
        {
          "output_type": "execute_result",
          "data": {
            "text/plain": [
              "<matplotlib.axes._subplots.AxesSubplot at 0x7fbad2d2e438>"
            ]
          },
          "metadata": {
            "tags": []
          },
          "execution_count": 730
        },
        {
          "output_type": "display_data",
          "data": {
            "image/png": "[encoded data removed]",
            "text/plain": [
              "<Figure size 432x288 with 1 Axes>"
            ]
          },
          "metadata": {
            "tags": [],
            "needs_background": "light"
          }
        }
      ]
    },
    {
      "cell_type": "code",
      "metadata": {
        "colab": {
          "base_uri": "https://localhost:8080/",
          "height": 0
        },
        "id": "q_KTi8fNzTxu",
        "outputId": "19a24a35-7a9a-4bff-ced0-2a6fc3d6cf1e"
      },
      "source": [
        "sns.boxplot(train.delay, orient = 'v',showfliers= False)"
      ],
      "execution_count": 731,
      "outputs": [
        {
          "output_type": "stream",
          "text": [
            "/usr/local/lib/python3.6/dist-packages/seaborn/_decorators.py:43: FutureWarning: Pass the following variable as a keyword arg: x. From version 0.12, the only valid positional argument will be `data`, and passing other arguments without an explicit keyword will result in an error or misinterpretation.\n",
            "  FutureWarning\n",
            "/usr/local/lib/python3.6/dist-packages/seaborn/_core.py:1319: UserWarning: Vertical orientation ignored with only `x` specified.\n",
            "  warnings.warn(single_var_warning.format(\"Vertical\", \"x\"))\n"
          ],
          "name": "stderr"
        },
        {
          "output_type": "execute_result",
          "data": {
            "text/plain": [
              "<matplotlib.axes._subplots.AxesSubplot at 0x7fbad2e0fef0>"
            ]
          },
          "metadata": {
            "tags": []
          },
          "execution_count": 731
        },
        {
          "output_type": "display_data",
          "data": {
            "image/png": "[encoded data removed]",
            "text/plain": [
              "<Figure size 432x288 with 1 Axes>"
            ]
          },
          "metadata": {
            "tags": [],
            "needs_background": "light"
          }
        }
      ]
    },
    {
      "cell_type": "code",
      "metadata": {
        "colab": {
          "base_uri": "https://localhost:8080/"
        },
        "id": "uzn_yqPbzTxv",
        "outputId": "22129a47-34e7-457b-b83e-e0089d2d821c"
      },
      "source": [
        "print(train['document type'].value_counts())\n",
        "print(test_set['document type'].value_counts())\n",
        "#print(train['document type'].value_counts())\n",
        "#print(val1['document type'].value_counts())\n",
        "#print(val2['document type'].value_counts())"
      ],
      "execution_count": 732,
      "outputs": [
        {
          "output_type": "stream",
          "text": [
            "RV    46035\n",
            "X2        4\n",
            "Name: document type, dtype: int64\n",
            "RV    3961\n",
            "Name: document type, dtype: int64\n"
          ],
          "name": "stdout"
        }
      ]
    },
    {
      "cell_type": "markdown",
      "metadata": {
        "id": "9Txi3PpOzTxv"
      },
      "source": [
        "**Inference** It can be seen that X2 document type is very less as compared to RV and also it is not present in test set "
      ]
    },
    {
      "cell_type": "code",
      "metadata": {
        "colab": {
          "base_uri": "https://localhost:8080/",
          "height": 0
        },
        "id": "GjguLpXTzTxv",
        "outputId": "a1aec99d-9310-4ed1-a0f1-e3387241893e"
      },
      "source": [
        "sns.countplot(x=train['document type'])"
      ],
      "execution_count": 733,
      "outputs": [
        {
          "output_type": "execute_result",
          "data": {
            "text/plain": [
              "<matplotlib.axes._subplots.AxesSubplot at 0x7fbad2d59f98>"
            ]
          },
          "metadata": {
            "tags": []
          },
          "execution_count": 733
        },
        {
          "output_type": "display_data",
          "data": {
            "image/png": "[encoded data removed]",
            "text/plain": [
              "<Figure size 432x288 with 1 Axes>"
            ]
          },
          "metadata": {
            "tags": [],
            "needs_background": "light"
          }
        }
      ]
    },
    {
      "cell_type": "markdown",
      "metadata": {
        "id": "gt-wluzgzTxw"
      },
      "source": [
        "**Inference** One cant even see x2 in countplot as it is very low."
      ]
    },
    {
      "cell_type": "code",
      "metadata": {
        "colab": {
          "base_uri": "https://localhost:8080/"
        },
        "id": "JQLKQJGMzTxw",
        "outputId": "f1344c1a-be96-46bd-dfeb-86654508969d"
      },
      "source": [
        "train['name_customer'].nunique()"
      ],
      "execution_count": 734,
      "outputs": [
        {
          "output_type": "execute_result",
          "data": {
            "text/plain": [
              "4187"
            ]
          },
          "metadata": {
            "tags": []
          },
          "execution_count": 734
        }
      ]
    },
    {
      "cell_type": "code",
      "metadata": {
        "colab": {
          "base_uri": "https://localhost:8080/",
          "height": 0
        },
        "id": "MIDP1PtQzTxw",
        "outputId": "38205230-fe06-4b03-f31b-f453b0597ec3"
      },
      "source": [
        "plt.hist(train['buisness_year'],bins=2)\n"
      ],
      "execution_count": 735,
      "outputs": [
        {
          "output_type": "execute_result",
          "data": {
            "text/plain": [
              "(array([40007.,  6032.]),\n",
              " array([2019. , 2019.5, 2020. ]),\n",
              " <a list of 2 Patch objects>)"
            ]
          },
          "metadata": {
            "tags": []
          },
          "execution_count": 735
        },
        {
          "output_type": "display_data",
          "data": {
            "image/png": "[encoded data removed]",
            "text/plain": [
              "<Figure size 432x288 with 1 Axes>"
            ]
          },
          "metadata": {
            "tags": [],
            "needs_background": "light"
          }
        }
      ]
    },
    {
      "cell_type": "markdown",
      "metadata": {
        "id": "HZ8FHuSgzTxx"
      },
      "source": [
        "**Inference** there are only two business year so we can label encode them\n"
      ]
    },
    {
      "cell_type": "code",
      "metadata": {
        "colab": {
          "base_uri": "https://localhost:8080/",
          "height": 0
        },
        "id": "0pJL97YUzTxx",
        "outputId": "3bdd4556-86f2-45c3-e6e4-9d181618f40a"
      },
      "source": [
        "sns.countplot(x=train[\"business_code\"],data=train)"
      ],
      "execution_count": 736,
      "outputs": [
        {
          "output_type": "execute_result",
          "data": {
            "text/plain": [
              "<matplotlib.axes._subplots.AxesSubplot at 0x7fbad2ec56d8>"
            ]
          },
          "metadata": {
            "tags": []
          },
          "execution_count": 736
        },
        {
          "output_type": "display_data",
          "data": {
            "image/png": "[encoded data removed]",
            "text/plain": [
              "<Figure size 432x288 with 1 Axes>"
            ]
          },
          "metadata": {
            "tags": [],
            "needs_background": "light"
          }
        }
      ]
    },
    {
      "cell_type": "markdown",
      "metadata": {
        "id": "8DL7OTd2zTxx"
      },
      "source": [
        "**Inference** U001 has the highest occurrnce"
      ]
    },
    {
      "cell_type": "markdown",
      "metadata": {
        "id": "Bb_Q-lQ4zTxx"
      },
      "source": [
        "## Multivariate Analysis"
      ]
    },
    {
      "cell_type": "markdown",
      "metadata": {
        "id": "E_3PGTz5zTxx"
      },
      "source": [
        "### Correlation"
      ]
    },
    {
      "cell_type": "code",
      "metadata": {
        "colab": {
          "base_uri": "https://localhost:8080/"
        },
        "id": "kUkhQ2RUzTxy",
        "outputId": "204394b6-fa6c-4c13-8a80-5e5077c9e4e8"
      },
      "source": [
        "train.corr().loc['delay',:]"
      ],
      "execution_count": 737,
      "outputs": [
        {
          "output_type": "execute_result",
          "data": {
            "text/plain": [
              "buisness_year       -0.012140\n",
              "doc_id               0.174054\n",
              "total_open_amount    0.009014\n",
              "delay                1.000000\n",
              "Name: delay, dtype: float64"
            ]
          },
          "metadata": {
            "tags": []
          },
          "execution_count": 737
        }
      ]
    },
    {
      "cell_type": "code",
      "metadata": {
        "colab": {
          "base_uri": "https://localhost:8080/",
          "height": 0
        },
        "id": "-ZwxVBBOzTxy",
        "outputId": "3a59323c-78ba-47ef-95e4-b8734af40ccb"
      },
      "source": [
        "plt.figure(figsize=(10,10))\n",
        "cor = train.corr()\n",
        "sns.heatmap(cor,cmap = 'viridis',annot=True)"
      ],
      "execution_count": 738,
      "outputs": [
        {
          "output_type": "execute_result",
          "data": {
            "text/plain": [
              "<matplotlib.axes._subplots.AxesSubplot at 0x7fbad33a0fd0>"
            ]
          },
          "metadata": {
            "tags": []
          },
          "execution_count": 738
        },
        {
          "output_type": "display_data",
          "data": {
            "image/png": "[encoded data removed]",
            "text/plain": [
              "<Figure size 720x720 with 2 Axes>"
            ]
          },
          "metadata": {
            "tags": [],
            "needs_background": "light"
          }
        }
      ]
    },
    {
      "cell_type": "code",
      "metadata": {
        "colab": {
          "base_uri": "https://localhost:8080/",
          "height": 0
        },
        "id": "RUXJsQW6zTxy",
        "outputId": "38048b1f-5509-43da-b5d2-c901d114dc6d"
      },
      "source": [
        "sns.scatterplot(train['total_open_amount'],train['delay'])"
      ],
      "execution_count": 739,
      "outputs": [
        {
          "output_type": "stream",
          "text": [
            "/usr/local/lib/python3.6/dist-packages/seaborn/_decorators.py:43: FutureWarning: Pass the following variables as keyword args: x, y. From version 0.12, the only valid positional argument will be `data`, and passing other arguments without an explicit keyword will result in an error or misinterpretation.\n",
            "  FutureWarning\n"
          ],
          "name": "stderr"
        },
        {
          "output_type": "execute_result",
          "data": {
            "text/plain": [
              "<matplotlib.axes._subplots.AxesSubplot at 0x7fbad302def0>"
            ]
          },
          "metadata": {
            "tags": []
          },
          "execution_count": 739
        },
        {
          "output_type": "display_data",
          "data": {
            "image/png": "[encoded data removed]",
            "text/plain": [
              "<Figure size 432x288 with 1 Axes>"
            ]
          },
          "metadata": {
            "tags": [],
            "needs_background": "light"
          }
        }
      ]
    },
    {
      "cell_type": "code",
      "metadata": {
        "id": "F2-gOwirzTxz"
      },
      "source": [
        " #Here we can observe that even for low open amount some has delay of arround 400 days which is an outlier"
      ],
      "execution_count": 740,
      "outputs": []
    },
    {
      "cell_type": "markdown",
      "metadata": {
        "id": "OnwhIfaCzTxz"
      },
      "source": [
        "**Inferecne** One can observe that even for low open amount some has delay of arround 400 days which is an outlier\n"
      ]
    },
    {
      "cell_type": "code",
      "metadata": {
        "colab": {
          "base_uri": "https://localhost:8080/",
          "height": 0
        },
        "id": "0nUGcpGIzTxz",
        "outputId": "ed7f9896-590d-46a0-f8a9-8dff990635d2"
      },
      "source": [
        "plt.bar(train['document type'],train['delay'])"
      ],
      "execution_count": 741,
      "outputs": [
        {
          "output_type": "execute_result",
          "data": {
            "text/plain": [
              "<BarContainer object of 46039 artists>"
            ]
          },
          "metadata": {
            "tags": []
          },
          "execution_count": 741
        },
        {
          "output_type": "display_data",
          "data": {
            "image/png": "[encoded data removed]",
            "text/plain": [
              "<Figure size 432x288 with 1 Axes>"
            ]
          },
          "metadata": {
            "tags": [],
            "needs_background": "light"
          }
        }
      ]
    },
    {
      "cell_type": "markdown",
      "metadata": {
        "id": "8ibQ4Rk_zTx0"
      },
      "source": [
        "**Inference** We can observe that the customer which are having X2 never payed on time but RV can pay early or late."
      ]
    },
    {
      "cell_type": "code",
      "metadata": {
        "colab": {
          "base_uri": "https://localhost:8080/",
          "height": 0
        },
        "id": "-VQPxKUfzTx0",
        "outputId": "c7e54cd8-d158-4347-d0b8-5effa9ce72ce"
      },
      "source": [
        "plt.bar(train['invoice_currency'],train['delay'])"
      ],
      "execution_count": 742,
      "outputs": [
        {
          "output_type": "execute_result",
          "data": {
            "text/plain": [
              "<BarContainer object of 46039 artists>"
            ]
          },
          "metadata": {
            "tags": []
          },
          "execution_count": 742
        },
        {
          "output_type": "display_data",
          "data": {
            "image/png": "[encoded data removed]",
            "text/plain": [
              "<Figure size 432x288 with 1 Axes>"
            ]
          },
          "metadata": {
            "tags": [],
            "needs_background": "light"
          }
        }
      ]
    },
    {
      "cell_type": "markdown",
      "metadata": {
        "id": "lAjGVGhFzTx1"
      },
      "source": [
        "**Inference** We can observe that the customer which are having CAD have almost never payed on time but USD can pay early or late."
      ]
    },
    {
      "cell_type": "code",
      "metadata": {
        "colab": {
          "base_uri": "https://localhost:8080/"
        },
        "id": "hvSFRcQIzTx1",
        "outputId": "32caacc5-dfd7-48f5-b768-b822acf1325a"
      },
      "source": [
        "test_set['business_code'].value_counts()"
      ],
      "execution_count": 743,
      "outputs": [
        {
          "output_type": "execute_result",
          "data": {
            "text/plain": [
              "U001    3643\n",
              "CA02     290\n",
              "U013      16\n",
              "U002      10\n",
              "U005       2\n",
              "Name: business_code, dtype: int64"
            ]
          },
          "metadata": {
            "tags": []
          },
          "execution_count": 743
        }
      ]
    },
    {
      "cell_type": "code",
      "metadata": {
        "colab": {
          "base_uri": "https://localhost:8080/",
          "height": 0
        },
        "id": "lzhhCXs6zTx1",
        "outputId": "c7c875f4-8e8e-4317-b6e5-8ed40931f7b7"
      },
      "source": [
        "pd.plotting.scatter_matrix(train.loc[:, \"business_code\":\"cust_payment_terms\"], diagonal=\"kde\",figsize=(20,15))\n",
        "plt.show()"
      ],
      "execution_count": 744,
      "outputs": [
        {
          "output_type": "display_data",
          "data": {
            "image/png": "[encoded data removed]",
            "text/plain": [
              "<Figure size 1440x1080 with 9 Axes>"
            ]
          },
          "metadata": {
            "tags": [],
            "needs_background": "light"
          }
        }
      ]
    },
    {
      "cell_type": "code",
      "metadata": {
        "colab": {
          "base_uri": "https://localhost:8080/",
          "height": 0
        },
        "id": "o0yP-LjZzTx1",
        "outputId": "1833636c-7318-43bf-f45f-a9b0cc749582"
      },
      "source": [
        "train.cov()"
      ],
      "execution_count": 745,
      "outputs": [
        {
          "output_type": "execute_result",
          "data": {
            "text/html": [
              "<div>\n",
              "<style scoped>\n",
              "    .dataframe tbody tr th:only-of-type {\n",
              "        vertical-align: middle;\n",
              "    }\n",
              "\n",
              "    .dataframe tbody tr th {\n",
              "        vertical-align: top;\n",
              "    }\n",
              "\n",
              "    .dataframe thead th {\n",
              "        text-align: right;\n",
              "    }\n",
              "</style>\n",
              "<table border=\"1\" class=\"dataframe\">\n",
              "  <thead>\n",
              "    <tr style=\"text-align: right;\">\n",
              "      <th></th>\n",
              "      <th>buisness_year</th>\n",
              "      <th>doc_id</th>\n",
              "      <th>total_open_amount</th>\n",
              "      <th>delay</th>\n",
              "    </tr>\n",
              "  </thead>\n",
              "  <tbody>\n",
              "    <tr>\n",
              "      <th>buisness_year</th>\n",
              "      <td>1.138558e-01</td>\n",
              "      <td>-1.626703e+06</td>\n",
              "      <td>-2.272881e+01</td>\n",
              "      <td>-4.501185e-02</td>\n",
              "    </tr>\n",
              "    <tr>\n",
              "      <th>doc_id</th>\n",
              "      <td>-1.626703e+06</td>\n",
              "      <td>8.285564e+16</td>\n",
              "      <td>2.029730e+12</td>\n",
              "      <td>5.505270e+08</td>\n",
              "    </tr>\n",
              "    <tr>\n",
              "      <th>total_open_amount</th>\n",
              "      <td>-2.272881e+01</td>\n",
              "      <td>2.029730e+12</td>\n",
              "      <td>1.590881e+09</td>\n",
              "      <td>3.950751e+03</td>\n",
              "    </tr>\n",
              "    <tr>\n",
              "      <th>delay</th>\n",
              "      <td>-4.501185e-02</td>\n",
              "      <td>5.505270e+08</td>\n",
              "      <td>3.950751e+03</td>\n",
              "      <td>1.207450e+02</td>\n",
              "    </tr>\n",
              "  </tbody>\n",
              "</table>\n",
              "</div>"
            ],
            "text/plain": [
              "                   buisness_year        doc_id  total_open_amount         delay\n",
              "buisness_year       1.138558e-01 -1.626703e+06      -2.272881e+01 -4.501185e-02\n",
              "doc_id             -1.626703e+06  8.285564e+16       2.029730e+12  5.505270e+08\n",
              "total_open_amount  -2.272881e+01  2.029730e+12       1.590881e+09  3.950751e+03\n",
              "delay              -4.501185e-02  5.505270e+08       3.950751e+03  1.207450e+02"
            ]
          },
          "metadata": {
            "tags": []
          },
          "execution_count": 745
        }
      ]
    },
    {
      "cell_type": "code",
      "metadata": {
        "colab": {
          "base_uri": "https://localhost:8080/",
          "height": 0
        },
        "id": "GXO-cjWtzTx1",
        "outputId": "cf969909-7089-44e4-f24f-c6681fc2dc92"
      },
      "source": [
        "plt.figure(figsize=(20,10))\n",
        "sns.lineplot(train['due_in_date'].dt.day, train['delay'])\n",
        "plt.xlabel(\"Day\")\n",
        "plt.ylabel(\"Delay\")\n",
        "plt.title(\"Day vs Delay\")\n",
        "plt.show()"
      ],
      "execution_count": 746,
      "outputs": [
        {
          "output_type": "stream",
          "text": [
            "/usr/local/lib/python3.6/dist-packages/seaborn/_decorators.py:43: FutureWarning: Pass the following variables as keyword args: x, y. From version 0.12, the only valid positional argument will be `data`, and passing other arguments without an explicit keyword will result in an error or misinterpretation.\n",
            "  FutureWarning\n"
          ],
          "name": "stderr"
        },
        {
          "output_type": "display_data",
          "data": {
            "image/png": "[encoded data removed]",
            "text/plain": [
              "<Figure size 1440x720 with 1 Axes>"
            ]
          },
          "metadata": {
            "tags": [],
            "needs_background": "light"
          }
        }
      ]
    },
    {
      "cell_type": "markdown",
      "metadata": {
        "id": "pPygc7Z1zTx2"
      },
      "source": [
        "**Inference** Delay is vary less in 20 to 25 day of the month\n"
      ]
    },
    {
      "cell_type": "code",
      "metadata": {
        "colab": {
          "base_uri": "https://localhost:8080/",
          "height": 0
        },
        "id": "rVtYyyu7zTx2",
        "outputId": "9f90d977-3dcd-4556-9132-7b08ab2d579c"
      },
      "source": [
        "plt.figure(figsize=(20,10))\n",
        "sns.lineplot(train['document_create_date.1'], train['delay'])\n",
        "plt.xlabel(\"Create Date\")\n",
        "plt.ylabel(\"Delay\")\n",
        "plt.title(\"Create Date vs Delay\")\n",
        "plt.show()"
      ],
      "execution_count": 747,
      "outputs": [
        {
          "output_type": "stream",
          "text": [
            "/usr/local/lib/python3.6/dist-packages/seaborn/_decorators.py:43: FutureWarning: Pass the following variables as keyword args: x, y. From version 0.12, the only valid positional argument will be `data`, and passing other arguments without an explicit keyword will result in an error or misinterpretation.\n",
            "  FutureWarning\n"
          ],
          "name": "stderr"
        },
        {
          "output_type": "display_data",
          "data": {
            "image/png": "[encoded data removed]",
            "text/plain": [
              "<Figure size 1440x720 with 1 Axes>"
            ]
          },
          "metadata": {
            "tags": [],
            "needs_background": "light"
          }
        }
      ]
    },
    {
      "cell_type": "markdown",
      "metadata": {
        "id": "-eOvOifQzTx2"
      },
      "source": [
        "**Inference** One can observe that delay is very high during initial phase of document create date\n"
      ]
    },
    {
      "cell_type": "code",
      "metadata": {
        "colab": {
          "base_uri": "https://localhost:8080/",
          "height": 0
        },
        "id": "DEskrjKjzTx3",
        "outputId": "8439e3cc-8e33-46ce-b767-c09838190854"
      },
      "source": [
        "plt.figure(figsize=(20,10))\n",
        "sns.lineplot(train['due_in_date'].dt.dayofweek, train['delay'])\n",
        "plt.xlabel(\"Due Week Day\")\n",
        "plt.ylabel(\"Delay\")\n",
        "plt.title(\"Week Day vs Delay\")\n",
        "plt.show()"
      ],
      "execution_count": 748,
      "outputs": [
        {
          "output_type": "stream",
          "text": [
            "/usr/local/lib/python3.6/dist-packages/seaborn/_decorators.py:43: FutureWarning: Pass the following variables as keyword args: x, y. From version 0.12, the only valid positional argument will be `data`, and passing other arguments without an explicit keyword will result in an error or misinterpretation.\n",
            "  FutureWarning\n"
          ],
          "name": "stderr"
        },
        {
          "output_type": "display_data",
          "data": {
            "image/png": "[encoded data removed]",
            "text/plain": [
              "<Figure size 1440x720 with 1 Axes>"
            ]
          },
          "metadata": {
            "tags": [],
            "needs_background": "light"
          }
        }
      ]
    },
    {
      "cell_type": "markdown",
      "metadata": {
        "id": "834NWvbSzTx3"
      },
      "source": [
        "**Inference** Delay is high on 3rd and 5th day of the week"
      ]
    },
    {
      "cell_type": "markdown",
      "metadata": {
        "id": "dU3QItIUzTx3"
      },
      "source": [
        "## Feature Engineering and feature selection"
      ]
    },
    {
      "cell_type": "markdown",
      "metadata": {
        "id": "rE-WbFxazTx3"
      },
      "source": [
        "### Outlier Detection and removal"
      ]
    },
    {
      "cell_type": "code",
      "metadata": {
        "colab": {
          "base_uri": "https://localhost:8080/"
        },
        "id": "Fsl9TnRVzTx3",
        "outputId": "34173b71-83ec-48b8-ef46-ea5e4f710cab"
      },
      "source": [
        "train[train['due_in_date']<train['document_create_date.1']].shape"
      ],
      "execution_count": 749,
      "outputs": [
        {
          "output_type": "execute_result",
          "data": {
            "text/plain": [
              "(110, 14)"
            ]
          },
          "metadata": {
            "tags": []
          },
          "execution_count": 749
        }
      ]
    },
    {
      "cell_type": "markdown",
      "metadata": {
        "id": "qRyzhiZpzTx4"
      },
      "source": [
        "**Inference** The above thing is not possible as due_in_date cant be less than create date hence it is an anomaly and outlier to our data."
      ]
    },
    {
      "cell_type": "code",
      "metadata": {
        "colab": {
          "base_uri": "https://localhost:8080/"
        },
        "id": "2Wl2MEkCzTx4",
        "outputId": "d1f5042d-e528-4a13-bcb3-2f351cc9a106"
      },
      "source": [
        "train[train['clear_date']<train['document_create_date.1']].shape"
      ],
      "execution_count": 750,
      "outputs": [
        {
          "output_type": "execute_result",
          "data": {
            "text/plain": [
              "(0, 14)"
            ]
          },
          "metadata": {
            "tags": []
          },
          "execution_count": 750
        }
      ]
    },
    {
      "cell_type": "markdown",
      "metadata": {
        "id": "ZV-l9OmdzTx4"
      },
      "source": [
        "**Inference** The above thing is not possible as clear_date cant be less than document_create_date.1 hence it is an anomaly and outlier to our data."
      ]
    },
    {
      "cell_type": "code",
      "metadata": {
        "colab": {
          "base_uri": "https://localhost:8080/"
        },
        "id": "kFxrxpq1zTx4",
        "outputId": "4002f938-f257-4e20-a402-01bf4d4d36d0"
      },
      "source": [
        "train.shape"
      ],
      "execution_count": 751,
      "outputs": [
        {
          "output_type": "execute_result",
          "data": {
            "text/plain": [
              "(46039, 14)"
            ]
          },
          "metadata": {
            "tags": []
          },
          "execution_count": 751
        }
      ]
    },
    {
      "cell_type": "code",
      "metadata": {
        "id": "jiJhLizVzTx4"
      },
      "source": [
        "# Removing the above outlier from the train and validation set\n",
        "train=train.drop(index=train[train['clear_date']<train['document_create_date.1']].index)\n",
        "train=train.drop(index=train[train['due_in_date']<train['document_create_date.1']].index)\n",
        "#val1=val1.drop(index=val1[x_val1['clear_date']<val1['document_create_date.1']].index)\n",
        "#val1=val1.drop(index=val1[x_val1['due_in_date']<val1['document_create_date.1']].index)\n",
        "#val2=val2.drop(index=val2[x_val2['clear_date']<val2['document_create_date.1']].index)\n",
        "#val2=val2.drop(index=val2[x_val2['due_in_date']<val2['document_create_date.1']].index)"
      ],
      "execution_count": 752,
      "outputs": []
    },
    {
      "cell_type": "code",
      "metadata": {
        "colab": {
          "base_uri": "https://localhost:8080/"
        },
        "id": "g1Xh9b-4zTx5",
        "outputId": "b309adae-f336-4a5f-f292-b24509212cd1"
      },
      "source": [
        "train.shape"
      ],
      "execution_count": 753,
      "outputs": [
        {
          "output_type": "execute_result",
          "data": {
            "text/plain": [
              "(45929, 14)"
            ]
          },
          "metadata": {
            "tags": []
          },
          "execution_count": 753
        }
      ]
    },
    {
      "cell_type": "markdown",
      "metadata": {
        "id": "BlZVpd_2zTx5"
      },
      "source": [
        "### Label Encoding"
      ]
    },
    {
      "cell_type": "code",
      "metadata": {
        "id": "5AeReSkxzTx5"
      },
      "source": [
        "doc_typ={ 'RV':1, 'X2':2 } #Label Encoding categorical column document type"
      ],
      "execution_count": 754,
      "outputs": []
    },
    {
      "cell_type": "code",
      "metadata": {
        "id": "M0a7h_7KzTx5"
      },
      "source": [
        "train['document type']=train['document type'].map(doc_typ) #mapping the above to train, test and validation sets\n",
        "#val1['document type']=val1['document type'].map(doc_typ)\n",
        "#val2['document type']=val2['document type'].map(doc_typ)"
      ],
      "execution_count": 755,
      "outputs": []
    },
    {
      "cell_type": "code",
      "metadata": {
        "colab": {
          "base_uri": "https://localhost:8080/",
          "height": 0
        },
        "id": "TMpb57nkzTx6",
        "outputId": "091c3757-f93f-496c-b6d4-4aada1dbd7b9"
      },
      "source": [
        "train.head()"
      ],
      "execution_count": 756,
      "outputs": [
        {
          "output_type": "execute_result",
          "data": {
            "text/html": [
              "<div>\n",
              "<style scoped>\n",
              "    .dataframe tbody tr th:only-of-type {\n",
              "        vertical-align: middle;\n",
              "    }\n",
              "\n",
              "    .dataframe tbody tr th {\n",
              "        vertical-align: top;\n",
              "    }\n",
              "\n",
              "    .dataframe thead th {\n",
              "        text-align: right;\n",
              "    }\n",
              "</style>\n",
              "<table border=\"1\" class=\"dataframe\">\n",
              "  <thead>\n",
              "    <tr style=\"text-align: right;\">\n",
              "      <th></th>\n",
              "      <th>business_code</th>\n",
              "      <th>cust_number</th>\n",
              "      <th>name_customer</th>\n",
              "      <th>clear_date</th>\n",
              "      <th>buisness_year</th>\n",
              "      <th>doc_id</th>\n",
              "      <th>posting_date</th>\n",
              "      <th>document_create_date.1</th>\n",
              "      <th>due_in_date</th>\n",
              "      <th>invoice_currency</th>\n",
              "      <th>document type</th>\n",
              "      <th>total_open_amount</th>\n",
              "      <th>cust_payment_terms</th>\n",
              "      <th>delay</th>\n",
              "    </tr>\n",
              "  </thead>\n",
              "  <tbody>\n",
              "    <tr>\n",
              "      <th>3987</th>\n",
              "      <td>CA02</td>\n",
              "      <td>0100054173</td>\n",
              "      <td>DIA corporation</td>\n",
              "      <td>2019-09-25</td>\n",
              "      <td>2019.0</td>\n",
              "      <td>9.500000e+09</td>\n",
              "      <td>2019-03-29</td>\n",
              "      <td>2018-12-21</td>\n",
              "      <td>2018-12-31</td>\n",
              "      <td>CAD</td>\n",
              "      <td>2</td>\n",
              "      <td>255.00</td>\n",
              "      <td>CA10</td>\n",
              "      <td>268</td>\n",
              "    </tr>\n",
              "    <tr>\n",
              "      <th>28512</th>\n",
              "      <td>U001</td>\n",
              "      <td>0200726979</td>\n",
              "      <td>BJ'S</td>\n",
              "      <td>2019-01-15</td>\n",
              "      <td>2019.0</td>\n",
              "      <td>1.928538e+09</td>\n",
              "      <td>2018-12-30</td>\n",
              "      <td>2018-12-30</td>\n",
              "      <td>2019-01-14</td>\n",
              "      <td>USD</td>\n",
              "      <td>1</td>\n",
              "      <td>139.69</td>\n",
              "      <td>NAA8</td>\n",
              "      <td>1</td>\n",
              "    </tr>\n",
              "    <tr>\n",
              "      <th>23669</th>\n",
              "      <td>U001</td>\n",
              "      <td>0200769623</td>\n",
              "      <td>WAL-MAR associates</td>\n",
              "      <td>2019-01-09</td>\n",
              "      <td>2019.0</td>\n",
              "      <td>1.928538e+09</td>\n",
              "      <td>2018-12-30</td>\n",
              "      <td>2018-12-30</td>\n",
              "      <td>2019-01-14</td>\n",
              "      <td>USD</td>\n",
              "      <td>1</td>\n",
              "      <td>882.33</td>\n",
              "      <td>NAH4</td>\n",
              "      <td>-5</td>\n",
              "    </tr>\n",
              "    <tr>\n",
              "      <th>38468</th>\n",
              "      <td>U001</td>\n",
              "      <td>0200726979</td>\n",
              "      <td>BJ'S  foundation</td>\n",
              "      <td>2019-01-15</td>\n",
              "      <td>2019.0</td>\n",
              "      <td>1.928537e+09</td>\n",
              "      <td>2018-12-30</td>\n",
              "      <td>2018-12-30</td>\n",
              "      <td>2019-01-14</td>\n",
              "      <td>USD</td>\n",
              "      <td>1</td>\n",
              "      <td>146.25</td>\n",
              "      <td>NAA8</td>\n",
              "      <td>1</td>\n",
              "    </tr>\n",
              "    <tr>\n",
              "      <th>38432</th>\n",
              "      <td>U001</td>\n",
              "      <td>0200769623</td>\n",
              "      <td>WAL-MAR us</td>\n",
              "      <td>2019-01-09</td>\n",
              "      <td>2019.0</td>\n",
              "      <td>1.928533e+09</td>\n",
              "      <td>2018-12-30</td>\n",
              "      <td>2018-12-30</td>\n",
              "      <td>2019-01-14</td>\n",
              "      <td>USD</td>\n",
              "      <td>1</td>\n",
              "      <td>21202.06</td>\n",
              "      <td>NAH4</td>\n",
              "      <td>-5</td>\n",
              "    </tr>\n",
              "  </tbody>\n",
              "</table>\n",
              "</div>"
            ],
            "text/plain": [
              "      business_code cust_number  ... cust_payment_terms delay\n",
              "3987           CA02  0100054173  ...               CA10   268\n",
              "28512          U001  0200726979  ...               NAA8     1\n",
              "23669          U001  0200769623  ...               NAH4    -5\n",
              "38468          U001  0200726979  ...               NAA8     1\n",
              "38432          U001  0200769623  ...               NAH4    -5\n",
              "\n",
              "[5 rows x 14 columns]"
            ]
          },
          "metadata": {
            "tags": []
          },
          "execution_count": 756
        }
      ]
    },
    {
      "cell_type": "code",
      "metadata": {
        "colab": {
          "base_uri": "https://localhost:8080/"
        },
        "id": "WDRvfejFzTx6",
        "outputId": "4699af76-6772-494a-ae81-af0972233b44"
      },
      "source": [
        "test_set[\"business_code\"].unique()"
      ],
      "execution_count": 757,
      "outputs": [
        {
          "output_type": "execute_result",
          "data": {
            "text/plain": [
              "array(['U001', 'CA02', 'U013', 'U005', 'U002'], dtype=object)"
            ]
          },
          "metadata": {
            "tags": []
          },
          "execution_count": 757
        }
      ]
    },
    {
      "cell_type": "code",
      "metadata": {
        "colab": {
          "base_uri": "https://localhost:8080/"
        },
        "id": "8-fjTtUDzTx6",
        "outputId": "4db335ee-9071-4c17-c89d-3a8ae4e2ae1c"
      },
      "source": [
        "train[\"business_code\"].unique()"
      ],
      "execution_count": 758,
      "outputs": [
        {
          "output_type": "execute_result",
          "data": {
            "text/plain": [
              "array(['CA02', 'U001', 'U013', 'U002', 'U005', 'U007'], dtype=object)"
            ]
          },
          "metadata": {
            "tags": []
          },
          "execution_count": 758
        }
      ]
    },
    {
      "cell_type": "code",
      "metadata": {
        "id": "vz_CGGWjzTx6"
      },
      "source": [
        "invoice_document_enc={\"U001\":1,\"CA02\":2,\"U002\":3,\"U013\":4,\"U005\":5,\"U007\":6}\n",
        "# Label Encoding business_code"
      ],
      "execution_count": 759,
      "outputs": []
    },
    {
      "cell_type": "code",
      "metadata": {
        "id": "cb9vfMQFzTx7"
      },
      "source": [
        "train['business_code']=train['business_code'].map(invoice_document_enc) #mapping the above to train, test and validation sets\n",
        "#val1['business_code']=val1['business_code'].map(invoice_document_enc)\n",
        "#val2['business_code']=val2['business_code'].map(invoice_document_enc)\n"
      ],
      "execution_count": 760,
      "outputs": []
    },
    {
      "cell_type": "code",
      "metadata": {
        "colab": {
          "base_uri": "https://localhost:8080/"
        },
        "id": "evuW-PFBzTx7",
        "outputId": "5997acb3-0b49-4e13-fd8d-a0f0565b8973"
      },
      "source": [
        "test_set['business_code']=test_set['business_code'].map(invoice_document_enc)"
      ],
      "execution_count": 761,
      "outputs": [
        {
          "output_type": "stream",
          "text": [
            "/usr/local/lib/python3.6/dist-packages/ipykernel_launcher.py:1: SettingWithCopyWarning: \n",
            "A value is trying to be set on a copy of a slice from a DataFrame.\n",
            "Try using .loc[row_indexer,col_indexer] = value instead\n",
            "\n",
            "See the caveats in the documentation: https://pandas.pydata.org/pandas-docs/stable/user_guide/indexing.html#returning-a-view-versus-a-copy\n",
            "  \"\"\"Entry point for launching an IPython kernel.\n"
          ],
          "name": "stderr"
        }
      ]
    },
    {
      "cell_type": "code",
      "metadata": {
        "colab": {
          "base_uri": "https://localhost:8080/",
          "height": 0
        },
        "id": "17K76leSzTx7",
        "outputId": "713c800c-1c07-4e87-ebe2-1e00124d953a"
      },
      "source": [
        "train.head()"
      ],
      "execution_count": 762,
      "outputs": [
        {
          "output_type": "execute_result",
          "data": {
            "text/html": [
              "<div>\n",
              "<style scoped>\n",
              "    .dataframe tbody tr th:only-of-type {\n",
              "        vertical-align: middle;\n",
              "    }\n",
              "\n",
              "    .dataframe tbody tr th {\n",
              "        vertical-align: top;\n",
              "    }\n",
              "\n",
              "    .dataframe thead th {\n",
              "        text-align: right;\n",
              "    }\n",
              "</style>\n",
              "<table border=\"1\" class=\"dataframe\">\n",
              "  <thead>\n",
              "    <tr style=\"text-align: right;\">\n",
              "      <th></th>\n",
              "      <th>business_code</th>\n",
              "      <th>cust_number</th>\n",
              "      <th>name_customer</th>\n",
              "      <th>clear_date</th>\n",
              "      <th>buisness_year</th>\n",
              "      <th>doc_id</th>\n",
              "      <th>posting_date</th>\n",
              "      <th>document_create_date.1</th>\n",
              "      <th>due_in_date</th>\n",
              "      <th>invoice_currency</th>\n",
              "      <th>document type</th>\n",
              "      <th>total_open_amount</th>\n",
              "      <th>cust_payment_terms</th>\n",
              "      <th>delay</th>\n",
              "    </tr>\n",
              "  </thead>\n",
              "  <tbody>\n",
              "    <tr>\n",
              "      <th>3987</th>\n",
              "      <td>2</td>\n",
              "      <td>0100054173</td>\n",
              "      <td>DIA corporation</td>\n",
              "      <td>2019-09-25</td>\n",
              "      <td>2019.0</td>\n",
              "      <td>9.500000e+09</td>\n",
              "      <td>2019-03-29</td>\n",
              "      <td>2018-12-21</td>\n",
              "      <td>2018-12-31</td>\n",
              "      <td>CAD</td>\n",
              "      <td>2</td>\n",
              "      <td>255.00</td>\n",
              "      <td>CA10</td>\n",
              "      <td>268</td>\n",
              "    </tr>\n",
              "    <tr>\n",
              "      <th>28512</th>\n",
              "      <td>1</td>\n",
              "      <td>0200726979</td>\n",
              "      <td>BJ'S</td>\n",
              "      <td>2019-01-15</td>\n",
              "      <td>2019.0</td>\n",
              "      <td>1.928538e+09</td>\n",
              "      <td>2018-12-30</td>\n",
              "      <td>2018-12-30</td>\n",
              "      <td>2019-01-14</td>\n",
              "      <td>USD</td>\n",
              "      <td>1</td>\n",
              "      <td>139.69</td>\n",
              "      <td>NAA8</td>\n",
              "      <td>1</td>\n",
              "    </tr>\n",
              "    <tr>\n",
              "      <th>23669</th>\n",
              "      <td>1</td>\n",
              "      <td>0200769623</td>\n",
              "      <td>WAL-MAR associates</td>\n",
              "      <td>2019-01-09</td>\n",
              "      <td>2019.0</td>\n",
              "      <td>1.928538e+09</td>\n",
              "      <td>2018-12-30</td>\n",
              "      <td>2018-12-30</td>\n",
              "      <td>2019-01-14</td>\n",
              "      <td>USD</td>\n",
              "      <td>1</td>\n",
              "      <td>882.33</td>\n",
              "      <td>NAH4</td>\n",
              "      <td>-5</td>\n",
              "    </tr>\n",
              "    <tr>\n",
              "      <th>38468</th>\n",
              "      <td>1</td>\n",
              "      <td>0200726979</td>\n",
              "      <td>BJ'S  foundation</td>\n",
              "      <td>2019-01-15</td>\n",
              "      <td>2019.0</td>\n",
              "      <td>1.928537e+09</td>\n",
              "      <td>2018-12-30</td>\n",
              "      <td>2018-12-30</td>\n",
              "      <td>2019-01-14</td>\n",
              "      <td>USD</td>\n",
              "      <td>1</td>\n",
              "      <td>146.25</td>\n",
              "      <td>NAA8</td>\n",
              "      <td>1</td>\n",
              "    </tr>\n",
              "    <tr>\n",
              "      <th>38432</th>\n",
              "      <td>1</td>\n",
              "      <td>0200769623</td>\n",
              "      <td>WAL-MAR us</td>\n",
              "      <td>2019-01-09</td>\n",
              "      <td>2019.0</td>\n",
              "      <td>1.928533e+09</td>\n",
              "      <td>2018-12-30</td>\n",
              "      <td>2018-12-30</td>\n",
              "      <td>2019-01-14</td>\n",
              "      <td>USD</td>\n",
              "      <td>1</td>\n",
              "      <td>21202.06</td>\n",
              "      <td>NAH4</td>\n",
              "      <td>-5</td>\n",
              "    </tr>\n",
              "  </tbody>\n",
              "</table>\n",
              "</div>"
            ],
            "text/plain": [
              "       business_code cust_number  ... cust_payment_terms delay\n",
              "3987               2  0100054173  ...               CA10   268\n",
              "28512              1  0200726979  ...               NAA8     1\n",
              "23669              1  0200769623  ...               NAH4    -5\n",
              "38468              1  0200726979  ...               NAA8     1\n",
              "38432              1  0200769623  ...               NAH4    -5\n",
              "\n",
              "[5 rows x 14 columns]"
            ]
          },
          "metadata": {
            "tags": []
          },
          "execution_count": 762
        }
      ]
    },
    {
      "cell_type": "code",
      "metadata": {
        "id": "WJepOavozTx7"
      },
      "source": [
        "\n",
        "from sklearn.preprocessing import LabelEncoder \n",
        "  \n",
        "le = LabelEncoder() \n",
        "  \n",
        "train['cust_number'] = le.fit_transform(train['cust_number'])"
      ],
      "execution_count": 763,
      "outputs": []
    },
    {
      "cell_type": "code",
      "metadata": {
        "id": "Q1uSHZppzTx7"
      },
      "source": [
        "#val1['cust_number']= le.fit_transform(val1['cust_number'])\n",
        "#val2['cust_number']= le.fit_transform(val2['cust_number'])"
      ],
      "execution_count": 764,
      "outputs": []
    },
    {
      "cell_type": "code",
      "metadata": {
        "colab": {
          "base_uri": "https://localhost:8080/"
        },
        "id": "PpARPf6fzTx8",
        "outputId": "adf5c355-2ee7-402c-e403-9edde037b5ce"
      },
      "source": [
        "train['cust_payment_terms'].dtype"
      ],
      "execution_count": 765,
      "outputs": [
        {
          "output_type": "execute_result",
          "data": {
            "text/plain": [
              "dtype('O')"
            ]
          },
          "metadata": {
            "tags": []
          },
          "execution_count": 765
        }
      ]
    },
    {
      "cell_type": "code",
      "metadata": {
        "colab": {
          "base_uri": "https://localhost:8080/",
          "height": 0
        },
        "id": "ZugBmhrkzTx8",
        "outputId": "99c9b385-5dfc-405b-c57c-de75094e8afd"
      },
      "source": [
        "temp = train.groupby('name_customer')['delay'].agg(pd.Series.mean).to_dict()\n",
        "train['name_customer'] = train['name_customer'].map(temp)\n",
        "train"
      ],
      "execution_count": 766,
      "outputs": [
        {
          "output_type": "execute_result",
          "data": {
            "text/html": [
              "<div>\n",
              "<style scoped>\n",
              "    .dataframe tbody tr th:only-of-type {\n",
              "        vertical-align: middle;\n",
              "    }\n",
              "\n",
              "    .dataframe tbody tr th {\n",
              "        vertical-align: top;\n",
              "    }\n",
              "\n",
              "    .dataframe thead th {\n",
              "        text-align: right;\n",
              "    }\n",
              "</style>\n",
              "<table border=\"1\" class=\"dataframe\">\n",
              "  <thead>\n",
              "    <tr style=\"text-align: right;\">\n",
              "      <th></th>\n",
              "      <th>business_code</th>\n",
              "      <th>cust_number</th>\n",
              "      <th>name_customer</th>\n",
              "      <th>clear_date</th>\n",
              "      <th>buisness_year</th>\n",
              "      <th>doc_id</th>\n",
              "      <th>posting_date</th>\n",
              "      <th>document_create_date.1</th>\n",
              "      <th>due_in_date</th>\n",
              "      <th>invoice_currency</th>\n",
              "      <th>document type</th>\n",
              "      <th>total_open_amount</th>\n",
              "      <th>cust_payment_terms</th>\n",
              "      <th>delay</th>\n",
              "    </tr>\n",
              "  </thead>\n",
              "  <tbody>\n",
              "    <tr>\n",
              "      <th>3987</th>\n",
              "      <td>2</td>\n",
              "      <td>311</td>\n",
              "      <td>268.000000</td>\n",
              "      <td>2019-09-25</td>\n",
              "      <td>2019.0</td>\n",
              "      <td>9.500000e+09</td>\n",
              "      <td>2019-03-29</td>\n",
              "      <td>2018-12-21</td>\n",
              "      <td>2018-12-31</td>\n",
              "      <td>CAD</td>\n",
              "      <td>2</td>\n",
              "      <td>255.00</td>\n",
              "      <td>CA10</td>\n",
              "      <td>268</td>\n",
              "    </tr>\n",
              "    <tr>\n",
              "      <th>28512</th>\n",
              "      <td>1</td>\n",
              "      <td>804</td>\n",
              "      <td>0.939024</td>\n",
              "      <td>2019-01-15</td>\n",
              "      <td>2019.0</td>\n",
              "      <td>1.928538e+09</td>\n",
              "      <td>2018-12-30</td>\n",
              "      <td>2018-12-30</td>\n",
              "      <td>2019-01-14</td>\n",
              "      <td>USD</td>\n",
              "      <td>1</td>\n",
              "      <td>139.69</td>\n",
              "      <td>NAA8</td>\n",
              "      <td>1</td>\n",
              "    </tr>\n",
              "    <tr>\n",
              "      <th>23669</th>\n",
              "      <td>1</td>\n",
              "      <td>908</td>\n",
              "      <td>-2.579592</td>\n",
              "      <td>2019-01-09</td>\n",
              "      <td>2019.0</td>\n",
              "      <td>1.928538e+09</td>\n",
              "      <td>2018-12-30</td>\n",
              "      <td>2018-12-30</td>\n",
              "      <td>2019-01-14</td>\n",
              "      <td>USD</td>\n",
              "      <td>1</td>\n",
              "      <td>882.33</td>\n",
              "      <td>NAH4</td>\n",
              "      <td>-5</td>\n",
              "    </tr>\n",
              "    <tr>\n",
              "      <th>38468</th>\n",
              "      <td>1</td>\n",
              "      <td>804</td>\n",
              "      <td>0.796296</td>\n",
              "      <td>2019-01-15</td>\n",
              "      <td>2019.0</td>\n",
              "      <td>1.928537e+09</td>\n",
              "      <td>2018-12-30</td>\n",
              "      <td>2018-12-30</td>\n",
              "      <td>2019-01-14</td>\n",
              "      <td>USD</td>\n",
              "      <td>1</td>\n",
              "      <td>146.25</td>\n",
              "      <td>NAA8</td>\n",
              "      <td>1</td>\n",
              "    </tr>\n",
              "    <tr>\n",
              "      <th>38432</th>\n",
              "      <td>1</td>\n",
              "      <td>908</td>\n",
              "      <td>-2.134538</td>\n",
              "      <td>2019-01-09</td>\n",
              "      <td>2019.0</td>\n",
              "      <td>1.928533e+09</td>\n",
              "      <td>2018-12-30</td>\n",
              "      <td>2018-12-30</td>\n",
              "      <td>2019-01-14</td>\n",
              "      <td>USD</td>\n",
              "      <td>1</td>\n",
              "      <td>21202.06</td>\n",
              "      <td>NAH4</td>\n",
              "      <td>-5</td>\n",
              "    </tr>\n",
              "    <tr>\n",
              "      <th>...</th>\n",
              "      <td>...</td>\n",
              "      <td>...</td>\n",
              "      <td>...</td>\n",
              "      <td>...</td>\n",
              "      <td>...</td>\n",
              "      <td>...</td>\n",
              "      <td>...</td>\n",
              "      <td>...</td>\n",
              "      <td>...</td>\n",
              "      <td>...</td>\n",
              "      <td>...</td>\n",
              "      <td>...</td>\n",
              "      <td>...</td>\n",
              "      <td>...</td>\n",
              "    </tr>\n",
              "    <tr>\n",
              "      <th>6552</th>\n",
              "      <td>1</td>\n",
              "      <td>520</td>\n",
              "      <td>0.000000</td>\n",
              "      <td>2020-03-12</td>\n",
              "      <td>2020.0</td>\n",
              "      <td>1.930572e+09</td>\n",
              "      <td>2020-02-26</td>\n",
              "      <td>2020-02-26</td>\n",
              "      <td>2020-03-12</td>\n",
              "      <td>USD</td>\n",
              "      <td>1</td>\n",
              "      <td>11224.73</td>\n",
              "      <td>NAA8</td>\n",
              "      <td>0</td>\n",
              "    </tr>\n",
              "    <tr>\n",
              "      <th>2166</th>\n",
              "      <td>1</td>\n",
              "      <td>629</td>\n",
              "      <td>-1.629630</td>\n",
              "      <td>2020-03-13</td>\n",
              "      <td>2020.0</td>\n",
              "      <td>1.930548e+09</td>\n",
              "      <td>2020-02-27</td>\n",
              "      <td>2020-02-27</td>\n",
              "      <td>2020-03-13</td>\n",
              "      <td>USD</td>\n",
              "      <td>1</td>\n",
              "      <td>4171.53</td>\n",
              "      <td>NAA8</td>\n",
              "      <td>0</td>\n",
              "    </tr>\n",
              "    <tr>\n",
              "      <th>6496</th>\n",
              "      <td>2</td>\n",
              "      <td>466</td>\n",
              "      <td>9.452830</td>\n",
              "      <td>2020-03-18</td>\n",
              "      <td>2020.0</td>\n",
              "      <td>2.960617e+09</td>\n",
              "      <td>2020-02-27</td>\n",
              "      <td>2020-02-27</td>\n",
              "      <td>2020-03-09</td>\n",
              "      <td>CAD</td>\n",
              "      <td>1</td>\n",
              "      <td>12740.33</td>\n",
              "      <td>CA10</td>\n",
              "      <td>9</td>\n",
              "    </tr>\n",
              "    <tr>\n",
              "      <th>29053</th>\n",
              "      <td>1</td>\n",
              "      <td>892</td>\n",
              "      <td>-1.285714</td>\n",
              "      <td>2020-03-13</td>\n",
              "      <td>2020.0</td>\n",
              "      <td>1.930579e+09</td>\n",
              "      <td>2020-02-27</td>\n",
              "      <td>2020-02-27</td>\n",
              "      <td>2020-03-13</td>\n",
              "      <td>USD</td>\n",
              "      <td>1</td>\n",
              "      <td>17377.54</td>\n",
              "      <td>NAA8</td>\n",
              "      <td>0</td>\n",
              "    </tr>\n",
              "    <tr>\n",
              "      <th>7988</th>\n",
              "      <td>2</td>\n",
              "      <td>466</td>\n",
              "      <td>9.410256</td>\n",
              "      <td>2020-03-18</td>\n",
              "      <td>2020.0</td>\n",
              "      <td>2.960617e+09</td>\n",
              "      <td>2020-02-27</td>\n",
              "      <td>2020-02-27</td>\n",
              "      <td>2020-03-09</td>\n",
              "      <td>CAD</td>\n",
              "      <td>1</td>\n",
              "      <td>16811.94</td>\n",
              "      <td>CA10</td>\n",
              "      <td>9</td>\n",
              "    </tr>\n",
              "  </tbody>\n",
              "</table>\n",
              "<p>45929 rows × 14 columns</p>\n",
              "</div>"
            ],
            "text/plain": [
              "       business_code  cust_number  ...  cust_payment_terms delay\n",
              "3987               2          311  ...                CA10   268\n",
              "28512              1          804  ...                NAA8     1\n",
              "23669              1          908  ...                NAH4    -5\n",
              "38468              1          804  ...                NAA8     1\n",
              "38432              1          908  ...                NAH4    -5\n",
              "...              ...          ...  ...                 ...   ...\n",
              "6552               1          520  ...                NAA8     0\n",
              "2166               1          629  ...                NAA8     0\n",
              "6496               2          466  ...                CA10     9\n",
              "29053              1          892  ...                NAA8     0\n",
              "7988               2          466  ...                CA10     9\n",
              "\n",
              "[45929 rows x 14 columns]"
            ]
          },
          "metadata": {
            "tags": []
          },
          "execution_count": 766
        }
      ]
    },
    {
      "cell_type": "markdown",
      "metadata": {
        "id": "6jfPNUhazTx8"
      },
      "source": [
        "### Extracting mixed variable "
      ]
    },
    {
      "cell_type": "code",
      "metadata": {
        "id": "ZnPp5L_RzTx8"
      },
      "source": [
        "train['cust_payment_terms_numb'] = train['cust_payment_terms'].str.extract('(\\d+)')\n",
        "train.drop('cust_payment_terms',axis=1,inplace=True)\n",
        "#val1['cust_payment_terms_numb'] = val1['cust_payment_terms'].str.extract('(\\d+)')\n",
        "#val1.drop('cust_payment_terms',axis=1,inplace=True)\n",
        "#val2['cust_payment_terms_numb'] = val2['cust_payment_terms'].str.extract('(\\d+)')\n",
        "#val2.drop('cust_payment_terms',axis=1,inplace=True)"
      ],
      "execution_count": 767,
      "outputs": []
    },
    {
      "cell_type": "code",
      "metadata": {
        "id": "iXV5YRTHzTx9"
      },
      "source": [
        "q= train['cust_payment_terms_numb']\n",
        "w = q.dropna()\n",
        "w = w.astype(str).astype(int)\n",
        "p=w.mean()"
      ],
      "execution_count": 768,
      "outputs": []
    },
    {
      "cell_type": "code",
      "metadata": {
        "id": "Qg3MG8BqzTx9"
      },
      "source": [
        "train['cust_payment_terms_numb']=train['cust_payment_terms_numb'].fillna(p)"
      ],
      "execution_count": 769,
      "outputs": []
    },
    {
      "cell_type": "code",
      "metadata": {
        "id": "xnYYSKdGzTx9"
      },
      "source": [
        "train['cust_payment_terms_numb']=train['cust_payment_terms_numb'].astype(str).astype(float)"
      ],
      "execution_count": 770,
      "outputs": []
    },
    {
      "cell_type": "code",
      "metadata": {
        "id": "1_7xX3VIzTx-"
      },
      "source": [
        "#val1['cust_payment_terms_numb']=val1['cust_payment_terms_numb'].astype(str).astype(float)\n"
      ],
      "execution_count": 771,
      "outputs": []
    },
    {
      "cell_type": "code",
      "metadata": {
        "id": "sFJGcBDyzTx-"
      },
      "source": [
        "#val2['cust_payment_terms_numb']=val2['cust_payment_terms_numb'].astype(str).astype(float)"
      ],
      "execution_count": 772,
      "outputs": []
    },
    {
      "cell_type": "code",
      "metadata": {
        "colab": {
          "base_uri": "https://localhost:8080/"
        },
        "id": "4hhCjQREzTx-",
        "outputId": "e2a9ee29-578d-4489-ed8b-651e0c0fc3e5"
      },
      "source": [
        "train.info()"
      ],
      "execution_count": 773,
      "outputs": [
        {
          "output_type": "stream",
          "text": [
            "<class 'pandas.core.frame.DataFrame'>\n",
            "Int64Index: 45929 entries, 3987 to 7988\n",
            "Data columns (total 14 columns):\n",
            " #   Column                   Non-Null Count  Dtype         \n",
            "---  ------                   --------------  -----         \n",
            " 0   business_code            45929 non-null  int64         \n",
            " 1   cust_number              45929 non-null  int64         \n",
            " 2   name_customer            45929 non-null  float64       \n",
            " 3   clear_date               45929 non-null  datetime64[ns]\n",
            " 4   buisness_year            45929 non-null  float64       \n",
            " 5   doc_id                   45929 non-null  float64       \n",
            " 6   posting_date             45929 non-null  object        \n",
            " 7   document_create_date.1   45929 non-null  datetime64[ns]\n",
            " 8   due_in_date              45929 non-null  datetime64[ns]\n",
            " 9   invoice_currency         45929 non-null  object        \n",
            " 10  document type            45929 non-null  int64         \n",
            " 11  total_open_amount        45929 non-null  float64       \n",
            " 12  delay                    45929 non-null  int64         \n",
            " 13  cust_payment_terms_numb  45929 non-null  float64       \n",
            "dtypes: datetime64[ns](3), float64(5), int64(4), object(2)\n",
            "memory usage: 5.3+ MB\n"
          ],
          "name": "stdout"
        }
      ]
    },
    {
      "cell_type": "code",
      "metadata": {
        "id": "fvAoEElQzTx-"
      },
      "source": [
        "train['clear_date_quater']=train['clear_date'].dt.quarter\n",
        "#val1['clear_date_quater']=val1['clear_date'].dt.quarter\n",
        "#val2['clear_date_quater']=val2['clear_date'].dt.quarter"
      ],
      "execution_count": 774,
      "outputs": []
    },
    {
      "cell_type": "code",
      "metadata": {
        "id": "LrGkwTXIzTx-"
      },
      "source": [
        "train['clear_date_month']=train['clear_date'].dt.month\n",
        "#val1['clear_date_month']=val1['clear_date'].dt.month\n",
        "#val2['clear_date_month']=val2['clear_date'].dt.month"
      ],
      "execution_count": 775,
      "outputs": []
    },
    {
      "cell_type": "code",
      "metadata": {
        "id": "dBrFxPoQzTx_"
      },
      "source": [
        "#train['create_date_month']=train['document_create_date.1'].dt.month\n",
        "#val1['create_date_month']=val1['document_create_date.1'].dt.month\n",
        "#val2['create_date_month']=val2['document_create_date.1'].dt.month"
      ],
      "execution_count": 776,
      "outputs": []
    },
    {
      "cell_type": "code",
      "metadata": {
        "id": "laL78F2rzTx_"
      },
      "source": [
        "#train['create_date_quarter']=train['document_create_date.1'].dt.quarter\n",
        "#val1['create_date_quarter']=val1['document_create_date.1'].dt.quarter\n",
        "#val2['create_date_quarter']=val2['document_create_date.1'].dt.quarter"
      ],
      "execution_count": 777,
      "outputs": []
    },
    {
      "cell_type": "code",
      "metadata": {
        "id": "DTvxAgYCzTx_"
      },
      "source": [
        "#train['due_date_quarter']=train['due_in_date'].dt.quarter\n",
        "#val1['due_date_quarter']=val1['due_in_date'].dt.quarter\n",
        "#val2['due_date_quarter']=val2['due_in_date'].dt.quarter"
      ],
      "execution_count": 778,
      "outputs": []
    },
    {
      "cell_type": "code",
      "metadata": {
        "id": "Zk8BlTm6zTx_"
      },
      "source": [
        "#train['due_date_month']=train['due_in_date'].dt.month\n",
        "#val1['due_date_month']=val1['due_in_date'].dt.month\n",
        "#val2['due_date_month']=val2['due_in_date'].dt.month"
      ],
      "execution_count": 779,
      "outputs": []
    },
    {
      "cell_type": "code",
      "metadata": {
        "id": "zmJ9y7HqzTyA"
      },
      "source": [
        "train['duration_of_pay']=train['due_in_date']-train['document_create_date.1']"
      ],
      "execution_count": 780,
      "outputs": []
    },
    {
      "cell_type": "code",
      "metadata": {
        "id": "okXC7b41zTyA"
      },
      "source": [
        "import datetime as dt\n",
        "train['duration_of_pay'] = train['duration_of_pay'].dt.days.astype('int64')"
      ],
      "execution_count": 781,
      "outputs": []
    },
    {
      "cell_type": "code",
      "metadata": {
        "colab": {
          "base_uri": "https://localhost:8080/"
        },
        "id": "sH0eRiHUzTyA",
        "outputId": "0a12587b-0ad8-4617-e49d-f308daa6a6f8"
      },
      "source": [
        "train['duration_of_pay'].dtype"
      ],
      "execution_count": 782,
      "outputs": [
        {
          "output_type": "execute_result",
          "data": {
            "text/plain": [
              "dtype('int64')"
            ]
          },
          "metadata": {
            "tags": []
          },
          "execution_count": 782
        }
      ]
    },
    {
      "cell_type": "code",
      "metadata": {
        "id": "y745U8wrzTyA"
      },
      "source": [
        "#val1['duration_of_pay']=val1['due_in_date']-val1['document_create_date.1']\n",
        "#val2['duration_of_pay']=val2['due_in_date']-val2['document_create_date.1']"
      ],
      "execution_count": 783,
      "outputs": []
    },
    {
      "cell_type": "code",
      "metadata": {
        "id": "nP2dOARPzTyA"
      },
      "source": [
        "#val1['duration_of_pay'] = val1['duration_of_pay'].dt.days.astype('int64')\n",
        "#val2['duration_of_pay'] = val2['duration_of_pay'].dt.days.astype('int64')"
      ],
      "execution_count": 784,
      "outputs": []
    },
    {
      "cell_type": "code",
      "metadata": {
        "colab": {
          "base_uri": "https://localhost:8080/"
        },
        "id": "vJ7KeqD1zTyA",
        "outputId": "a391789e-a1e7-4b1b-e6e8-8d846d0419da"
      },
      "source": [
        "train.info()"
      ],
      "execution_count": 785,
      "outputs": [
        {
          "output_type": "stream",
          "text": [
            "<class 'pandas.core.frame.DataFrame'>\n",
            "Int64Index: 45929 entries, 3987 to 7988\n",
            "Data columns (total 17 columns):\n",
            " #   Column                   Non-Null Count  Dtype         \n",
            "---  ------                   --------------  -----         \n",
            " 0   business_code            45929 non-null  int64         \n",
            " 1   cust_number              45929 non-null  int64         \n",
            " 2   name_customer            45929 non-null  float64       \n",
            " 3   clear_date               45929 non-null  datetime64[ns]\n",
            " 4   buisness_year            45929 non-null  float64       \n",
            " 5   doc_id                   45929 non-null  float64       \n",
            " 6   posting_date             45929 non-null  object        \n",
            " 7   document_create_date.1   45929 non-null  datetime64[ns]\n",
            " 8   due_in_date              45929 non-null  datetime64[ns]\n",
            " 9   invoice_currency         45929 non-null  object        \n",
            " 10  document type            45929 non-null  int64         \n",
            " 11  total_open_amount        45929 non-null  float64       \n",
            " 12  delay                    45929 non-null  int64         \n",
            " 13  cust_payment_terms_numb  45929 non-null  float64       \n",
            " 14  clear_date_quater        45929 non-null  int64         \n",
            " 15  clear_date_month         45929 non-null  int64         \n",
            " 16  duration_of_pay          45929 non-null  int64         \n",
            "dtypes: datetime64[ns](3), float64(5), int64(7), object(2)\n",
            "memory usage: 6.3+ MB\n"
          ],
          "name": "stdout"
        }
      ]
    },
    {
      "cell_type": "code",
      "metadata": {
        "id": "IqKrKfyNzTyB"
      },
      "source": [
        "train.drop([\"document_create_date.1\",\"clear_date\",\"due_in_date\", \"name_customer\"],axis=1,inplace=True)\n",
        "#val1.drop([\"document_create_date.1\",\"clear_date\",\"due_in_date\"],axis=1,inplace=True)\n",
        "#val2.drop([\"document_create_date.1\",\"clear_date\",\"due_in_date\"],axis=1,inplace=True)"
      ],
      "execution_count": 786,
      "outputs": []
    },
    {
      "cell_type": "code",
      "metadata": {
        "id": "nn0HYg8lzTyB"
      },
      "source": [
        "#train.info()"
      ],
      "execution_count": 787,
      "outputs": []
    },
    {
      "cell_type": "code",
      "metadata": {
        "id": "v17n-s92zTyB"
      },
      "source": [
        "#train.isna().sum()"
      ],
      "execution_count": 788,
      "outputs": []
    },
    {
      "cell_type": "code",
      "metadata": {
        "colab": {
          "base_uri": "https://localhost:8080/"
        },
        "id": "4EPsUlaMzTyB",
        "outputId": "46c0a564-2b3b-4284-99c0-e4f7d0e96933"
      },
      "source": [
        "y=train['delay']\n",
        "x=train.drop(['delay', 'clear_date_quater','clear_date_month', \"posting_date\"],inplace=False,axis=1)\n",
        "#checking shape of each dataframe\n",
        "x.shape,y.shape,train.shape"
      ],
      "execution_count": 789,
      "outputs": [
        {
          "output_type": "execute_result",
          "data": {
            "text/plain": [
              "((45929, 9), (45929,), (45929, 13))"
            ]
          },
          "metadata": {
            "tags": []
          },
          "execution_count": 789
        }
      ]
    },
    {
      "cell_type": "code",
      "metadata": {
        "colab": {
          "base_uri": "https://localhost:8080/"
        },
        "id": "xu0Y0OwszTyB",
        "outputId": "6d876639-7d9f-492b-9367-faaa769d0412"
      },
      "source": [
        "x_train,x_test,y_train,y_test=train_test_split(x,y,shuffle=False,test_size=0.3,random_state=0)\n",
        "#checking the shape confirms the data is splited correctly in 70,30 percent for train and test respectively\n",
        "x_train.shape,x_test.shape,y_train.shape,y_test.shape"
      ],
      "execution_count": 790,
      "outputs": [
        {
          "output_type": "execute_result",
          "data": {
            "text/plain": [
              "((32150, 9), (13779, 9), (32150,), (13779,))"
            ]
          },
          "metadata": {
            "tags": []
          },
          "execution_count": 790
        }
      ]
    },
    {
      "cell_type": "code",
      "metadata": {
        "colab": {
          "base_uri": "https://localhost:8080/"
        },
        "id": "ySLxErkazTyC",
        "outputId": "f5fcceb0-933e-4dc9-b9a1-182c216bb963"
      },
      "source": [
        "x_val1,x_val2,y_val1,y_val2=train_test_split(x_test,y_test,shuffle=False,test_size=0.5,random_state=0)\n",
        "x_val1.shape,x_val2.shape,y_val1.shape,y_val2.shape"
      ],
      "execution_count": 791,
      "outputs": [
        {
          "output_type": "execute_result",
          "data": {
            "text/plain": [
              "((6889, 9), (6890, 9), (6889,), (6890,))"
            ]
          },
          "metadata": {
            "tags": []
          },
          "execution_count": 791
        }
      ]
    },
    {
      "cell_type": "code",
      "metadata": {
        "id": "tLqjGeySzTyC"
      },
      "source": [
        ""
      ],
      "execution_count": 791,
      "outputs": []
    },
    {
      "cell_type": "code",
      "metadata": {
        "id": "_Di3lGpfzTyC"
      },
      "source": [
        "train1=train.copy()"
      ],
      "execution_count": 792,
      "outputs": []
    },
    {
      "cell_type": "code",
      "metadata": {
        "colab": {
          "base_uri": "https://localhost:8080/"
        },
        "id": "7VOsLR_bzTyC",
        "outputId": "8912a6ba-c560-4643-d387-efe89620bdfc"
      },
      "source": [
        "train1.info()"
      ],
      "execution_count": 793,
      "outputs": [
        {
          "output_type": "stream",
          "text": [
            "<class 'pandas.core.frame.DataFrame'>\n",
            "Int64Index: 45929 entries, 3987 to 7988\n",
            "Data columns (total 13 columns):\n",
            " #   Column                   Non-Null Count  Dtype  \n",
            "---  ------                   --------------  -----  \n",
            " 0   business_code            45929 non-null  int64  \n",
            " 1   cust_number              45929 non-null  int64  \n",
            " 2   buisness_year            45929 non-null  float64\n",
            " 3   doc_id                   45929 non-null  float64\n",
            " 4   posting_date             45929 non-null  object \n",
            " 5   invoice_currency         45929 non-null  object \n",
            " 6   document type            45929 non-null  int64  \n",
            " 7   total_open_amount        45929 non-null  float64\n",
            " 8   delay                    45929 non-null  int64  \n",
            " 9   cust_payment_terms_numb  45929 non-null  float64\n",
            " 10  clear_date_quater        45929 non-null  int64  \n",
            " 11  clear_date_month         45929 non-null  int64  \n",
            " 12  duration_of_pay          45929 non-null  int64  \n",
            "dtypes: float64(4), int64(7), object(2)\n",
            "memory usage: 4.9+ MB\n"
          ],
          "name": "stdout"
        }
      ]
    },
    {
      "cell_type": "code",
      "metadata": {
        "id": "r5lo_6JVzTyC"
      },
      "source": [
        "train1.drop(['posting_date','invoice_currency'],inplace=True,axis=1)"
      ],
      "execution_count": 794,
      "outputs": []
    },
    {
      "cell_type": "code",
      "metadata": {
        "id": "pU2p-4fbzTyD"
      },
      "source": [
        "#train1.drop(['cust_payment_terms_numb'],inplace=True,axis=1)"
      ],
      "execution_count": 795,
      "outputs": []
    },
    {
      "cell_type": "code",
      "metadata": {
        "colab": {
          "base_uri": "https://localhost:8080/"
        },
        "id": "a_z2O84fzTyD",
        "outputId": "506d6f61-856b-4e03-fe4b-ffb7d3a429bc"
      },
      "source": [
        "train.corr().loc['delay',:]"
      ],
      "execution_count": 796,
      "outputs": [
        {
          "output_type": "execute_result",
          "data": {
            "text/plain": [
              "business_code              0.146619\n",
              "cust_number                0.100291\n",
              "buisness_year             -0.011839\n",
              "doc_id                     0.171692\n",
              "document type              0.157749\n",
              "total_open_amount          0.008128\n",
              "delay                      1.000000\n",
              "cust_payment_terms_numb   -0.029820\n",
              "clear_date_quater          0.039108\n",
              "clear_date_month           0.045654\n",
              "duration_of_pay           -0.217665\n",
              "Name: delay, dtype: float64"
            ]
          },
          "metadata": {
            "tags": []
          },
          "execution_count": 796
        }
      ]
    },
    {
      "cell_type": "code",
      "metadata": {
        "colab": {
          "base_uri": "https://localhost:8080/",
          "height": 0
        },
        "id": "Akn5HwuE19SZ",
        "outputId": "3fb97b54-d693-475c-9fb2-bd409ece1713"
      },
      "source": [
        "train.head()"
      ],
      "execution_count": 797,
      "outputs": [
        {
          "output_type": "execute_result",
          "data": {
            "text/html": [
              "<div>\n",
              "<style scoped>\n",
              "    .dataframe tbody tr th:only-of-type {\n",
              "        vertical-align: middle;\n",
              "    }\n",
              "\n",
              "    .dataframe tbody tr th {\n",
              "        vertical-align: top;\n",
              "    }\n",
              "\n",
              "    .dataframe thead th {\n",
              "        text-align: right;\n",
              "    }\n",
              "</style>\n",
              "<table border=\"1\" class=\"dataframe\">\n",
              "  <thead>\n",
              "    <tr style=\"text-align: right;\">\n",
              "      <th></th>\n",
              "      <th>business_code</th>\n",
              "      <th>cust_number</th>\n",
              "      <th>buisness_year</th>\n",
              "      <th>doc_id</th>\n",
              "      <th>posting_date</th>\n",
              "      <th>invoice_currency</th>\n",
              "      <th>document type</th>\n",
              "      <th>total_open_amount</th>\n",
              "      <th>delay</th>\n",
              "      <th>cust_payment_terms_numb</th>\n",
              "      <th>clear_date_quater</th>\n",
              "      <th>clear_date_month</th>\n",
              "      <th>duration_of_pay</th>\n",
              "    </tr>\n",
              "  </thead>\n",
              "  <tbody>\n",
              "    <tr>\n",
              "      <th>3987</th>\n",
              "      <td>2</td>\n",
              "      <td>311</td>\n",
              "      <td>2019.0</td>\n",
              "      <td>9.500000e+09</td>\n",
              "      <td>2019-03-29</td>\n",
              "      <td>CAD</td>\n",
              "      <td>2</td>\n",
              "      <td>255.00</td>\n",
              "      <td>268</td>\n",
              "      <td>10.0</td>\n",
              "      <td>3</td>\n",
              "      <td>9</td>\n",
              "      <td>10</td>\n",
              "    </tr>\n",
              "    <tr>\n",
              "      <th>28512</th>\n",
              "      <td>1</td>\n",
              "      <td>804</td>\n",
              "      <td>2019.0</td>\n",
              "      <td>1.928538e+09</td>\n",
              "      <td>2018-12-30</td>\n",
              "      <td>USD</td>\n",
              "      <td>1</td>\n",
              "      <td>139.69</td>\n",
              "      <td>1</td>\n",
              "      <td>8.0</td>\n",
              "      <td>1</td>\n",
              "      <td>1</td>\n",
              "      <td>15</td>\n",
              "    </tr>\n",
              "    <tr>\n",
              "      <th>23669</th>\n",
              "      <td>1</td>\n",
              "      <td>908</td>\n",
              "      <td>2019.0</td>\n",
              "      <td>1.928538e+09</td>\n",
              "      <td>2018-12-30</td>\n",
              "      <td>USD</td>\n",
              "      <td>1</td>\n",
              "      <td>882.33</td>\n",
              "      <td>-5</td>\n",
              "      <td>4.0</td>\n",
              "      <td>1</td>\n",
              "      <td>1</td>\n",
              "      <td>15</td>\n",
              "    </tr>\n",
              "    <tr>\n",
              "      <th>38468</th>\n",
              "      <td>1</td>\n",
              "      <td>804</td>\n",
              "      <td>2019.0</td>\n",
              "      <td>1.928537e+09</td>\n",
              "      <td>2018-12-30</td>\n",
              "      <td>USD</td>\n",
              "      <td>1</td>\n",
              "      <td>146.25</td>\n",
              "      <td>1</td>\n",
              "      <td>8.0</td>\n",
              "      <td>1</td>\n",
              "      <td>1</td>\n",
              "      <td>15</td>\n",
              "    </tr>\n",
              "    <tr>\n",
              "      <th>38432</th>\n",
              "      <td>1</td>\n",
              "      <td>908</td>\n",
              "      <td>2019.0</td>\n",
              "      <td>1.928533e+09</td>\n",
              "      <td>2018-12-30</td>\n",
              "      <td>USD</td>\n",
              "      <td>1</td>\n",
              "      <td>21202.06</td>\n",
              "      <td>-5</td>\n",
              "      <td>4.0</td>\n",
              "      <td>1</td>\n",
              "      <td>1</td>\n",
              "      <td>15</td>\n",
              "    </tr>\n",
              "  </tbody>\n",
              "</table>\n",
              "</div>"
            ],
            "text/plain": [
              "       business_code  cust_number  ...  clear_date_month  duration_of_pay\n",
              "3987               2          311  ...                 9               10\n",
              "28512              1          804  ...                 1               15\n",
              "23669              1          908  ...                 1               15\n",
              "38468              1          804  ...                 1               15\n",
              "38432              1          908  ...                 1               15\n",
              "\n",
              "[5 rows x 13 columns]"
            ]
          },
          "metadata": {
            "tags": []
          },
          "execution_count": 797
        }
      ]
    },
    {
      "cell_type": "code",
      "metadata": {
        "colab": {
          "base_uri": "https://localhost:8080/"
        },
        "id": "s0e80TgtzTyD",
        "outputId": "9c576b35-ae67-4060-e732-4fa16738e744"
      },
      "source": [
        "y=train1['delay']\n",
        "x=train1.drop(['delay', 'clear_date_quater','clear_date_month'],inplace=False,axis=1)\n",
        "#checking shape of each dataframe\n",
        "x.shape,y.shape,train1.shape"
      ],
      "execution_count": 798,
      "outputs": [
        {
          "output_type": "execute_result",
          "data": {
            "text/plain": [
              "((45929, 8), (45929,), (45929, 11))"
            ]
          },
          "metadata": {
            "tags": []
          },
          "execution_count": 798
        }
      ]
    },
    {
      "cell_type": "code",
      "metadata": {
        "colab": {
          "base_uri": "https://localhost:8080/"
        },
        "id": "Iln1qYnYzTyD",
        "outputId": "5a565096-dcda-446e-fcd9-6b889d5b2799"
      },
      "source": [
        "x_train,x_test,y_train,y_test=train_test_split(x,y,shuffle=False,test_size=0.3,random_state=0)\n",
        "#checking the shape confirms the data is splited correctly in 70,30 percent for train and test respectively\n",
        "x_train.shape,x_test.shape,y_train.shape,y_test.shape"
      ],
      "execution_count": 799,
      "outputs": [
        {
          "output_type": "execute_result",
          "data": {
            "text/plain": [
              "((32150, 8), (13779, 8), (32150,), (13779,))"
            ]
          },
          "metadata": {
            "tags": []
          },
          "execution_count": 799
        }
      ]
    },
    {
      "cell_type": "code",
      "metadata": {
        "colab": {
          "base_uri": "https://localhost:8080/"
        },
        "id": "M4rKo-KYzTyD",
        "outputId": "f2244e8a-9ca9-4d06-e741-9d3397a14990"
      },
      "source": [
        "x_val1,x_val2,y_val1,y_val2=train_test_split(x_test,y_test,shuffle=False,test_size=0.5,random_state=0)\n",
        "x_val1.shape,x_val2.shape,y_val1.shape,y_val2.shape"
      ],
      "execution_count": 800,
      "outputs": [
        {
          "output_type": "execute_result",
          "data": {
            "text/plain": [
              "((6889, 8), (6890, 8), (6889,), (6890,))"
            ]
          },
          "metadata": {
            "tags": []
          },
          "execution_count": 800
        }
      ]
    },
    {
      "cell_type": "code",
      "metadata": {
        "colab": {
          "base_uri": "https://localhost:8080/"
        },
        "id": "JLZL2Dr8zTyE",
        "outputId": "3fb03734-24b0-4e7c-a635-5e8c7383a14f"
      },
      "source": [
        "from sklearn.linear_model import LinearRegression\n",
        "lr=LinearRegression()\n",
        "lr.fit(x_train,y_train)"
      ],
      "execution_count": 801,
      "outputs": [
        {
          "output_type": "execute_result",
          "data": {
            "text/plain": [
              "LinearRegression(copy_X=True, fit_intercept=True, n_jobs=None, normalize=False)"
            ]
          },
          "metadata": {
            "tags": []
          },
          "execution_count": 801
        }
      ]
    },
    {
      "cell_type": "code",
      "metadata": {
        "id": "sY67hB-BzTyE"
      },
      "source": [
        "y_pred=lr.predict(x_val1)"
      ],
      "execution_count": 802,
      "outputs": []
    },
    {
      "cell_type": "code",
      "metadata": {
        "colab": {
          "base_uri": "https://localhost:8080/"
        },
        "id": "509dEhrUzTyE",
        "outputId": "1533b1e5-d444-4588-b69c-18be43227f9a"
      },
      "source": [
        "import sklearn.metrics as sm\n",
        "print(\"Mean absolute error =\", round(sm.mean_absolute_error(y_val1, y_pred), 2)) \n",
        "print(\"Mean squared error =\", round(sm.mean_squared_error(y_val1, y_pred), 2)) \n",
        "print(\"Median absolute error =\", round(sm.median_absolute_error(y_val1, y_pred), 2)) \n",
        "print(\"Explain variance score =\", round(sm.explained_variance_score(y_val1, y_pred), 2)) \n",
        "print(\"R2 score =\", round(sm.r2_score(y_val1, y_pred), 2))"
      ],
      "execution_count": 803,
      "outputs": [
        {
          "output_type": "stream",
          "text": [
            "Mean absolute error = 3.96\n",
            "Mean squared error = 39.46\n",
            "Median absolute error = 2.66\n",
            "Explain variance score = 0.15\n",
            "R2 score = 0.14\n"
          ],
          "name": "stdout"
        }
      ]
    },
    {
      "cell_type": "code",
      "metadata": {
        "id": "N-O2mwyPzTyE"
      },
      "source": [
        "y_pred3=lr.predict(x_val2)"
      ],
      "execution_count": 804,
      "outputs": []
    },
    {
      "cell_type": "code",
      "metadata": {
        "colab": {
          "base_uri": "https://localhost:8080/"
        },
        "id": "U3LanqxUzTyE",
        "outputId": "46ff0a58-6281-4bbc-a09e-11176b602178"
      },
      "source": [
        "print(\"Mean absolute error =\", round(sm.mean_absolute_error(y_val2, y_pred3), 2)) \n",
        "print(\"Mean squared error =\", round(sm.mean_squared_error(y_val2, y_pred3), 2)) \n",
        "print(\"Median absolute error =\", round(sm.median_absolute_error(y_val2, y_pred3), 2)) \n",
        "print(\"Explain variance score =\", round(sm.explained_variance_score(y_val2, y_pred3), 2)) \n",
        "print(\"R2 score =\", round(sm.r2_score(y_val2, y_pred3), 2))"
      ],
      "execution_count": 805,
      "outputs": [
        {
          "output_type": "stream",
          "text": [
            "Mean absolute error = 4.91\n",
            "Mean squared error = 83.8\n",
            "Median absolute error = 2.86\n",
            "Explain variance score = 0.17\n",
            "R2 score = 0.17\n"
          ],
          "name": "stdout"
        }
      ]
    },
    {
      "cell_type": "markdown",
      "metadata": {
        "id": "usCNZcz34Jcd"
      },
      "source": [
        "# Prediction"
      ]
    },
    {
      "cell_type": "code",
      "metadata": {
        "id": "R-5EtZFqzTyF"
      },
      "source": [
        "X_test = test_set.drop(['posting_id', 'area_business', 'document_create_date', 'isOpen', 'invoice_id', 'baseline_create_date'], axis=1)"
      ],
      "execution_count": 845,
      "outputs": []
    },
    {
      "cell_type": "code",
      "metadata": {
        "id": "Wm8UjISW4IU2"
      },
      "source": [
        "X_test=X_test.drop(index=X_test[X_test['due_in_date']<X_test['document_create_date.1']].index)"
      ],
      "execution_count": 846,
      "outputs": []
    },
    {
      "cell_type": "code",
      "metadata": {
        "id": "3qtADHV9465T"
      },
      "source": [
        "doc_typ= { 'RV':1, 'X2':2 }\n",
        "X_test['document type'] = X_test['document type'].map(doc_typ)"
      ],
      "execution_count": 847,
      "outputs": []
    },
    {
      "cell_type": "code",
      "metadata": {
        "id": "-VPG3UB05ASd"
      },
      "source": [
        "invoice_document_enc={\"U001\":1,\"CA02\":2,\"U002\":3,\"U013\":4,\"U005\":5,\"U007\":6}\n",
        "X_test['business_code']=X_test['business_code'].map(invoice_document_enc)"
      ],
      "execution_count": 848,
      "outputs": []
    },
    {
      "cell_type": "code",
      "metadata": {
        "id": "DIMpBAmg5FZe"
      },
      "source": [
        "X_test['cust_number'] = le.fit_transform(X_test['cust_number'])\n",
        "temp = X_test.groupby('name_customer')['delay'].agg(pd.Series.mean).to_dict()"
      ],
      "execution_count": 849,
      "outputs": []
    },
    {
      "cell_type": "code",
      "metadata": {
        "id": "9XQZeDbe9yqj"
      },
      "source": [
        "X_test['name_customer'] = X_test['name_customer'].map(temp)\n",
        "X_test['cust_payment_terms_numb'] = X_test['cust_payment_terms'].str.extract('(\\d+)')\n",
        "X_test.drop('cust_payment_terms',axis=1,inplace=True)"
      ],
      "execution_count": 850,
      "outputs": []
    },
    {
      "cell_type": "code",
      "metadata": {
        "id": "veAgu9Pj5K34"
      },
      "source": [
        "q = X_test['cust_payment_terms_numb']\n",
        "w = q.dropna()\n",
        "w = w.astype(str).astype(int)\n",
        "p = w.mean()"
      ],
      "execution_count": 852,
      "outputs": []
    },
    {
      "cell_type": "code",
      "metadata": {
        "id": "ErAL8DVO5Np0"
      },
      "source": [
        "X_test['cust_payment_terms_numb']=X_test['cust_payment_terms_numb'].fillna(p)\n",
        "X_test['cust_payment_terms_numb']=X_test['cust_payment_terms_numb'].astype(str).astype(float)\n",
        "X_test['duration_of_pay']=X_test['due_in_date']-X_test['document_create_date.1']\n",
        "X_test['duration_of_pay'] = X_test['duration_of_pay'].dt.days.astype('int64')"
      ],
      "execution_count": 853,
      "outputs": []
    },
    {
      "cell_type": "code",
      "metadata": {
        "id": "ghzf21NU5Wca"
      },
      "source": [
        "X_test = X_test.drop([\"document_create_date.1\",\"clear_date\",\"due_in_date\",\"name_customer\"],axis=1,inplace=False)\n",
        "X_test=X_test.drop('delay',inplace=False,axis=1)"
      ],
      "execution_count": 854,
      "outputs": []
    },
    {
      "cell_type": "code",
      "metadata": {
        "id": "6SfSSs-U7LY1",
        "colab": {
          "base_uri": "https://localhost:8080/",
          "height": 402
        },
        "outputId": "5307e438-9caf-45bf-b754-6e8b66251a7b"
      },
      "source": [
        "X_test = X_test.drop(['invoice_currency', 'posting_date', ], axis=1)\n",
        "X_test"
      ],
      "execution_count": 856,
      "outputs": [
        {
          "output_type": "execute_result",
          "data": {
            "text/html": [
              "<div>\n",
              "<style scoped>\n",
              "    .dataframe tbody tr th:only-of-type {\n",
              "        vertical-align: middle;\n",
              "    }\n",
              "\n",
              "    .dataframe tbody tr th {\n",
              "        vertical-align: top;\n",
              "    }\n",
              "\n",
              "    .dataframe thead th {\n",
              "        text-align: right;\n",
              "    }\n",
              "</style>\n",
              "<table border=\"1\" class=\"dataframe\">\n",
              "  <thead>\n",
              "    <tr style=\"text-align: right;\">\n",
              "      <th></th>\n",
              "      <th>business_code</th>\n",
              "      <th>cust_number</th>\n",
              "      <th>buisness_year</th>\n",
              "      <th>doc_id</th>\n",
              "      <th>document type</th>\n",
              "      <th>total_open_amount</th>\n",
              "      <th>cust_payment_terms_numb</th>\n",
              "      <th>duration_of_pay</th>\n",
              "    </tr>\n",
              "  </thead>\n",
              "  <tbody>\n",
              "    <tr>\n",
              "      <th>46643</th>\n",
              "      <td>1</td>\n",
              "      <td>201</td>\n",
              "      <td>2020.0</td>\n",
              "      <td>1.930578e+09</td>\n",
              "      <td>1</td>\n",
              "      <td>14465.24</td>\n",
              "      <td>32.0</td>\n",
              "      <td>32</td>\n",
              "    </tr>\n",
              "    <tr>\n",
              "      <th>49615</th>\n",
              "      <td>1</td>\n",
              "      <td>463</td>\n",
              "      <td>2020.0</td>\n",
              "      <td>1.930571e+09</td>\n",
              "      <td>1</td>\n",
              "      <td>29376.00</td>\n",
              "      <td>2.0</td>\n",
              "      <td>35</td>\n",
              "    </tr>\n",
              "    <tr>\n",
              "      <th>47527</th>\n",
              "      <td>1</td>\n",
              "      <td>140</td>\n",
              "      <td>2020.0</td>\n",
              "      <td>1.930577e+09</td>\n",
              "      <td>1</td>\n",
              "      <td>16462.80</td>\n",
              "      <td>8.0</td>\n",
              "      <td>15</td>\n",
              "    </tr>\n",
              "    <tr>\n",
              "      <th>47285</th>\n",
              "      <td>1</td>\n",
              "      <td>326</td>\n",
              "      <td>2020.0</td>\n",
              "      <td>1.930549e+09</td>\n",
              "      <td>1</td>\n",
              "      <td>9975.34</td>\n",
              "      <td>8.0</td>\n",
              "      <td>15</td>\n",
              "    </tr>\n",
              "    <tr>\n",
              "      <th>49321</th>\n",
              "      <td>1</td>\n",
              "      <td>178</td>\n",
              "      <td>2020.0</td>\n",
              "      <td>1.930567e+09</td>\n",
              "      <td>1</td>\n",
              "      <td>32979.53</td>\n",
              "      <td>8.0</td>\n",
              "      <td>15</td>\n",
              "    </tr>\n",
              "    <tr>\n",
              "      <th>...</th>\n",
              "      <td>...</td>\n",
              "      <td>...</td>\n",
              "      <td>...</td>\n",
              "      <td>...</td>\n",
              "      <td>...</td>\n",
              "      <td>...</td>\n",
              "      <td>...</td>\n",
              "      <td>...</td>\n",
              "    </tr>\n",
              "    <tr>\n",
              "      <th>47947</th>\n",
              "      <td>1</td>\n",
              "      <td>274</td>\n",
              "      <td>2020.0</td>\n",
              "      <td>1.930904e+09</td>\n",
              "      <td>1</td>\n",
              "      <td>28049.25</td>\n",
              "      <td>8.0</td>\n",
              "      <td>15</td>\n",
              "    </tr>\n",
              "    <tr>\n",
              "      <th>47295</th>\n",
              "      <td>2</td>\n",
              "      <td>86</td>\n",
              "      <td>2020.0</td>\n",
              "      <td>2.960634e+09</td>\n",
              "      <td>1</td>\n",
              "      <td>5607.95</td>\n",
              "      <td>10.0</td>\n",
              "      <td>12</td>\n",
              "    </tr>\n",
              "    <tr>\n",
              "      <th>47452</th>\n",
              "      <td>1</td>\n",
              "      <td>368</td>\n",
              "      <td>2020.0</td>\n",
              "      <td>1.930898e+09</td>\n",
              "      <td>1</td>\n",
              "      <td>14698.55</td>\n",
              "      <td>8.0</td>\n",
              "      <td>15</td>\n",
              "    </tr>\n",
              "    <tr>\n",
              "      <th>48236</th>\n",
              "      <td>1</td>\n",
              "      <td>271</td>\n",
              "      <td>2020.0</td>\n",
              "      <td>1.930915e+09</td>\n",
              "      <td>1</td>\n",
              "      <td>21362.82</td>\n",
              "      <td>8.0</td>\n",
              "      <td>15</td>\n",
              "    </tr>\n",
              "    <tr>\n",
              "      <th>46534</th>\n",
              "      <td>1</td>\n",
              "      <td>277</td>\n",
              "      <td>2020.0</td>\n",
              "      <td>1.930915e+09</td>\n",
              "      <td>1</td>\n",
              "      <td>35442.45</td>\n",
              "      <td>8.0</td>\n",
              "      <td>15</td>\n",
              "    </tr>\n",
              "  </tbody>\n",
              "</table>\n",
              "<p>3952 rows × 8 columns</p>\n",
              "</div>"
            ],
            "text/plain": [
              "       business_code  cust_number  ...  cust_payment_terms_numb  duration_of_pay\n",
              "46643              1          201  ...                     32.0               32\n",
              "49615              1          463  ...                      2.0               35\n",
              "47527              1          140  ...                      8.0               15\n",
              "47285              1          326  ...                      8.0               15\n",
              "49321              1          178  ...                      8.0               15\n",
              "...              ...          ...  ...                      ...              ...\n",
              "47947              1          274  ...                      8.0               15\n",
              "47295              2           86  ...                     10.0               12\n",
              "47452              1          368  ...                      8.0               15\n",
              "48236              1          271  ...                      8.0               15\n",
              "46534              1          277  ...                      8.0               15\n",
              "\n",
              "[3952 rows x 8 columns]"
            ]
          },
          "metadata": {
            "tags": []
          },
          "execution_count": 856
        }
      ]
    },
    {
      "cell_type": "code",
      "metadata": {
        "colab": {
          "base_uri": "https://localhost:8080/",
          "height": 438
        },
        "id": "ru36cJCpW4vK",
        "outputId": "9334a6cb-ba1b-45b8-e30a-0a31b1fbf4ec"
      },
      "source": [
        "test_set"
      ],
      "execution_count": 842,
      "outputs": [
        {
          "output_type": "execute_result",
          "data": {
            "text/html": [
              "<div>\n",
              "<style scoped>\n",
              "    .dataframe tbody tr th:only-of-type {\n",
              "        vertical-align: middle;\n",
              "    }\n",
              "\n",
              "    .dataframe tbody tr th {\n",
              "        vertical-align: top;\n",
              "    }\n",
              "\n",
              "    .dataframe thead th {\n",
              "        text-align: right;\n",
              "    }\n",
              "</style>\n",
              "<table border=\"1\" class=\"dataframe\">\n",
              "  <thead>\n",
              "    <tr style=\"text-align: right;\">\n",
              "      <th></th>\n",
              "      <th>business_code</th>\n",
              "      <th>cust_number</th>\n",
              "      <th>name_customer</th>\n",
              "      <th>clear_date</th>\n",
              "      <th>buisness_year</th>\n",
              "      <th>doc_id</th>\n",
              "      <th>posting_date</th>\n",
              "      <th>document_create_date.1</th>\n",
              "      <th>due_in_date</th>\n",
              "      <th>invoice_currency</th>\n",
              "      <th>document type</th>\n",
              "      <th>total_open_amount</th>\n",
              "      <th>delay</th>\n",
              "      <th>cust_payment_terms_numb</th>\n",
              "      <th>duration_of_pay</th>\n",
              "    </tr>\n",
              "  </thead>\n",
              "  <tbody>\n",
              "    <tr>\n",
              "      <th>46643</th>\n",
              "      <td>1</td>\n",
              "      <td>201</td>\n",
              "      <td>NaT</td>\n",
              "      <td>NaT</td>\n",
              "      <td>2020.0</td>\n",
              "      <td>1.930578e+09</td>\n",
              "      <td>2020-02-27</td>\n",
              "      <td>2020-02-27</td>\n",
              "      <td>2020-03-30</td>\n",
              "      <td>USD</td>\n",
              "      <td>1</td>\n",
              "      <td>14465.24</td>\n",
              "      <td>NaT</td>\n",
              "      <td>32.0</td>\n",
              "      <td>32</td>\n",
              "    </tr>\n",
              "    <tr>\n",
              "      <th>49615</th>\n",
              "      <td>1</td>\n",
              "      <td>463</td>\n",
              "      <td>NaT</td>\n",
              "      <td>NaT</td>\n",
              "      <td>2020.0</td>\n",
              "      <td>1.930571e+09</td>\n",
              "      <td>2020-02-27</td>\n",
              "      <td>2020-02-27</td>\n",
              "      <td>2020-04-02</td>\n",
              "      <td>USD</td>\n",
              "      <td>1</td>\n",
              "      <td>29376.00</td>\n",
              "      <td>NaT</td>\n",
              "      <td>2.0</td>\n",
              "      <td>35</td>\n",
              "    </tr>\n",
              "    <tr>\n",
              "      <th>47527</th>\n",
              "      <td>1</td>\n",
              "      <td>140</td>\n",
              "      <td>NaT</td>\n",
              "      <td>NaT</td>\n",
              "      <td>2020.0</td>\n",
              "      <td>1.930577e+09</td>\n",
              "      <td>2020-02-27</td>\n",
              "      <td>2020-02-27</td>\n",
              "      <td>2020-03-13</td>\n",
              "      <td>USD</td>\n",
              "      <td>1</td>\n",
              "      <td>16462.80</td>\n",
              "      <td>NaT</td>\n",
              "      <td>8.0</td>\n",
              "      <td>15</td>\n",
              "    </tr>\n",
              "    <tr>\n",
              "      <th>47285</th>\n",
              "      <td>1</td>\n",
              "      <td>326</td>\n",
              "      <td>NaT</td>\n",
              "      <td>NaT</td>\n",
              "      <td>2020.0</td>\n",
              "      <td>1.930549e+09</td>\n",
              "      <td>2020-02-27</td>\n",
              "      <td>2020-02-27</td>\n",
              "      <td>2020-03-13</td>\n",
              "      <td>USD</td>\n",
              "      <td>1</td>\n",
              "      <td>9975.34</td>\n",
              "      <td>NaT</td>\n",
              "      <td>8.0</td>\n",
              "      <td>15</td>\n",
              "    </tr>\n",
              "    <tr>\n",
              "      <th>49321</th>\n",
              "      <td>1</td>\n",
              "      <td>178</td>\n",
              "      <td>NaT</td>\n",
              "      <td>NaT</td>\n",
              "      <td>2020.0</td>\n",
              "      <td>1.930567e+09</td>\n",
              "      <td>2020-02-27</td>\n",
              "      <td>2020-02-27</td>\n",
              "      <td>2020-03-13</td>\n",
              "      <td>USD</td>\n",
              "      <td>1</td>\n",
              "      <td>32979.53</td>\n",
              "      <td>NaT</td>\n",
              "      <td>8.0</td>\n",
              "      <td>15</td>\n",
              "    </tr>\n",
              "    <tr>\n",
              "      <th>...</th>\n",
              "      <td>...</td>\n",
              "      <td>...</td>\n",
              "      <td>...</td>\n",
              "      <td>...</td>\n",
              "      <td>...</td>\n",
              "      <td>...</td>\n",
              "      <td>...</td>\n",
              "      <td>...</td>\n",
              "      <td>...</td>\n",
              "      <td>...</td>\n",
              "      <td>...</td>\n",
              "      <td>...</td>\n",
              "      <td>...</td>\n",
              "      <td>...</td>\n",
              "      <td>...</td>\n",
              "    </tr>\n",
              "    <tr>\n",
              "      <th>47947</th>\n",
              "      <td>1</td>\n",
              "      <td>274</td>\n",
              "      <td>NaT</td>\n",
              "      <td>NaT</td>\n",
              "      <td>2020.0</td>\n",
              "      <td>1.930904e+09</td>\n",
              "      <td>2020-05-14</td>\n",
              "      <td>2020-05-14</td>\n",
              "      <td>2020-05-29</td>\n",
              "      <td>USD</td>\n",
              "      <td>1</td>\n",
              "      <td>28049.25</td>\n",
              "      <td>NaT</td>\n",
              "      <td>8.0</td>\n",
              "      <td>15</td>\n",
              "    </tr>\n",
              "    <tr>\n",
              "      <th>47295</th>\n",
              "      <td>2</td>\n",
              "      <td>86</td>\n",
              "      <td>NaT</td>\n",
              "      <td>NaT</td>\n",
              "      <td>2020.0</td>\n",
              "      <td>2.960634e+09</td>\n",
              "      <td>2020-05-15</td>\n",
              "      <td>2020-05-15</td>\n",
              "      <td>2020-05-27</td>\n",
              "      <td>CAD</td>\n",
              "      <td>1</td>\n",
              "      <td>5607.95</td>\n",
              "      <td>NaT</td>\n",
              "      <td>10.0</td>\n",
              "      <td>12</td>\n",
              "    </tr>\n",
              "    <tr>\n",
              "      <th>47452</th>\n",
              "      <td>1</td>\n",
              "      <td>368</td>\n",
              "      <td>NaT</td>\n",
              "      <td>NaT</td>\n",
              "      <td>2020.0</td>\n",
              "      <td>1.930898e+09</td>\n",
              "      <td>2020-05-16</td>\n",
              "      <td>2020-05-16</td>\n",
              "      <td>2020-05-31</td>\n",
              "      <td>USD</td>\n",
              "      <td>1</td>\n",
              "      <td>14698.55</td>\n",
              "      <td>NaT</td>\n",
              "      <td>8.0</td>\n",
              "      <td>15</td>\n",
              "    </tr>\n",
              "    <tr>\n",
              "      <th>48236</th>\n",
              "      <td>1</td>\n",
              "      <td>271</td>\n",
              "      <td>NaT</td>\n",
              "      <td>NaT</td>\n",
              "      <td>2020.0</td>\n",
              "      <td>1.930915e+09</td>\n",
              "      <td>2020-05-18</td>\n",
              "      <td>2020-05-18</td>\n",
              "      <td>2020-06-02</td>\n",
              "      <td>USD</td>\n",
              "      <td>1</td>\n",
              "      <td>21362.82</td>\n",
              "      <td>NaT</td>\n",
              "      <td>8.0</td>\n",
              "      <td>15</td>\n",
              "    </tr>\n",
              "    <tr>\n",
              "      <th>46534</th>\n",
              "      <td>1</td>\n",
              "      <td>277</td>\n",
              "      <td>NaT</td>\n",
              "      <td>NaT</td>\n",
              "      <td>2020.0</td>\n",
              "      <td>1.930915e+09</td>\n",
              "      <td>2020-05-20</td>\n",
              "      <td>2020-05-20</td>\n",
              "      <td>2020-06-04</td>\n",
              "      <td>USD</td>\n",
              "      <td>1</td>\n",
              "      <td>35442.45</td>\n",
              "      <td>NaT</td>\n",
              "      <td>8.0</td>\n",
              "      <td>15</td>\n",
              "    </tr>\n",
              "  </tbody>\n",
              "</table>\n",
              "<p>3952 rows × 15 columns</p>\n",
              "</div>"
            ],
            "text/plain": [
              "       business_code  cust_number  ... cust_payment_terms_numb duration_of_pay\n",
              "46643              1          201  ...                    32.0              32\n",
              "49615              1          463  ...                     2.0              35\n",
              "47527              1          140  ...                     8.0              15\n",
              "47285              1          326  ...                     8.0              15\n",
              "49321              1          178  ...                     8.0              15\n",
              "...              ...          ...  ...                     ...             ...\n",
              "47947              1          274  ...                     8.0              15\n",
              "47295              2           86  ...                    10.0              12\n",
              "47452              1          368  ...                     8.0              15\n",
              "48236              1          271  ...                     8.0              15\n",
              "46534              1          277  ...                     8.0              15\n",
              "\n",
              "[3952 rows x 15 columns]"
            ]
          },
          "metadata": {
            "tags": []
          },
          "execution_count": 842
        }
      ]
    },
    {
      "cell_type": "code",
      "metadata": {
        "id": "vyXbMIyR5cH0"
      },
      "source": [
        "predicted_delay = lr.predict(X_test)"
      ],
      "execution_count": 858,
      "outputs": []
    },
    {
      "cell_type": "code",
      "metadata": {
        "id": "1WOQ2UXS64Pq"
      },
      "source": [
        "predicted_delay = predicted_delay.astype(int)\n",
        "due_date = test_set.due_in_date.to_numpy()\n",
        "indices = test_set.invoice_id\n",
        "open_amt = test_set.total_open_amount\n"
      ],
      "execution_count": 871,
      "outputs": []
    },
    {
      "cell_type": "code",
      "metadata": {
        "id": "_dQ9AupXDpFC"
      },
      "source": [
        "output_df = []\n",
        "for idx, dd, amt, delay in zip(indices, due_date, open_amt, predicted_delay):\n",
        "  bucket = '0-15 days'\n",
        "  if delay > 15 and delay < 31:\n",
        "    bucket = \"31-45 days\"\n",
        "  if delay > 45:\n",
        "    bucket = \">60 days\"\n",
        "  \n",
        "  dd_ = datetime.datetime.strptime(str(dd)[:10], \"%Y-%M-%d\")\n",
        "\n",
        "\n",
        "  output_df.append([idx,  str(dd)[:10], amt, (dd_ + datetime.timedelta(days=int(delay))).strftime(\"%Y-%M-%d\"), bucket])\n",
        "\n",
        "output_df = pd.DataFrame(output_df, columns=[\"Invoice No\", \"Due Date\", \"Actual Open Amt($)\", \"Payment Date\", \"Aging Bucket\"])"
      ],
      "execution_count": 872,
      "outputs": []
    },
    {
      "cell_type": "code",
      "metadata": {
        "colab": {
          "base_uri": "https://localhost:8080/",
          "height": 402
        },
        "id": "H-esr2x3ZjgM",
        "outputId": "85ac464e-d927-4ea7-b326-18e96679731b"
      },
      "source": [
        "output_df"
      ],
      "execution_count": 873,
      "outputs": [
        {
          "output_type": "execute_result",
          "data": {
            "text/html": [
              "<div>\n",
              "<style scoped>\n",
              "    .dataframe tbody tr th:only-of-type {\n",
              "        vertical-align: middle;\n",
              "    }\n",
              "\n",
              "    .dataframe tbody tr th {\n",
              "        vertical-align: top;\n",
              "    }\n",
              "\n",
              "    .dataframe thead th {\n",
              "        text-align: right;\n",
              "    }\n",
              "</style>\n",
              "<table border=\"1\" class=\"dataframe\">\n",
              "  <thead>\n",
              "    <tr style=\"text-align: right;\">\n",
              "      <th></th>\n",
              "      <th>Invoice No</th>\n",
              "      <th>Due Date</th>\n",
              "      <th>Actual Open Amt($)</th>\n",
              "      <th>Payment Date</th>\n",
              "      <th>Aging Bucket</th>\n",
              "    </tr>\n",
              "  </thead>\n",
              "  <tbody>\n",
              "    <tr>\n",
              "      <th>0</th>\n",
              "      <td>1.930578e+09</td>\n",
              "      <td>2020-03-30</td>\n",
              "      <td>14465.24</td>\n",
              "      <td>2020-03-22</td>\n",
              "      <td>0-15 days</td>\n",
              "    </tr>\n",
              "    <tr>\n",
              "      <th>1</th>\n",
              "      <td>1.930571e+09</td>\n",
              "      <td>2020-04-02</td>\n",
              "      <td>29376.00</td>\n",
              "      <td>2019-04-27</td>\n",
              "      <td>0-15 days</td>\n",
              "    </tr>\n",
              "    <tr>\n",
              "      <th>2</th>\n",
              "      <td>1.930577e+09</td>\n",
              "      <td>2020-03-13</td>\n",
              "      <td>16462.80</td>\n",
              "      <td>2020-03-08</td>\n",
              "      <td>0-15 days</td>\n",
              "    </tr>\n",
              "    <tr>\n",
              "      <th>3</th>\n",
              "      <td>1.930549e+09</td>\n",
              "      <td>2020-03-13</td>\n",
              "      <td>9975.34</td>\n",
              "      <td>2020-03-10</td>\n",
              "      <td>0-15 days</td>\n",
              "    </tr>\n",
              "    <tr>\n",
              "      <th>4</th>\n",
              "      <td>1.930567e+09</td>\n",
              "      <td>2020-03-13</td>\n",
              "      <td>32979.53</td>\n",
              "      <td>2020-03-08</td>\n",
              "      <td>0-15 days</td>\n",
              "    </tr>\n",
              "    <tr>\n",
              "      <th>...</th>\n",
              "      <td>...</td>\n",
              "      <td>...</td>\n",
              "      <td>...</td>\n",
              "      <td>...</td>\n",
              "      <td>...</td>\n",
              "    </tr>\n",
              "    <tr>\n",
              "      <th>3947</th>\n",
              "      <td>1.930885e+09</td>\n",
              "      <td>2020-05-27</td>\n",
              "      <td>13543.73</td>\n",
              "      <td>2020-05-23</td>\n",
              "      <td>0-15 days</td>\n",
              "    </tr>\n",
              "    <tr>\n",
              "      <th>3948</th>\n",
              "      <td>1.930885e+09</td>\n",
              "      <td>2020-05-27</td>\n",
              "      <td>4516.69</td>\n",
              "      <td>2020-05-30</td>\n",
              "      <td>0-15 days</td>\n",
              "    </tr>\n",
              "    <tr>\n",
              "      <th>3949</th>\n",
              "      <td>1.930884e+09</td>\n",
              "      <td>2020-05-27</td>\n",
              "      <td>10151.17</td>\n",
              "      <td>2020-05-24</td>\n",
              "      <td>0-15 days</td>\n",
              "    </tr>\n",
              "    <tr>\n",
              "      <th>3950</th>\n",
              "      <td>1.930885e+09</td>\n",
              "      <td>2020-05-27</td>\n",
              "      <td>34279.58</td>\n",
              "      <td>2020-05-23</td>\n",
              "      <td>0-15 days</td>\n",
              "    </tr>\n",
              "    <tr>\n",
              "      <th>3951</th>\n",
              "      <td>1.930889e+09</td>\n",
              "      <td>2020-05-27</td>\n",
              "      <td>42453.11</td>\n",
              "      <td>2020-05-23</td>\n",
              "      <td>0-15 days</td>\n",
              "    </tr>\n",
              "  </tbody>\n",
              "</table>\n",
              "<p>3952 rows × 5 columns</p>\n",
              "</div>"
            ],
            "text/plain": [
              "        Invoice No    Due Date  Actual Open Amt($) Payment Date Aging Bucket\n",
              "0     1.930578e+09  2020-03-30            14465.24   2020-03-22    0-15 days\n",
              "1     1.930571e+09  2020-04-02            29376.00   2019-04-27    0-15 days\n",
              "2     1.930577e+09  2020-03-13            16462.80   2020-03-08    0-15 days\n",
              "3     1.930549e+09  2020-03-13             9975.34   2020-03-10    0-15 days\n",
              "4     1.930567e+09  2020-03-13            32979.53   2020-03-08    0-15 days\n",
              "...            ...         ...                 ...          ...          ...\n",
              "3947  1.930885e+09  2020-05-27            13543.73   2020-05-23    0-15 days\n",
              "3948  1.930885e+09  2020-05-27             4516.69   2020-05-30    0-15 days\n",
              "3949  1.930884e+09  2020-05-27            10151.17   2020-05-24    0-15 days\n",
              "3950  1.930885e+09  2020-05-27            34279.58   2020-05-23    0-15 days\n",
              "3951  1.930889e+09  2020-05-27            42453.11   2020-05-23    0-15 days\n",
              "\n",
              "[3952 rows x 5 columns]"
            ]
          },
          "metadata": {
            "tags": []
          },
          "execution_count": 873
        }
      ]
    },
    {
      "cell_type": "code",
      "metadata": {
        "id": "Zw9PbddEGGaQ"
      },
      "source": [
        "output_df.to_csv(\"clear_date_prediction.csv\", index=False)"
      ],
      "execution_count": 874,
      "outputs": []
    },
    {
      "cell_type": "code",
      "metadata": {
        "id": "tSIdT8ifGJa9"
      },
      "source": [
        ""
      ],
      "execution_count": null,
      "outputs": []
    }
  ]
}